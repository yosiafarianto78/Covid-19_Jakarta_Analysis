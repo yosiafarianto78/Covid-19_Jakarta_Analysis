{
 "cells": [
  {
   "cell_type": "markdown",
   "metadata": {},
   "source": [
    "<h1>Kelompok 2</h1>\n",
    "<h2>Anggota Kelompok : </h2>\n",
    "<ul>\n",
    "    <li>Khenny Fileo Suciady</li>\n",
    "    <li>Yosia Farianto</li>\n",
    "    <li>Jody Nordberg Imanuel</li>\n",
    "<ul>"
   ]
  },
  {
   "cell_type": "markdown",
   "metadata": {},
   "source": [
    "# Memanggil data"
   ]
  },
  {
   "cell_type": "code",
   "execution_count": 151,
   "metadata": {
    "id": "xpn28RAWeY6d"
   },
   "outputs": [],
   "source": [
    "#  Memanggil semua data dari file excel\n",
    "\n",
    "import pandas as pd\n",
    "\n",
    "\n",
    "data_indojakarta = pd.read_excel('Daily Update Data Agregat Covid-19 Jakarta.xlsx', sheet_name='Data Indonesia dan Jakarta')\n",
    "data_rdt_ag = pd.read_excel('Daily Update Data Agregat Covid-19 Jakarta.xlsx', sheet_name='RDT Ag', header=[0,1])\n",
    "data_vaksinasi = pd.read_excel('Daily Update Data Agregat Covid-19 Jakarta.xlsx', sheet_name='Vaksinasi', header=[0,1,2], skiprows=2)"
   ]
  },
  {
   "cell_type": "markdown",
   "metadata": {},
   "source": [
    "# 1. Model regresi berdasarkan hari untuk kasus Positif Harian Jakarta (data diambil dari kolom Tanggal Positif Harian (Jakarta) dari sheet Data Indonesia dan Jakarta):\n",
    "\n",
    "• Mulai dari 1 Maret 2020 semenjak kasus pertama\n",
    "\n",
    "• Mulai dari 1 Januari 2021 semenjak awal tahun baru\n",
    "\n",
    "• Mulai dari 9 Februari 2021 semenjak diadakan PPKM jilid 2\n"
   ]
  },
  {
   "cell_type": "code",
   "execution_count": 152,
   "metadata": {
    "colab": {
     "base_uri": "https://localhost:8080/",
     "height": 360
    },
    "id": "t8oOVGTctDxG",
    "outputId": "593229c9-e6ab-40c7-88f4-980c8fd64a4a",
    "scrolled": true
   },
   "outputs": [
    {
     "data": {
      "text/html": [
       "<div>\n",
       "<style scoped>\n",
       "    .dataframe tbody tr th:only-of-type {\n",
       "        vertical-align: middle;\n",
       "    }\n",
       "\n",
       "    .dataframe tbody tr th {\n",
       "        vertical-align: top;\n",
       "    }\n",
       "\n",
       "    .dataframe thead th {\n",
       "        text-align: right;\n",
       "    }\n",
       "</style>\n",
       "<table border=\"1\" class=\"dataframe\">\n",
       "  <thead>\n",
       "    <tr style=\"text-align: right;\">\n",
       "      <th></th>\n",
       "      <th>Tanggal</th>\n",
       "      <th>Meninggal (Indonesia)</th>\n",
       "      <th>Sembuh (Indonesia)</th>\n",
       "      <th>Dirawat (Indonesia)</th>\n",
       "      <th>Positif (Indonesia)</th>\n",
       "      <th>Meninggal (Jakarta)</th>\n",
       "      <th>Sembuh (Jakarta)</th>\n",
       "      <th>Self-Isolation (Jakarta)</th>\n",
       "      <th>Dirawat (Jakarta)</th>\n",
       "      <th>Positif (Jakarta)</th>\n",
       "      <th>...</th>\n",
       "      <th>Sembuh Harian (Jakarta)</th>\n",
       "      <th>Self-Isolation Harian (Jakarta)</th>\n",
       "      <th>Dirawat Harian (Jakarta)</th>\n",
       "      <th>Positif Harian (Jakarta)</th>\n",
       "      <th>Positif Aktif Harian (Jakarta)</th>\n",
       "      <th>Unnamed: 21</th>\n",
       "      <th>Unnamed: 22</th>\n",
       "      <th>Unnamed: 23</th>\n",
       "      <th>Unnamed: 24</th>\n",
       "      <th>Unnamed: 25</th>\n",
       "    </tr>\n",
       "  </thead>\n",
       "  <tbody>\n",
       "    <tr>\n",
       "      <th>0</th>\n",
       "      <td>2020-03-01</td>\n",
       "      <td>0</td>\n",
       "      <td>0</td>\n",
       "      <td>0</td>\n",
       "      <td>0</td>\n",
       "      <td>0</td>\n",
       "      <td>0</td>\n",
       "      <td>0</td>\n",
       "      <td>0</td>\n",
       "      <td>0</td>\n",
       "      <td>...</td>\n",
       "      <td>0</td>\n",
       "      <td>0</td>\n",
       "      <td>0</td>\n",
       "      <td>0</td>\n",
       "      <td>0</td>\n",
       "      <td>NaN</td>\n",
       "      <td>NaN</td>\n",
       "      <td>NaN</td>\n",
       "      <td>NaN</td>\n",
       "      <td>NaN</td>\n",
       "    </tr>\n",
       "    <tr>\n",
       "      <th>1</th>\n",
       "      <td>2020-03-02</td>\n",
       "      <td>0</td>\n",
       "      <td>0</td>\n",
       "      <td>2</td>\n",
       "      <td>2</td>\n",
       "      <td>0</td>\n",
       "      <td>0</td>\n",
       "      <td>0</td>\n",
       "      <td>0</td>\n",
       "      <td>0</td>\n",
       "      <td>...</td>\n",
       "      <td>0</td>\n",
       "      <td>0</td>\n",
       "      <td>0</td>\n",
       "      <td>0</td>\n",
       "      <td>0</td>\n",
       "      <td>NaN</td>\n",
       "      <td>NaN</td>\n",
       "      <td>NaN</td>\n",
       "      <td>NaN</td>\n",
       "      <td>NaN</td>\n",
       "    </tr>\n",
       "    <tr>\n",
       "      <th>2</th>\n",
       "      <td>2020-03-03</td>\n",
       "      <td>0</td>\n",
       "      <td>0</td>\n",
       "      <td>2</td>\n",
       "      <td>2</td>\n",
       "      <td>1</td>\n",
       "      <td>0</td>\n",
       "      <td>0</td>\n",
       "      <td>2</td>\n",
       "      <td>3</td>\n",
       "      <td>...</td>\n",
       "      <td>0</td>\n",
       "      <td>0</td>\n",
       "      <td>2</td>\n",
       "      <td>3</td>\n",
       "      <td>2</td>\n",
       "      <td>NaN</td>\n",
       "      <td>NaN</td>\n",
       "      <td>NaN</td>\n",
       "      <td>NaN</td>\n",
       "      <td>NaN</td>\n",
       "    </tr>\n",
       "    <tr>\n",
       "      <th>3</th>\n",
       "      <td>2020-03-04</td>\n",
       "      <td>0</td>\n",
       "      <td>0</td>\n",
       "      <td>2</td>\n",
       "      <td>2</td>\n",
       "      <td>1</td>\n",
       "      <td>0</td>\n",
       "      <td>0</td>\n",
       "      <td>2</td>\n",
       "      <td>3</td>\n",
       "      <td>...</td>\n",
       "      <td>0</td>\n",
       "      <td>0</td>\n",
       "      <td>0</td>\n",
       "      <td>0</td>\n",
       "      <td>0</td>\n",
       "      <td>NaN</td>\n",
       "      <td>NaN</td>\n",
       "      <td>NaN</td>\n",
       "      <td>NaN</td>\n",
       "      <td>NaN</td>\n",
       "    </tr>\n",
       "    <tr>\n",
       "      <th>4</th>\n",
       "      <td>2020-03-05</td>\n",
       "      <td>0</td>\n",
       "      <td>0</td>\n",
       "      <td>2</td>\n",
       "      <td>2</td>\n",
       "      <td>3</td>\n",
       "      <td>0</td>\n",
       "      <td>0</td>\n",
       "      <td>4</td>\n",
       "      <td>7</td>\n",
       "      <td>...</td>\n",
       "      <td>0</td>\n",
       "      <td>0</td>\n",
       "      <td>2</td>\n",
       "      <td>4</td>\n",
       "      <td>2</td>\n",
       "      <td>NaN</td>\n",
       "      <td>NaN</td>\n",
       "      <td>NaN</td>\n",
       "      <td>NaN</td>\n",
       "      <td>NaN</td>\n",
       "    </tr>\n",
       "  </tbody>\n",
       "</table>\n",
       "<p>5 rows × 26 columns</p>\n",
       "</div>"
      ],
      "text/plain": [
       "     Tanggal  Meninggal (Indonesia)  Sembuh (Indonesia)  Dirawat (Indonesia)  \\\n",
       "0 2020-03-01                      0                   0                    0   \n",
       "1 2020-03-02                      0                   0                    2   \n",
       "2 2020-03-03                      0                   0                    2   \n",
       "3 2020-03-04                      0                   0                    2   \n",
       "4 2020-03-05                      0                   0                    2   \n",
       "\n",
       "   Positif (Indonesia)  Meninggal (Jakarta)  Sembuh (Jakarta)  \\\n",
       "0                    0                    0                 0   \n",
       "1                    2                    0                 0   \n",
       "2                    2                    1                 0   \n",
       "3                    2                    1                 0   \n",
       "4                    2                    3                 0   \n",
       "\n",
       "   Self-Isolation (Jakarta)  Dirawat (Jakarta)  Positif (Jakarta)  ...  \\\n",
       "0                         0                  0                  0  ...   \n",
       "1                         0                  0                  0  ...   \n",
       "2                         0                  2                  3  ...   \n",
       "3                         0                  2                  3  ...   \n",
       "4                         0                  4                  7  ...   \n",
       "\n",
       "   Sembuh Harian (Jakarta)  Self-Isolation Harian (Jakarta)  \\\n",
       "0                        0                                0   \n",
       "1                        0                                0   \n",
       "2                        0                                0   \n",
       "3                        0                                0   \n",
       "4                        0                                0   \n",
       "\n",
       "   Dirawat Harian (Jakarta)  Positif Harian (Jakarta)  \\\n",
       "0                         0                         0   \n",
       "1                         0                         0   \n",
       "2                         2                         3   \n",
       "3                         0                         0   \n",
       "4                         2                         4   \n",
       "\n",
       "   Positif Aktif Harian (Jakarta)  Unnamed: 21  Unnamed: 22  Unnamed: 23  \\\n",
       "0                               0          NaN          NaN          NaN   \n",
       "1                               0          NaN          NaN          NaN   \n",
       "2                               2          NaN          NaN          NaN   \n",
       "3                               0          NaN          NaN          NaN   \n",
       "4                               2          NaN          NaN          NaN   \n",
       "\n",
       "   Unnamed: 24  Unnamed: 25  \n",
       "0          NaN          NaN  \n",
       "1          NaN          NaN  \n",
       "2          NaN          NaN  \n",
       "3          NaN          NaN  \n",
       "4          NaN          NaN  \n",
       "\n",
       "[5 rows x 26 columns]"
      ]
     },
     "execution_count": 152,
     "metadata": {},
     "output_type": "execute_result"
    }
   ],
   "source": [
    "#  5 data awal untuk data Indonesia dan Jakarta\n",
    "data_indojakarta.head(5)"
   ]
  },
  {
   "cell_type": "code",
   "execution_count": 3,
   "metadata": {},
   "outputs": [
    {
     "name": "stdout",
     "output_type": "stream",
     "text": [
      "<class 'pandas.core.frame.DataFrame'>\n",
      "RangeIndex: 407 entries, 0 to 406\n",
      "Data columns (total 26 columns):\n",
      " #   Column                           Non-Null Count  Dtype         \n",
      "---  ------                           --------------  -----         \n",
      " 0   Tanggal                          407 non-null    datetime64[ns]\n",
      " 1   Meninggal (Indonesia)            407 non-null    int64         \n",
      " 2   Sembuh (Indonesia)               407 non-null    int64         \n",
      " 3   Dirawat (Indonesia)              407 non-null    int64         \n",
      " 4   Positif (Indonesia)              407 non-null    int64         \n",
      " 5   Meninggal (Jakarta)              407 non-null    int64         \n",
      " 6   Sembuh (Jakarta)                 407 non-null    int64         \n",
      " 7   Self-Isolation (Jakarta)         407 non-null    int64         \n",
      " 8   Dirawat (Jakarta)                407 non-null    int64         \n",
      " 9   Positif (Jakarta)                407 non-null    int64         \n",
      " 10  Positif Aktif (Jakarta)          407 non-null    int64         \n",
      " 11  Meninggal Harian (Indonesia)     407 non-null    int64         \n",
      " 12  Sembuh Harian (Indonesia)        407 non-null    int64         \n",
      " 13  Dirawat Harian (Indonesia)       407 non-null    int64         \n",
      " 14  Positif Harian (Indonesia)       407 non-null    int64         \n",
      " 15  Meninggal Harian (Jakarta)       407 non-null    int64         \n",
      " 16  Sembuh Harian (Jakarta)          407 non-null    int64         \n",
      " 17  Self-Isolation Harian (Jakarta)  407 non-null    int64         \n",
      " 18  Dirawat Harian (Jakarta)         407 non-null    int64         \n",
      " 19  Positif Harian (Jakarta)         407 non-null    int64         \n",
      " 20  Positif Aktif Harian (Jakarta)   407 non-null    int64         \n",
      " 21  Unnamed: 21                      0 non-null      float64       \n",
      " 22  Unnamed: 22                      0 non-null      float64       \n",
      " 23  Unnamed: 23                      0 non-null      float64       \n",
      " 24  Unnamed: 24                      0 non-null      float64       \n",
      " 25  Unnamed: 25                      0 non-null      float64       \n",
      "dtypes: datetime64[ns](1), float64(5), int64(20)\n",
      "memory usage: 82.8 KB\n"
     ]
    }
   ],
   "source": [
    "# Informasi data_indojakarta\n",
    "\n",
    "data_indojakarta.info()"
   ]
  },
  {
   "cell_type": "code",
   "execution_count": 4,
   "metadata": {},
   "outputs": [],
   "source": [
    "#  menghapus column yang memilki nilai null\n",
    "data_indojakarta = data_indojakarta.dropna(axis='columns')"
   ]
  },
  {
   "cell_type": "markdown",
   "metadata": {},
   "source": [
    "# Mengubah data bertipe datetime ke dalam integer menggunakan OrdinalEncoder"
   ]
  },
  {
   "cell_type": "code",
   "execution_count": 5,
   "metadata": {
    "id": "SyL0QFpOty6M",
    "scrolled": true
   },
   "outputs": [
    {
     "data": {
      "text/plain": [
       "array([[  1.],\n",
       "       [  2.],\n",
       "       [  3.],\n",
       "       [  4.],\n",
       "       [  5.],\n",
       "       [  6.],\n",
       "       [  7.],\n",
       "       [  8.],\n",
       "       [  9.],\n",
       "       [ 10.],\n",
       "       [ 11.],\n",
       "       [ 12.],\n",
       "       [ 13.],\n",
       "       [ 14.],\n",
       "       [ 15.],\n",
       "       [ 16.],\n",
       "       [ 17.],\n",
       "       [ 18.],\n",
       "       [ 19.],\n",
       "       [ 20.],\n",
       "       [ 21.],\n",
       "       [ 22.],\n",
       "       [ 23.],\n",
       "       [ 24.],\n",
       "       [ 25.],\n",
       "       [ 26.],\n",
       "       [ 27.],\n",
       "       [ 28.],\n",
       "       [ 29.],\n",
       "       [ 30.],\n",
       "       [ 31.],\n",
       "       [ 32.],\n",
       "       [ 33.],\n",
       "       [ 34.],\n",
       "       [ 35.],\n",
       "       [ 36.],\n",
       "       [ 37.],\n",
       "       [ 38.],\n",
       "       [ 39.],\n",
       "       [ 40.],\n",
       "       [ 41.],\n",
       "       [ 42.],\n",
       "       [ 43.],\n",
       "       [ 44.],\n",
       "       [ 45.],\n",
       "       [ 46.],\n",
       "       [ 47.],\n",
       "       [ 48.],\n",
       "       [ 49.],\n",
       "       [ 50.],\n",
       "       [ 51.],\n",
       "       [ 52.],\n",
       "       [ 53.],\n",
       "       [ 54.],\n",
       "       [ 55.],\n",
       "       [ 56.],\n",
       "       [ 57.],\n",
       "       [ 58.],\n",
       "       [ 59.],\n",
       "       [ 60.],\n",
       "       [ 61.],\n",
       "       [ 62.],\n",
       "       [ 63.],\n",
       "       [ 64.],\n",
       "       [ 65.],\n",
       "       [ 66.],\n",
       "       [ 67.],\n",
       "       [ 68.],\n",
       "       [ 69.],\n",
       "       [ 70.],\n",
       "       [ 71.],\n",
       "       [ 72.],\n",
       "       [ 73.],\n",
       "       [ 74.],\n",
       "       [ 75.],\n",
       "       [ 76.],\n",
       "       [ 77.],\n",
       "       [ 78.],\n",
       "       [ 79.],\n",
       "       [ 80.],\n",
       "       [ 81.],\n",
       "       [ 82.],\n",
       "       [ 83.],\n",
       "       [ 84.],\n",
       "       [ 85.],\n",
       "       [ 86.],\n",
       "       [ 87.],\n",
       "       [ 88.],\n",
       "       [ 89.],\n",
       "       [ 90.],\n",
       "       [ 91.],\n",
       "       [ 92.],\n",
       "       [ 93.],\n",
       "       [ 94.],\n",
       "       [ 95.],\n",
       "       [ 96.],\n",
       "       [ 97.],\n",
       "       [ 98.],\n",
       "       [ 99.],\n",
       "       [100.],\n",
       "       [101.],\n",
       "       [102.],\n",
       "       [103.],\n",
       "       [104.],\n",
       "       [105.],\n",
       "       [106.],\n",
       "       [107.],\n",
       "       [108.],\n",
       "       [109.],\n",
       "       [110.],\n",
       "       [111.],\n",
       "       [112.],\n",
       "       [113.],\n",
       "       [114.],\n",
       "       [115.],\n",
       "       [116.],\n",
       "       [117.],\n",
       "       [118.],\n",
       "       [119.],\n",
       "       [120.],\n",
       "       [121.],\n",
       "       [122.],\n",
       "       [123.],\n",
       "       [124.],\n",
       "       [125.],\n",
       "       [126.],\n",
       "       [127.],\n",
       "       [128.],\n",
       "       [129.],\n",
       "       [130.],\n",
       "       [131.],\n",
       "       [132.],\n",
       "       [133.],\n",
       "       [134.],\n",
       "       [135.],\n",
       "       [136.],\n",
       "       [137.],\n",
       "       [138.],\n",
       "       [139.],\n",
       "       [140.],\n",
       "       [141.],\n",
       "       [142.],\n",
       "       [143.],\n",
       "       [144.],\n",
       "       [145.],\n",
       "       [146.],\n",
       "       [147.],\n",
       "       [148.],\n",
       "       [149.],\n",
       "       [150.],\n",
       "       [151.],\n",
       "       [152.],\n",
       "       [153.],\n",
       "       [154.],\n",
       "       [155.],\n",
       "       [156.],\n",
       "       [157.],\n",
       "       [158.],\n",
       "       [159.],\n",
       "       [160.],\n",
       "       [161.],\n",
       "       [162.],\n",
       "       [163.],\n",
       "       [164.],\n",
       "       [165.],\n",
       "       [166.],\n",
       "       [167.],\n",
       "       [168.],\n",
       "       [169.],\n",
       "       [170.],\n",
       "       [171.],\n",
       "       [172.],\n",
       "       [173.],\n",
       "       [174.],\n",
       "       [175.],\n",
       "       [176.],\n",
       "       [177.],\n",
       "       [178.],\n",
       "       [179.],\n",
       "       [180.],\n",
       "       [181.],\n",
       "       [182.],\n",
       "       [183.],\n",
       "       [184.],\n",
       "       [185.],\n",
       "       [186.],\n",
       "       [187.],\n",
       "       [188.],\n",
       "       [189.],\n",
       "       [190.],\n",
       "       [191.],\n",
       "       [192.],\n",
       "       [193.],\n",
       "       [194.],\n",
       "       [195.],\n",
       "       [196.],\n",
       "       [197.],\n",
       "       [198.],\n",
       "       [199.],\n",
       "       [200.],\n",
       "       [201.],\n",
       "       [202.],\n",
       "       [203.],\n",
       "       [204.],\n",
       "       [205.],\n",
       "       [206.],\n",
       "       [207.],\n",
       "       [208.],\n",
       "       [209.],\n",
       "       [210.],\n",
       "       [211.],\n",
       "       [212.],\n",
       "       [213.],\n",
       "       [214.],\n",
       "       [215.],\n",
       "       [216.],\n",
       "       [217.],\n",
       "       [218.],\n",
       "       [219.],\n",
       "       [220.],\n",
       "       [221.],\n",
       "       [222.],\n",
       "       [223.],\n",
       "       [224.],\n",
       "       [225.],\n",
       "       [226.],\n",
       "       [227.],\n",
       "       [228.],\n",
       "       [229.],\n",
       "       [230.],\n",
       "       [231.],\n",
       "       [232.],\n",
       "       [233.],\n",
       "       [234.],\n",
       "       [235.],\n",
       "       [236.],\n",
       "       [237.],\n",
       "       [238.],\n",
       "       [239.],\n",
       "       [240.],\n",
       "       [241.],\n",
       "       [242.],\n",
       "       [243.],\n",
       "       [244.],\n",
       "       [245.],\n",
       "       [246.],\n",
       "       [247.],\n",
       "       [248.],\n",
       "       [249.],\n",
       "       [250.],\n",
       "       [251.],\n",
       "       [252.],\n",
       "       [253.],\n",
       "       [254.],\n",
       "       [255.],\n",
       "       [256.],\n",
       "       [257.],\n",
       "       [258.],\n",
       "       [259.],\n",
       "       [260.],\n",
       "       [261.],\n",
       "       [262.],\n",
       "       [263.],\n",
       "       [264.],\n",
       "       [265.],\n",
       "       [266.],\n",
       "       [267.],\n",
       "       [268.],\n",
       "       [269.],\n",
       "       [270.],\n",
       "       [271.],\n",
       "       [272.],\n",
       "       [273.],\n",
       "       [274.],\n",
       "       [275.],\n",
       "       [276.],\n",
       "       [277.],\n",
       "       [278.],\n",
       "       [279.],\n",
       "       [280.],\n",
       "       [281.],\n",
       "       [282.],\n",
       "       [283.],\n",
       "       [284.],\n",
       "       [285.],\n",
       "       [286.],\n",
       "       [287.],\n",
       "       [288.],\n",
       "       [289.],\n",
       "       [290.],\n",
       "       [291.],\n",
       "       [292.],\n",
       "       [293.],\n",
       "       [294.],\n",
       "       [295.],\n",
       "       [296.],\n",
       "       [297.],\n",
       "       [298.],\n",
       "       [299.],\n",
       "       [300.],\n",
       "       [301.],\n",
       "       [302.],\n",
       "       [303.],\n",
       "       [304.],\n",
       "       [305.],\n",
       "       [306.],\n",
       "       [307.],\n",
       "       [308.],\n",
       "       [309.],\n",
       "       [310.],\n",
       "       [311.],\n",
       "       [312.],\n",
       "       [313.],\n",
       "       [314.],\n",
       "       [315.],\n",
       "       [316.],\n",
       "       [317.],\n",
       "       [318.],\n",
       "       [319.],\n",
       "       [320.],\n",
       "       [321.],\n",
       "       [322.],\n",
       "       [323.],\n",
       "       [324.],\n",
       "       [325.],\n",
       "       [326.],\n",
       "       [327.],\n",
       "       [328.],\n",
       "       [329.],\n",
       "       [330.],\n",
       "       [331.],\n",
       "       [332.],\n",
       "       [333.],\n",
       "       [334.],\n",
       "       [335.],\n",
       "       [336.],\n",
       "       [337.],\n",
       "       [338.],\n",
       "       [339.],\n",
       "       [340.],\n",
       "       [341.],\n",
       "       [342.],\n",
       "       [343.],\n",
       "       [344.],\n",
       "       [345.],\n",
       "       [346.],\n",
       "       [347.],\n",
       "       [348.],\n",
       "       [349.],\n",
       "       [350.],\n",
       "       [351.],\n",
       "       [352.],\n",
       "       [353.],\n",
       "       [354.],\n",
       "       [355.],\n",
       "       [356.],\n",
       "       [357.],\n",
       "       [358.],\n",
       "       [359.],\n",
       "       [360.],\n",
       "       [361.],\n",
       "       [362.],\n",
       "       [363.],\n",
       "       [364.],\n",
       "       [365.],\n",
       "       [366.],\n",
       "       [367.],\n",
       "       [368.],\n",
       "       [369.],\n",
       "       [370.],\n",
       "       [371.],\n",
       "       [372.],\n",
       "       [373.],\n",
       "       [374.],\n",
       "       [375.],\n",
       "       [376.],\n",
       "       [377.],\n",
       "       [378.],\n",
       "       [379.],\n",
       "       [380.],\n",
       "       [381.],\n",
       "       [382.],\n",
       "       [383.],\n",
       "       [384.],\n",
       "       [385.],\n",
       "       [386.],\n",
       "       [387.],\n",
       "       [388.],\n",
       "       [389.],\n",
       "       [390.],\n",
       "       [391.],\n",
       "       [392.],\n",
       "       [393.],\n",
       "       [394.],\n",
       "       [395.],\n",
       "       [396.],\n",
       "       [397.],\n",
       "       [398.],\n",
       "       [399.],\n",
       "       [400.],\n",
       "       [401.],\n",
       "       [402.],\n",
       "       [403.],\n",
       "       [404.],\n",
       "       [405.],\n",
       "       [406.]])"
      ]
     },
     "execution_count": 5,
     "metadata": {},
     "output_type": "execute_result"
    }
   ],
   "source": [
    "# mengubah data pada column tanggal menjadi numerik menggunakan Ordinal Encoder\n",
    "from sklearn.preprocessing import OrdinalEncoder\n",
    "ordinal_encoder = OrdinalEncoder()\n",
    "data_indojakarta_encoded = ordinal_encoder.fit_transform(data_indojakarta[['Tanggal']])\n",
    "data_indojakarta_encoded[1:]\n",
    "\n",
    "\n"
   ]
  },
  {
   "cell_type": "code",
   "execution_count": 6,
   "metadata": {},
   "outputs": [
    {
     "data": {
      "text/html": [
       "<div>\n",
       "<style scoped>\n",
       "    .dataframe tbody tr th:only-of-type {\n",
       "        vertical-align: middle;\n",
       "    }\n",
       "\n",
       "    .dataframe tbody tr th {\n",
       "        vertical-align: top;\n",
       "    }\n",
       "\n",
       "    .dataframe thead th {\n",
       "        text-align: right;\n",
       "    }\n",
       "</style>\n",
       "<table border=\"1\" class=\"dataframe\">\n",
       "  <thead>\n",
       "    <tr style=\"text-align: right;\">\n",
       "      <th></th>\n",
       "      <th>Tanggal</th>\n",
       "      <th>Meninggal (Indonesia)</th>\n",
       "      <th>Sembuh (Indonesia)</th>\n",
       "      <th>Dirawat (Indonesia)</th>\n",
       "      <th>Positif (Indonesia)</th>\n",
       "      <th>Meninggal (Jakarta)</th>\n",
       "      <th>Sembuh (Jakarta)</th>\n",
       "      <th>Self-Isolation (Jakarta)</th>\n",
       "      <th>Dirawat (Jakarta)</th>\n",
       "      <th>Positif (Jakarta)</th>\n",
       "      <th>...</th>\n",
       "      <th>Meninggal Harian (Indonesia)</th>\n",
       "      <th>Sembuh Harian (Indonesia)</th>\n",
       "      <th>Dirawat Harian (Indonesia)</th>\n",
       "      <th>Positif Harian (Indonesia)</th>\n",
       "      <th>Meninggal Harian (Jakarta)</th>\n",
       "      <th>Sembuh Harian (Jakarta)</th>\n",
       "      <th>Self-Isolation Harian (Jakarta)</th>\n",
       "      <th>Dirawat Harian (Jakarta)</th>\n",
       "      <th>Positif Harian (Jakarta)</th>\n",
       "      <th>Positif Aktif Harian (Jakarta)</th>\n",
       "    </tr>\n",
       "  </thead>\n",
       "  <tbody>\n",
       "    <tr>\n",
       "      <th>0</th>\n",
       "      <td>0.0</td>\n",
       "      <td>0</td>\n",
       "      <td>0</td>\n",
       "      <td>0</td>\n",
       "      <td>0</td>\n",
       "      <td>0</td>\n",
       "      <td>0</td>\n",
       "      <td>0</td>\n",
       "      <td>0</td>\n",
       "      <td>0</td>\n",
       "      <td>...</td>\n",
       "      <td>0</td>\n",
       "      <td>0</td>\n",
       "      <td>0</td>\n",
       "      <td>0</td>\n",
       "      <td>0</td>\n",
       "      <td>0</td>\n",
       "      <td>0</td>\n",
       "      <td>0</td>\n",
       "      <td>0</td>\n",
       "      <td>0</td>\n",
       "    </tr>\n",
       "    <tr>\n",
       "      <th>1</th>\n",
       "      <td>1.0</td>\n",
       "      <td>0</td>\n",
       "      <td>0</td>\n",
       "      <td>2</td>\n",
       "      <td>2</td>\n",
       "      <td>0</td>\n",
       "      <td>0</td>\n",
       "      <td>0</td>\n",
       "      <td>0</td>\n",
       "      <td>0</td>\n",
       "      <td>...</td>\n",
       "      <td>0</td>\n",
       "      <td>0</td>\n",
       "      <td>2</td>\n",
       "      <td>2</td>\n",
       "      <td>0</td>\n",
       "      <td>0</td>\n",
       "      <td>0</td>\n",
       "      <td>0</td>\n",
       "      <td>0</td>\n",
       "      <td>0</td>\n",
       "    </tr>\n",
       "    <tr>\n",
       "      <th>2</th>\n",
       "      <td>2.0</td>\n",
       "      <td>0</td>\n",
       "      <td>0</td>\n",
       "      <td>2</td>\n",
       "      <td>2</td>\n",
       "      <td>1</td>\n",
       "      <td>0</td>\n",
       "      <td>0</td>\n",
       "      <td>2</td>\n",
       "      <td>3</td>\n",
       "      <td>...</td>\n",
       "      <td>0</td>\n",
       "      <td>0</td>\n",
       "      <td>0</td>\n",
       "      <td>0</td>\n",
       "      <td>1</td>\n",
       "      <td>0</td>\n",
       "      <td>0</td>\n",
       "      <td>2</td>\n",
       "      <td>3</td>\n",
       "      <td>2</td>\n",
       "    </tr>\n",
       "    <tr>\n",
       "      <th>3</th>\n",
       "      <td>3.0</td>\n",
       "      <td>0</td>\n",
       "      <td>0</td>\n",
       "      <td>2</td>\n",
       "      <td>2</td>\n",
       "      <td>1</td>\n",
       "      <td>0</td>\n",
       "      <td>0</td>\n",
       "      <td>2</td>\n",
       "      <td>3</td>\n",
       "      <td>...</td>\n",
       "      <td>0</td>\n",
       "      <td>0</td>\n",
       "      <td>0</td>\n",
       "      <td>0</td>\n",
       "      <td>0</td>\n",
       "      <td>0</td>\n",
       "      <td>0</td>\n",
       "      <td>0</td>\n",
       "      <td>0</td>\n",
       "      <td>0</td>\n",
       "    </tr>\n",
       "    <tr>\n",
       "      <th>4</th>\n",
       "      <td>4.0</td>\n",
       "      <td>0</td>\n",
       "      <td>0</td>\n",
       "      <td>2</td>\n",
       "      <td>2</td>\n",
       "      <td>3</td>\n",
       "      <td>0</td>\n",
       "      <td>0</td>\n",
       "      <td>4</td>\n",
       "      <td>7</td>\n",
       "      <td>...</td>\n",
       "      <td>0</td>\n",
       "      <td>0</td>\n",
       "      <td>0</td>\n",
       "      <td>0</td>\n",
       "      <td>2</td>\n",
       "      <td>0</td>\n",
       "      <td>0</td>\n",
       "      <td>2</td>\n",
       "      <td>4</td>\n",
       "      <td>2</td>\n",
       "    </tr>\n",
       "    <tr>\n",
       "      <th>...</th>\n",
       "      <td>...</td>\n",
       "      <td>...</td>\n",
       "      <td>...</td>\n",
       "      <td>...</td>\n",
       "      <td>...</td>\n",
       "      <td>...</td>\n",
       "      <td>...</td>\n",
       "      <td>...</td>\n",
       "      <td>...</td>\n",
       "      <td>...</td>\n",
       "      <td>...</td>\n",
       "      <td>...</td>\n",
       "      <td>...</td>\n",
       "      <td>...</td>\n",
       "      <td>...</td>\n",
       "      <td>...</td>\n",
       "      <td>...</td>\n",
       "      <td>...</td>\n",
       "      <td>...</td>\n",
       "      <td>...</td>\n",
       "      <td>...</td>\n",
       "    </tr>\n",
       "    <tr>\n",
       "      <th>402</th>\n",
       "      <td>402.0</td>\n",
       "      <td>42064</td>\n",
       "      <td>1391742</td>\n",
       "      <td>113570</td>\n",
       "      <td>1547376</td>\n",
       "      <td>6391</td>\n",
       "      <td>375651</td>\n",
       "      <td>2814</td>\n",
       "      <td>3482</td>\n",
       "      <td>388338</td>\n",
       "      <td>...</td>\n",
       "      <td>87</td>\n",
       "      <td>5769</td>\n",
       "      <td>-996</td>\n",
       "      <td>4860</td>\n",
       "      <td>12</td>\n",
       "      <td>571</td>\n",
       "      <td>109</td>\n",
       "      <td>170</td>\n",
       "      <td>862</td>\n",
       "      <td>279</td>\n",
       "    </tr>\n",
       "    <tr>\n",
       "      <th>403</th>\n",
       "      <td>403.0</td>\n",
       "      <td>42227</td>\n",
       "      <td>1399382</td>\n",
       "      <td>111271</td>\n",
       "      <td>1552880</td>\n",
       "      <td>6410</td>\n",
       "      <td>376270</td>\n",
       "      <td>3244</td>\n",
       "      <td>3653</td>\n",
       "      <td>389577</td>\n",
       "      <td>...</td>\n",
       "      <td>163</td>\n",
       "      <td>7640</td>\n",
       "      <td>-2299</td>\n",
       "      <td>5504</td>\n",
       "      <td>19</td>\n",
       "      <td>619</td>\n",
       "      <td>430</td>\n",
       "      <td>171</td>\n",
       "      <td>1239</td>\n",
       "      <td>601</td>\n",
       "    </tr>\n",
       "    <tr>\n",
       "      <th>404</th>\n",
       "      <td>404.0</td>\n",
       "      <td>42348</td>\n",
       "      <td>1405679</td>\n",
       "      <td>110118</td>\n",
       "      <td>1558145</td>\n",
       "      <td>6424</td>\n",
       "      <td>376959</td>\n",
       "      <td>3506</td>\n",
       "      <td>3701</td>\n",
       "      <td>390590</td>\n",
       "      <td>...</td>\n",
       "      <td>121</td>\n",
       "      <td>6297</td>\n",
       "      <td>-1153</td>\n",
       "      <td>5265</td>\n",
       "      <td>14</td>\n",
       "      <td>689</td>\n",
       "      <td>262</td>\n",
       "      <td>48</td>\n",
       "      <td>1013</td>\n",
       "      <td>310</td>\n",
       "    </tr>\n",
       "    <tr>\n",
       "      <th>405</th>\n",
       "      <td>405.0</td>\n",
       "      <td>42443</td>\n",
       "      <td>1409288</td>\n",
       "      <td>111137</td>\n",
       "      <td>1562868</td>\n",
       "      <td>6435</td>\n",
       "      <td>377797</td>\n",
       "      <td>3716</td>\n",
       "      <td>3619</td>\n",
       "      <td>391567</td>\n",
       "      <td>...</td>\n",
       "      <td>95</td>\n",
       "      <td>3609</td>\n",
       "      <td>1019</td>\n",
       "      <td>4723</td>\n",
       "      <td>11</td>\n",
       "      <td>838</td>\n",
       "      <td>210</td>\n",
       "      <td>-82</td>\n",
       "      <td>977</td>\n",
       "      <td>128</td>\n",
       "    </tr>\n",
       "    <tr>\n",
       "      <th>406</th>\n",
       "      <td>406.0</td>\n",
       "      <td>42530</td>\n",
       "      <td>1414507</td>\n",
       "      <td>109958</td>\n",
       "      <td>1566995</td>\n",
       "      <td>6450</td>\n",
       "      <td>379210</td>\n",
       "      <td>3617</td>\n",
       "      <td>3321</td>\n",
       "      <td>392598</td>\n",
       "      <td>...</td>\n",
       "      <td>87</td>\n",
       "      <td>5219</td>\n",
       "      <td>-1179</td>\n",
       "      <td>4127</td>\n",
       "      <td>15</td>\n",
       "      <td>1413</td>\n",
       "      <td>-99</td>\n",
       "      <td>-298</td>\n",
       "      <td>1031</td>\n",
       "      <td>-397</td>\n",
       "    </tr>\n",
       "  </tbody>\n",
       "</table>\n",
       "<p>407 rows × 21 columns</p>\n",
       "</div>"
      ],
      "text/plain": [
       "     Tanggal  Meninggal (Indonesia)  Sembuh (Indonesia)  Dirawat (Indonesia)  \\\n",
       "0        0.0                      0                   0                    0   \n",
       "1        1.0                      0                   0                    2   \n",
       "2        2.0                      0                   0                    2   \n",
       "3        3.0                      0                   0                    2   \n",
       "4        4.0                      0                   0                    2   \n",
       "..       ...                    ...                 ...                  ...   \n",
       "402    402.0                  42064             1391742               113570   \n",
       "403    403.0                  42227             1399382               111271   \n",
       "404    404.0                  42348             1405679               110118   \n",
       "405    405.0                  42443             1409288               111137   \n",
       "406    406.0                  42530             1414507               109958   \n",
       "\n",
       "     Positif (Indonesia)  Meninggal (Jakarta)  Sembuh (Jakarta)  \\\n",
       "0                      0                    0                 0   \n",
       "1                      2                    0                 0   \n",
       "2                      2                    1                 0   \n",
       "3                      2                    1                 0   \n",
       "4                      2                    3                 0   \n",
       "..                   ...                  ...               ...   \n",
       "402              1547376                 6391            375651   \n",
       "403              1552880                 6410            376270   \n",
       "404              1558145                 6424            376959   \n",
       "405              1562868                 6435            377797   \n",
       "406              1566995                 6450            379210   \n",
       "\n",
       "     Self-Isolation (Jakarta)  Dirawat (Jakarta)  Positif (Jakarta)  ...  \\\n",
       "0                           0                  0                  0  ...   \n",
       "1                           0                  0                  0  ...   \n",
       "2                           0                  2                  3  ...   \n",
       "3                           0                  2                  3  ...   \n",
       "4                           0                  4                  7  ...   \n",
       "..                        ...                ...                ...  ...   \n",
       "402                      2814               3482             388338  ...   \n",
       "403                      3244               3653             389577  ...   \n",
       "404                      3506               3701             390590  ...   \n",
       "405                      3716               3619             391567  ...   \n",
       "406                      3617               3321             392598  ...   \n",
       "\n",
       "     Meninggal Harian (Indonesia)  Sembuh Harian (Indonesia)  \\\n",
       "0                               0                          0   \n",
       "1                               0                          0   \n",
       "2                               0                          0   \n",
       "3                               0                          0   \n",
       "4                               0                          0   \n",
       "..                            ...                        ...   \n",
       "402                            87                       5769   \n",
       "403                           163                       7640   \n",
       "404                           121                       6297   \n",
       "405                            95                       3609   \n",
       "406                            87                       5219   \n",
       "\n",
       "     Dirawat Harian (Indonesia)  Positif Harian (Indonesia)  \\\n",
       "0                             0                           0   \n",
       "1                             2                           2   \n",
       "2                             0                           0   \n",
       "3                             0                           0   \n",
       "4                             0                           0   \n",
       "..                          ...                         ...   \n",
       "402                        -996                        4860   \n",
       "403                       -2299                        5504   \n",
       "404                       -1153                        5265   \n",
       "405                        1019                        4723   \n",
       "406                       -1179                        4127   \n",
       "\n",
       "     Meninggal Harian (Jakarta)  Sembuh Harian (Jakarta)  \\\n",
       "0                             0                        0   \n",
       "1                             0                        0   \n",
       "2                             1                        0   \n",
       "3                             0                        0   \n",
       "4                             2                        0   \n",
       "..                          ...                      ...   \n",
       "402                          12                      571   \n",
       "403                          19                      619   \n",
       "404                          14                      689   \n",
       "405                          11                      838   \n",
       "406                          15                     1413   \n",
       "\n",
       "     Self-Isolation Harian (Jakarta)  Dirawat Harian (Jakarta)  \\\n",
       "0                                  0                         0   \n",
       "1                                  0                         0   \n",
       "2                                  0                         2   \n",
       "3                                  0                         0   \n",
       "4                                  0                         2   \n",
       "..                               ...                       ...   \n",
       "402                              109                       170   \n",
       "403                              430                       171   \n",
       "404                              262                        48   \n",
       "405                              210                       -82   \n",
       "406                              -99                      -298   \n",
       "\n",
       "     Positif Harian (Jakarta)  Positif Aktif Harian (Jakarta)  \n",
       "0                           0                               0  \n",
       "1                           0                               0  \n",
       "2                           3                               2  \n",
       "3                           0                               0  \n",
       "4                           4                               2  \n",
       "..                        ...                             ...  \n",
       "402                       862                             279  \n",
       "403                      1239                             601  \n",
       "404                      1013                             310  \n",
       "405                       977                             128  \n",
       "406                      1031                            -397  \n",
       "\n",
       "[407 rows x 21 columns]"
      ]
     },
     "execution_count": 6,
     "metadata": {},
     "output_type": "execute_result"
    }
   ],
   "source": [
    "#  hasil dari Ordinal Encoder\n",
    "data_indojakarta['Tanggal'] = data_indojakarta_encoded\n",
    "data_indojakarta"
   ]
  },
  {
   "cell_type": "code",
   "execution_count": 7,
   "metadata": {},
   "outputs": [],
   "source": [
    "data_indojakarta = data_indojakarta.drop(data_indojakarta.iloc[0:, 1:19], axis=1)"
   ]
  },
  {
   "cell_type": "code",
   "execution_count": 8,
   "metadata": {},
   "outputs": [
    {
     "name": "stdout",
     "output_type": "stream",
     "text": [
      "<class 'pandas.core.frame.DataFrame'>\n",
      "RangeIndex: 407 entries, 0 to 406\n",
      "Data columns (total 3 columns):\n",
      " #   Column                          Non-Null Count  Dtype  \n",
      "---  ------                          --------------  -----  \n",
      " 0   Tanggal                         407 non-null    float64\n",
      " 1   Positif Harian (Jakarta)        407 non-null    int64  \n",
      " 2   Positif Aktif Harian (Jakarta)  407 non-null    int64  \n",
      "dtypes: float64(1), int64(2)\n",
      "memory usage: 9.7 KB\n"
     ]
    }
   ],
   "source": [
    "data_indojakarta.info()"
   ]
  },
  {
   "cell_type": "markdown",
   "metadata": {},
   "source": [
    "# Membagi data berdasarkan tanggal kedalam tiga variabel "
   ]
  },
  {
   "cell_type": "code",
   "execution_count": 9,
   "metadata": {
    "id": "bQb1Elkgob7D"
   },
   "outputs": [],
   "source": [
    "# data_indojakarta yang dimulai dari 1 Maret 2020\n",
    "# data_indojakarta yang dimulai dari 1 Januari 2021\n",
    "#  data_indojakarta yang dimulaidari 9 Februari 2021\n",
    "\n",
    "data_indojakarta_1_maret_2020 = data_indojakarta[1:]\n",
    "data_indojakarta_1_januari_2021 = data_indojakarta[306:]\n",
    "data_indojakarta_9_februari_2021 = data_indojakarta[345:]"
   ]
  },
  {
   "cell_type": "code",
   "execution_count": 10,
   "metadata": {},
   "outputs": [
    {
     "data": {
      "text/html": [
       "<div>\n",
       "<style scoped>\n",
       "    .dataframe tbody tr th:only-of-type {\n",
       "        vertical-align: middle;\n",
       "    }\n",
       "\n",
       "    .dataframe tbody tr th {\n",
       "        vertical-align: top;\n",
       "    }\n",
       "\n",
       "    .dataframe thead th {\n",
       "        text-align: right;\n",
       "    }\n",
       "</style>\n",
       "<table border=\"1\" class=\"dataframe\">\n",
       "  <thead>\n",
       "    <tr style=\"text-align: right;\">\n",
       "      <th></th>\n",
       "      <th>Tanggal</th>\n",
       "      <th>Positif Harian (Jakarta)</th>\n",
       "      <th>Positif Aktif Harian (Jakarta)</th>\n",
       "    </tr>\n",
       "  </thead>\n",
       "  <tbody>\n",
       "    <tr>\n",
       "      <th>1</th>\n",
       "      <td>1.0</td>\n",
       "      <td>0</td>\n",
       "      <td>0</td>\n",
       "    </tr>\n",
       "    <tr>\n",
       "      <th>2</th>\n",
       "      <td>2.0</td>\n",
       "      <td>3</td>\n",
       "      <td>2</td>\n",
       "    </tr>\n",
       "    <tr>\n",
       "      <th>3</th>\n",
       "      <td>3.0</td>\n",
       "      <td>0</td>\n",
       "      <td>0</td>\n",
       "    </tr>\n",
       "    <tr>\n",
       "      <th>4</th>\n",
       "      <td>4.0</td>\n",
       "      <td>4</td>\n",
       "      <td>2</td>\n",
       "    </tr>\n",
       "    <tr>\n",
       "      <th>5</th>\n",
       "      <td>5.0</td>\n",
       "      <td>0</td>\n",
       "      <td>0</td>\n",
       "    </tr>\n",
       "  </tbody>\n",
       "</table>\n",
       "</div>"
      ],
      "text/plain": [
       "   Tanggal  Positif Harian (Jakarta)  Positif Aktif Harian (Jakarta)\n",
       "1      1.0                         0                               0\n",
       "2      2.0                         3                               2\n",
       "3      3.0                         0                               0\n",
       "4      4.0                         4                               2\n",
       "5      5.0                         0                               0"
      ]
     },
     "execution_count": 10,
     "metadata": {},
     "output_type": "execute_result"
    }
   ],
   "source": [
    "#  1 Maret 2020\n",
    "data_indojakarta_1_maret_2020.head(5)"
   ]
  },
  {
   "cell_type": "code",
   "execution_count": 11,
   "metadata": {},
   "outputs": [
    {
     "data": {
      "text/html": [
       "<div>\n",
       "<style scoped>\n",
       "    .dataframe tbody tr th:only-of-type {\n",
       "        vertical-align: middle;\n",
       "    }\n",
       "\n",
       "    .dataframe tbody tr th {\n",
       "        vertical-align: top;\n",
       "    }\n",
       "\n",
       "    .dataframe thead th {\n",
       "        text-align: right;\n",
       "    }\n",
       "</style>\n",
       "<table border=\"1\" class=\"dataframe\">\n",
       "  <thead>\n",
       "    <tr style=\"text-align: right;\">\n",
       "      <th></th>\n",
       "      <th>Tanggal</th>\n",
       "      <th>Positif Harian (Jakarta)</th>\n",
       "      <th>Positif Aktif Harian (Jakarta)</th>\n",
       "    </tr>\n",
       "  </thead>\n",
       "  <tbody>\n",
       "    <tr>\n",
       "      <th>306</th>\n",
       "      <td>306.0</td>\n",
       "      <td>1956</td>\n",
       "      <td>304</td>\n",
       "    </tr>\n",
       "    <tr>\n",
       "      <th>307</th>\n",
       "      <td>307.0</td>\n",
       "      <td>1895</td>\n",
       "      <td>-400</td>\n",
       "    </tr>\n",
       "    <tr>\n",
       "      <th>308</th>\n",
       "      <td>308.0</td>\n",
       "      <td>1657</td>\n",
       "      <td>-83</td>\n",
       "    </tr>\n",
       "    <tr>\n",
       "      <th>309</th>\n",
       "      <td>309.0</td>\n",
       "      <td>1832</td>\n",
       "      <td>-718</td>\n",
       "    </tr>\n",
       "    <tr>\n",
       "      <th>310</th>\n",
       "      <td>310.0</td>\n",
       "      <td>1824</td>\n",
       "      <td>706</td>\n",
       "    </tr>\n",
       "  </tbody>\n",
       "</table>\n",
       "</div>"
      ],
      "text/plain": [
       "     Tanggal  Positif Harian (Jakarta)  Positif Aktif Harian (Jakarta)\n",
       "306    306.0                      1956                             304\n",
       "307    307.0                      1895                            -400\n",
       "308    308.0                      1657                             -83\n",
       "309    309.0                      1832                            -718\n",
       "310    310.0                      1824                             706"
      ]
     },
     "execution_count": 11,
     "metadata": {},
     "output_type": "execute_result"
    }
   ],
   "source": [
    "# 1 Januari 2021\n",
    "\n",
    "data_indojakarta_1_januari_2021.head(5)"
   ]
  },
  {
   "cell_type": "code",
   "execution_count": 12,
   "metadata": {},
   "outputs": [
    {
     "data": {
      "text/html": [
       "<div>\n",
       "<style scoped>\n",
       "    .dataframe tbody tr th:only-of-type {\n",
       "        vertical-align: middle;\n",
       "    }\n",
       "\n",
       "    .dataframe tbody tr th {\n",
       "        vertical-align: top;\n",
       "    }\n",
       "\n",
       "    .dataframe thead th {\n",
       "        text-align: right;\n",
       "    }\n",
       "</style>\n",
       "<table border=\"1\" class=\"dataframe\">\n",
       "  <thead>\n",
       "    <tr style=\"text-align: right;\">\n",
       "      <th></th>\n",
       "      <th>Tanggal</th>\n",
       "      <th>Positif Harian (Jakarta)</th>\n",
       "      <th>Positif Aktif Harian (Jakarta)</th>\n",
       "    </tr>\n",
       "  </thead>\n",
       "  <tbody>\n",
       "    <tr>\n",
       "      <th>345</th>\n",
       "      <td>345.0</td>\n",
       "      <td>3437</td>\n",
       "      <td>599</td>\n",
       "    </tr>\n",
       "    <tr>\n",
       "      <th>346</th>\n",
       "      <td>346.0</td>\n",
       "      <td>3309</td>\n",
       "      <td>21</td>\n",
       "    </tr>\n",
       "    <tr>\n",
       "      <th>347</th>\n",
       "      <td>347.0</td>\n",
       "      <td>2514</td>\n",
       "      <td>-1514</td>\n",
       "    </tr>\n",
       "    <tr>\n",
       "      <th>348</th>\n",
       "      <td>348.0</td>\n",
       "      <td>3810</td>\n",
       "      <td>-1997</td>\n",
       "    </tr>\n",
       "    <tr>\n",
       "      <th>349</th>\n",
       "      <td>349.0</td>\n",
       "      <td>3018</td>\n",
       "      <td>-1644</td>\n",
       "    </tr>\n",
       "  </tbody>\n",
       "</table>\n",
       "</div>"
      ],
      "text/plain": [
       "     Tanggal  Positif Harian (Jakarta)  Positif Aktif Harian (Jakarta)\n",
       "345    345.0                      3437                             599\n",
       "346    346.0                      3309                              21\n",
       "347    347.0                      2514                           -1514\n",
       "348    348.0                      3810                           -1997\n",
       "349    349.0                      3018                           -1644"
      ]
     },
     "execution_count": 12,
     "metadata": {},
     "output_type": "execute_result"
    }
   ],
   "source": [
    "#  9 Februari 2021\n",
    "\n",
    "data_indojakarta_9_februari_2021.head(5)"
   ]
  },
  {
   "cell_type": "markdown",
   "metadata": {},
   "source": [
    "# Memasukkan data yang akan diregresi ke dalam variabel X dan Y"
   ]
  },
  {
   "cell_type": "code",
   "execution_count": 13,
   "metadata": {
    "id": "T8OrE6amqCZd"
   },
   "outputs": [],
   "source": [
    "# Memasukkan data_indojakarta column Tanggal dan Positif Harian Jakarta Ke dalam masing-masing variabel X dan Y\n",
    "\n",
    "X_1maret = data_indojakarta_1_maret_2020['Tanggal'].values\n",
    "y_1maret = data_indojakarta_1_maret_2020['Positif Harian (Jakarta)'].values\n"
   ]
  },
  {
   "cell_type": "code",
   "execution_count": 14,
   "metadata": {
    "id": "5oCGf2TUq9pN"
   },
   "outputs": [],
   "source": [
    "# mereshape setiap data X sebleum masuk ke dalam regresi\n",
    "\n",
    "X_1maret = X_1maret.reshape(-1,1)\n",
    "\n",
    "\n"
   ]
  },
  {
   "cell_type": "code",
   "execution_count": 15,
   "metadata": {
    "id": "eL9GUUvtqCoF"
   },
   "outputs": [],
   "source": [
    "X_1januari = data_indojakarta_1_januari_2021['Tanggal'].values\n",
    "y_1januari = data_indojakarta_1_januari_2021['Positif Harian (Jakarta)'].values"
   ]
  },
  {
   "cell_type": "code",
   "execution_count": 16,
   "metadata": {},
   "outputs": [],
   "source": [
    "X_1januari = X_1januari.reshape(-1,1)\n",
    "\n"
   ]
  },
  {
   "cell_type": "code",
   "execution_count": 17,
   "metadata": {
    "id": "NbNsizacqCzs"
   },
   "outputs": [],
   "source": [
    "X_9februari = data_indojakarta_9_februari_2021['Tanggal'].values\n",
    "y_9februari = data_indojakarta_9_februari_2021['Positif Harian (Jakarta)'].values"
   ]
  },
  {
   "cell_type": "code",
   "execution_count": 18,
   "metadata": {},
   "outputs": [],
   "source": [
    "X_9februari = X_9februari.reshape(-1,1)\n",
    "\n"
   ]
  },
  {
   "cell_type": "markdown",
   "metadata": {},
   "source": [
    "# Membuat model Linear Regression "
   ]
  },
  {
   "cell_type": "code",
   "execution_count": 19,
   "metadata": {
    "id": "NT0RiX2aob9X"
   },
   "outputs": [],
   "source": [
    "#  Mebuat model Linear Regresion\n",
    "\n",
    "from sklearn.linear_model import LinearRegression\n",
    "from sklearn.datasets import make_regression\n",
    "import numpy as np\n",
    "import matplotlib.pyplot as plt"
   ]
  },
  {
   "cell_type": "code",
   "execution_count": 20,
   "metadata": {
    "colab": {
     "base_uri": "https://localhost:8080/",
     "height": 231
    },
    "id": "y2kKeHgiocAG",
    "outputId": "207e90ed-b41a-4889-d1c6-3d34027740d2",
    "scrolled": true
   },
   "outputs": [
    {
     "name": "stdout",
     "output_type": "stream",
     "text": [
      "Intercept when fit_intercept=True : -260.75858\n",
      "Intercept when fit_intercept=False : 0.00000\n"
     ]
    },
    {
     "data": {
      "image/png": "[encoded data removed]",
      "text/plain": [
       "<Figure size 640x320 with 1 Axes>"
      ]
     },
     "metadata": {
      "needs_background": "light"
     },
     "output_type": "display_data"
    }
   ],
   "source": [
    "# model 1\n",
    "\n",
    "bias = 100\n",
    "\n",
    "lr_fi_true_1maret = LinearRegression(fit_intercept=True)\n",
    "lr_fi_false_1maret = LinearRegression(fit_intercept=False)\n",
    "\n",
    "lr_fi_true_1maret.fit(X_1maret, y_1maret)\n",
    "lr_fi_false_1maret.fit(X_1maret, y_1maret)\n",
    "\n",
    "print('Intercept when fit_intercept=True : {:.5f}'.format(lr_fi_true_1maret.intercept_))\n",
    "print('Intercept when fit_intercept=False : {:.5f}'.format(lr_fi_false_1maret.intercept_))\n",
    "\n",
    "lr_fi_true_yhat_1maret = np.dot(X_1maret, lr_fi_true_1maret.coef_) + lr_fi_true_1maret.intercept_\n",
    "lr_fi_false_yhat_1maret = np.dot(X_1maret, lr_fi_false_1maret.coef_) + lr_fi_false_1maret.intercept_\n",
    "\n",
    "\n",
    "plt.figure(figsize=(8,4), dpi=80) \n",
    "plt.scatter(X_1maret, y_1maret, label='Actual points')\n",
    "plt.plot(X_1maret, lr_fi_true_yhat_1maret, 'r--', label='fit_intercept=True')\n",
    "plt.plot(X_1maret, lr_fi_false_yhat_1maret, 'r-', label='fit_intercept=False')\n",
    "plt.legend()\n",
    "\n",
    "\n",
    "plt.vlines(0, 0, y_1maret.max())\n",
    "plt.hlines(bias, X_1maret.min(), X_1maret.max())\n",
    "plt.hlines(0, X_1maret.min(), X_1maret.max())\n",
    "\n",
    "\n",
    "\n",
    "plt.show()\n",
    "\n"
   ]
  },
  {
   "cell_type": "code",
   "execution_count": 21,
   "metadata": {},
   "outputs": [
    {
     "name": "stdout",
     "output_type": "stream",
     "text": [
      "Intercept when fit_intercept=True : 10377.02782\n",
      "Intercept when fit_intercept=False : 0.00000\n"
     ]
    },
    {
     "data": {
      "text/plain": [
       "<matplotlib.collections.LineCollection at 0x1bc4a6ac730>"
      ]
     },
     "execution_count": 21,
     "metadata": {},
     "output_type": "execute_result"
    },
    {
     "data": {
      "image/png": "[encoded data removed]",
      "text/plain": [
       "<Figure size 640x320 with 1 Axes>"
      ]
     },
     "metadata": {
      "needs_background": "light"
     },
     "output_type": "display_data"
    }
   ],
   "source": [
    "# model 2\n",
    "lr_fi_true_1januari = LinearRegression(fit_intercept=True)\n",
    "lr_fi_false_1januari = LinearRegression(fit_intercept=False)\n",
    "\n",
    "lr_fi_true_1januari.fit(X_1januari, y_1januari)\n",
    "lr_fi_false_1januari.fit(X_1januari, y_1januari)\n",
    "\n",
    "\n",
    "print('Intercept when fit_intercept=True : {:.5f}'.format(lr_fi_true_1januari.intercept_))\n",
    "print('Intercept when fit_intercept=False : {:.5f}'.format(lr_fi_false_1januari.intercept_))\n",
    "\n",
    "lr_fi_true_yhat_1januari = np.dot(X_1januari, lr_fi_true_1januari.coef_) + lr_fi_true_1januari.intercept_\n",
    "lr_fi_false_yhat_1januari = np.dot(X_1januari, lr_fi_false_1januari.coef_) + lr_fi_false_1januari.intercept_\n",
    "\n",
    "plt.figure(figsize=(8,4), dpi=80) \n",
    "plt.scatter(X_1januari, y_1januari, label='Actual points')\n",
    "plt.plot(X_1januari, lr_fi_true_yhat_1januari, 'r--', label='fit_intercept=True')\n",
    "plt.plot(X_1januari, lr_fi_false_yhat_1januari, 'r-', label='fit_intercept=False')\n",
    "plt.legend()\n",
    "\n",
    "plt.vlines(0, 0, y_1januari.max())\n",
    "plt.hlines(bias, X_1januari.min(), X_1januari.max())\n",
    "plt.hlines(0, X_1januari.min(), X_1januari.max())"
   ]
  },
  {
   "cell_type": "code",
   "execution_count": 22,
   "metadata": {},
   "outputs": [
    {
     "name": "stdout",
     "output_type": "stream",
     "text": [
      "Intercept when fit_intercept=True : 11662.80479\n",
      "Intercept when fit_intercept=False : 0.00000\n"
     ]
    },
    {
     "data": {
      "image/png": "[encoded data removed]",
      "text/plain": [
       "<Figure size 640x320 with 1 Axes>"
      ]
     },
     "metadata": {
      "needs_background": "light"
     },
     "output_type": "display_data"
    }
   ],
   "source": [
    "# model 3\n",
    "\n",
    "lr_fi_true_9februari = LinearRegression(fit_intercept=True)\n",
    "lr_fi_false_9februari = LinearRegression(fit_intercept=False)\n",
    "\n",
    "lr_fi_true_9februari.fit(X_9februari, y_9februari)\n",
    "lr_fi_false_9februari.fit(X_9februari, y_9februari)\n",
    "\n",
    "\n",
    "print('Intercept when fit_intercept=True : {:.5f}'.format(lr_fi_true_9februari.intercept_))\n",
    "print('Intercept when fit_intercept=False : {:.5f}'.format(lr_fi_false_9februari.intercept_))\n",
    "\n",
    "\n",
    "lr_fi_true_yhat_9februari = np.dot(X_9februari, lr_fi_true_9februari.coef_) + lr_fi_true_9februari.intercept_\n",
    "lr_fi_false_yhat_9februari = np.dot(X_9februari, lr_fi_false_9februari.coef_) + lr_fi_false_9februari.intercept_\n",
    "\n",
    "plt.figure(figsize=(8,4), dpi=80) \n",
    "plt.scatter(X_9februari, y_9februari, label='Actual points')\n",
    "plt.plot(X_9februari, lr_fi_true_yhat_9februari, 'r--', label='fit_intercept=True')\n",
    "plt.plot(X_9februari, lr_fi_false_yhat_9februari, 'r-', label='fit_intercept=False')\n",
    "plt.legend()\n",
    "\n",
    "plt.vlines(0,0, y_9februari.max())\n",
    "plt.hlines(bias, X_9februari.min(), X_9februari.max())\n",
    "plt.hlines(0, X_9februari.min(), X_9februari.max())\n",
    "\n",
    "plt.show()"
   ]
  },
  {
   "cell_type": "markdown",
   "metadata": {},
   "source": [
    "# Pengaruh nilai m terhadap ketiga kasus diatas"
   ]
  },
  {
   "cell_type": "markdown",
   "metadata": {},
   "source": [
    "m merupakan kemiringan dari suatu garis (gradien). Pengaruh m  adalah sebagai koefiesien dari ketiga model diatas. Sehingga dengan adanya m, kita dapat mengetahui seberapa besar kemiringan dari data yang kita pakai. Seperti contoh untuk yang model ketiga dan kedua, kemiringannya bernilai negatif dan model pertama, kemiringannya bernilai positif.    "
   ]
  },
  {
   "cell_type": "code",
   "execution_count": 23,
   "metadata": {},
   "outputs": [
    {
     "data": {
      "text/plain": [
       "array([6.0331633])"
      ]
     },
     "execution_count": 23,
     "metadata": {},
     "output_type": "execute_result"
    }
   ],
   "source": [
    "lr_fi_true_1maret.coef_"
   ]
  },
  {
   "cell_type": "code",
   "execution_count": 24,
   "metadata": {},
   "outputs": [
    {
     "data": {
      "text/plain": [
       "array([-23.34010483])"
      ]
     },
     "execution_count": 24,
     "metadata": {},
     "output_type": "execute_result"
    }
   ],
   "source": [
    "lr_fi_true_1januari.coef_"
   ]
  },
  {
   "cell_type": "code",
   "execution_count": 25,
   "metadata": {},
   "outputs": [
    {
     "data": {
      "text/plain": [
       "array([-26.95180177])"
      ]
     },
     "execution_count": 25,
     "metadata": {},
     "output_type": "execute_result"
    }
   ],
   "source": [
    "lr_fi_true_9februari.coef_"
   ]
  },
  {
   "cell_type": "markdown",
   "metadata": {},
   "source": [
    " "
   ]
  },
  {
   "cell_type": "markdown",
   "metadata": {},
   "source": [
    "# Melakukan prediksi dari ketiga model mulai dari 29 Maret 2021 hingga 11 April 2021 (2 minggu)\n"
   ]
  },
  {
   "cell_type": "code",
   "execution_count": 26,
   "metadata": {},
   "outputs": [],
   "source": [
    "y_1maret = y_1maret.reshape(-1,1)\n",
    "y_1januari = y_1januari.reshape(-1,1)\n",
    "y_9februari = y_9februari.reshape(-1,1)"
   ]
  },
  {
   "cell_type": "code",
   "execution_count": 27,
   "metadata": {},
   "outputs": [
    {
     "data": {
      "text/plain": [
       "array([5141.9478674 , 1947.24652967, 4893.47109669, 6779.86617231,\n",
       "       6287.98358539, 5567.90804577, 3732.2225152 , 2652.10920577,\n",
       "       2469.55484362, 4371.16278274, 6282.91263088, 5136.8769129 ,\n",
       "       4954.32255074, 5228.15409398])"
      ]
     },
     "execution_count": 27,
     "metadata": {},
     "output_type": "execute_result"
    }
   ],
   "source": [
    "# model 1\n",
    "y_pred = lr_fi_false_1maret.predict(y_1maret)\n",
    "y_pred[392:]"
   ]
  },
  {
   "cell_type": "code",
   "execution_count": 28,
   "metadata": {},
   "outputs": [
    {
     "data": {
      "text/plain": [
       "array([[1014],\n",
       "       [ 384],\n",
       "       [ 965],\n",
       "       [1337],\n",
       "       [1240],\n",
       "       [1098],\n",
       "       [ 736],\n",
       "       [ 523],\n",
       "       [ 487],\n",
       "       [ 862],\n",
       "       [1239],\n",
       "       [1013],\n",
       "       [ 977],\n",
       "       [1031]], dtype=int64)"
      ]
     },
     "execution_count": 28,
     "metadata": {},
     "output_type": "execute_result"
    }
   ],
   "source": [
    "y_1maret[392:]"
   ]
  },
  {
   "cell_type": "code",
   "execution_count": 29,
   "metadata": {},
   "outputs": [
    {
     "data": {
      "text/plain": [
       "array([5693.25948888, 2156.02726206, 5418.1414268 , 7506.79283692,\n",
       "       6962.17136707, 6164.89045246, 4132.38558562, 2936.46421369,\n",
       "       2734.33665788, 4839.83203098, 6956.55671275, 5687.64483455,\n",
       "       5485.51727874, 5788.70861246])"
      ]
     },
     "execution_count": 29,
     "metadata": {},
     "output_type": "execute_result"
    }
   ],
   "source": [
    "#  model 2\n",
    "y_pred1 = lr_fi_false_1januari.predict(y_1januari)\n",
    "y_pred1[87:]"
   ]
  },
  {
   "cell_type": "code",
   "execution_count": 30,
   "metadata": {},
   "outputs": [
    {
     "data": {
      "text/plain": [
       "array([[1014],\n",
       "       [ 384],\n",
       "       [ 965],\n",
       "       [1337],\n",
       "       [1240],\n",
       "       [1098],\n",
       "       [ 736],\n",
       "       [ 523],\n",
       "       [ 487],\n",
       "       [ 862],\n",
       "       [1239],\n",
       "       [1013],\n",
       "       [ 977],\n",
       "       [1031]], dtype=int64)"
      ]
     },
     "execution_count": 30,
     "metadata": {},
     "output_type": "execute_result"
    }
   ],
   "source": [
    "y_1januari[87:]"
   ]
  },
  {
   "cell_type": "code",
   "execution_count": 31,
   "metadata": {},
   "outputs": [
    {
     "data": {
      "text/plain": [
       "array([4093.73496505, 1550.29016428, 3895.91148055, 5397.7550772 ,\n",
       "       5006.14532216, 4432.86093849, 2971.38948154, 2111.46290604,\n",
       "       1966.12320314, 3480.07844169, 5002.10810819, 4089.69775109,\n",
       "       3944.35804818, 4162.36760254])"
      ]
     },
     "execution_count": 31,
     "metadata": {},
     "output_type": "execute_result"
    }
   ],
   "source": [
    "#  model 3\n",
    "y_pred2 = lr_fi_false_9februari.predict(y_9februari)\n",
    "y_pred2[48:]"
   ]
  },
  {
   "cell_type": "code",
   "execution_count": 32,
   "metadata": {},
   "outputs": [
    {
     "data": {
      "text/plain": [
       "array([[1014],\n",
       "       [ 384],\n",
       "       [ 965],\n",
       "       [1337],\n",
       "       [1240],\n",
       "       [1098],\n",
       "       [ 736],\n",
       "       [ 523],\n",
       "       [ 487],\n",
       "       [ 862],\n",
       "       [1239],\n",
       "       [1013],\n",
       "       [ 977],\n",
       "       [1031]], dtype=int64)"
      ]
     },
     "execution_count": 32,
     "metadata": {},
     "output_type": "execute_result"
    }
   ],
   "source": [
    "y_9februari[48:]"
   ]
  },
  {
   "cell_type": "markdown",
   "metadata": {},
   "source": [
    " "
   ]
  },
  {
   "cell_type": "markdown",
   "metadata": {},
   "source": [
    "# Score dari tiap-tiap model"
   ]
  },
  {
   "cell_type": "code",
   "execution_count": 33,
   "metadata": {},
   "outputs": [
    {
     "data": {
      "text/plain": [
       "-33.68610802286792"
      ]
     },
     "execution_count": 33,
     "metadata": {},
     "output_type": "execute_result"
    }
   ],
   "source": [
    "#  model 1\n",
    "from sklearn import metrics\n",
    "linReg_score_model1 = metrics.r2_score(y_1maret,y_pred)\n",
    "linReg_score_model1"
   ]
  },
  {
   "cell_type": "code",
   "execution_count": 34,
   "metadata": {},
   "outputs": [
    {
     "data": {
      "text/plain": [
       "-116.42967956824677"
      ]
     },
     "execution_count": 34,
     "metadata": {},
     "output_type": "execute_result"
    }
   ],
   "source": [
    "# model 2\n",
    "\n",
    "linReg_score_model2 = metrics.r2_score(y_1januari,y_pred1)\n",
    "linReg_score_model2"
   ]
  },
  {
   "cell_type": "code",
   "execution_count": 35,
   "metadata": {},
   "outputs": [
    {
     "data": {
      "text/plain": [
       "-47.75838949082489"
      ]
     },
     "execution_count": 35,
     "metadata": {},
     "output_type": "execute_result"
    }
   ],
   "source": [
    "\n",
    "linReg_score_model3 = metrics.r2_score(y_9februari,y_pred2)\n",
    "linReg_score_model3"
   ]
  },
  {
   "cell_type": "markdown",
   "metadata": {},
   "source": [
    " Sehingga dapat kita simpulkan bahwa model pertama memiliki akurasi yang lebih baik dibandingkan dengan model kedua dan ketiga. "
   ]
  },
  {
   "cell_type": "markdown",
   "metadata": {},
   "source": [
    " "
   ]
  },
  {
   "cell_type": "markdown",
   "metadata": {
    "id": "a7zNAUGzocCN"
   },
   "source": [
    "# 2. Buat scatter plot matrix dan cari nilai korelasi terhadap Positif Harian (Jakarta) (data diambil dari kolom Positif Harian (Jakarta) dari sheet Data Indonesia dan Jakarta) dengan:\n",
    "\n",
    "\n",
    "    • Data Tes Harian, Positive Harian, dan Positivity Harian untuk judul kolom TotalDKI Jakarta dari sheet RDT Ag (Anti Gen)\n",
    "\n",
    "    • Data Vaksinasi 1, Vaksinasi 2, Persentase 1, Persentase 2 untuk \n",
    "    judul kolom Tenaga Kesehatan, Lanjut Usia, Pelayan Publik, dan Total untuk judul DKI dari sheet Vaksinasi\n"
   ]
  },
  {
   "cell_type": "markdown",
   "metadata": {},
   "source": [
    "# memanggil data awal dari dataset antigen"
   ]
  },
  {
   "cell_type": "code",
   "execution_count": 36,
   "metadata": {},
   "outputs": [
    {
     "data": {
      "text/html": [
       "<div>\n",
       "<style scoped>\n",
       "    .dataframe tbody tr th:only-of-type {\n",
       "        vertical-align: middle;\n",
       "    }\n",
       "\n",
       "    .dataframe tbody tr th {\n",
       "        vertical-align: top;\n",
       "    }\n",
       "\n",
       "    .dataframe thead tr th {\n",
       "        text-align: left;\n",
       "    }\n",
       "</style>\n",
       "<table border=\"1\" class=\"dataframe\">\n",
       "  <thead>\n",
       "    <tr>\n",
       "      <th></th>\n",
       "      <th>No.</th>\n",
       "      <th colspan=\"5\" halign=\"left\">EIS</th>\n",
       "      <th colspan=\"4\" halign=\"left\">NAR</th>\n",
       "      <th>...</th>\n",
       "      <th colspan=\"2\" halign=\"left\">Excel</th>\n",
       "      <th colspan=\"8\" halign=\"left\">Total DKI Jakarta</th>\n",
       "    </tr>\n",
       "    <tr>\n",
       "      <th></th>\n",
       "      <th>Unnamed: 0_level_1</th>\n",
       "      <th>Tgl</th>\n",
       "      <th>Positif</th>\n",
       "      <th>Negatif</th>\n",
       "      <th>Total</th>\n",
       "      <th>Positivity Rate</th>\n",
       "      <th>Positif</th>\n",
       "      <th>Negatif</th>\n",
       "      <th>Total</th>\n",
       "      <th>Positivity Rate</th>\n",
       "      <th>...</th>\n",
       "      <th>Total</th>\n",
       "      <th>Positivity Rate</th>\n",
       "      <th>Tes Harian</th>\n",
       "      <th>Positif  Harian</th>\n",
       "      <th>Negatif Harian</th>\n",
       "      <th>Positivity Rate Harian</th>\n",
       "      <th>Total Kumulatif</th>\n",
       "      <th>Positif Kumulatif</th>\n",
       "      <th>Negatif Kumulatif</th>\n",
       "      <th>Positivity Rate Kumulatif</th>\n",
       "    </tr>\n",
       "  </thead>\n",
       "  <tbody>\n",
       "    <tr>\n",
       "      <th>0</th>\n",
       "      <td>1.0</td>\n",
       "      <td>2021-01-01</td>\n",
       "      <td>76.0</td>\n",
       "      <td>1116.0</td>\n",
       "      <td>1192.0</td>\n",
       "      <td>0.063758</td>\n",
       "      <td>0.0</td>\n",
       "      <td>0.0</td>\n",
       "      <td>0.0</td>\n",
       "      <td>NaN</td>\n",
       "      <td>...</td>\n",
       "      <td>0.0</td>\n",
       "      <td>NaN</td>\n",
       "      <td>1192.0</td>\n",
       "      <td>76.0</td>\n",
       "      <td>1116.0</td>\n",
       "      <td>0.063758</td>\n",
       "      <td>1192.0</td>\n",
       "      <td>76.0</td>\n",
       "      <td>1116.0</td>\n",
       "      <td>0.063758</td>\n",
       "    </tr>\n",
       "    <tr>\n",
       "      <th>1</th>\n",
       "      <td>2.0</td>\n",
       "      <td>2021-01-02</td>\n",
       "      <td>76.0</td>\n",
       "      <td>1116.0</td>\n",
       "      <td>1192.0</td>\n",
       "      <td>0.063758</td>\n",
       "      <td>0.0</td>\n",
       "      <td>0.0</td>\n",
       "      <td>0.0</td>\n",
       "      <td>NaN</td>\n",
       "      <td>...</td>\n",
       "      <td>0.0</td>\n",
       "      <td>NaN</td>\n",
       "      <td>0.0</td>\n",
       "      <td>0.0</td>\n",
       "      <td>0.0</td>\n",
       "      <td>NaN</td>\n",
       "      <td>1192.0</td>\n",
       "      <td>76.0</td>\n",
       "      <td>1116.0</td>\n",
       "      <td>0.063758</td>\n",
       "    </tr>\n",
       "    <tr>\n",
       "      <th>2</th>\n",
       "      <td>3.0</td>\n",
       "      <td>2021-01-03</td>\n",
       "      <td>100.0</td>\n",
       "      <td>1699.0</td>\n",
       "      <td>1799.0</td>\n",
       "      <td>0.055586</td>\n",
       "      <td>0.0</td>\n",
       "      <td>0.0</td>\n",
       "      <td>0.0</td>\n",
       "      <td>NaN</td>\n",
       "      <td>...</td>\n",
       "      <td>0.0</td>\n",
       "      <td>NaN</td>\n",
       "      <td>607.0</td>\n",
       "      <td>24.0</td>\n",
       "      <td>583.0</td>\n",
       "      <td>0.039539</td>\n",
       "      <td>1799.0</td>\n",
       "      <td>100.0</td>\n",
       "      <td>1699.0</td>\n",
       "      <td>0.055586</td>\n",
       "    </tr>\n",
       "    <tr>\n",
       "      <th>3</th>\n",
       "      <td>4.0</td>\n",
       "      <td>2021-01-04</td>\n",
       "      <td>100.0</td>\n",
       "      <td>1699.0</td>\n",
       "      <td>1799.0</td>\n",
       "      <td>0.055586</td>\n",
       "      <td>0.0</td>\n",
       "      <td>0.0</td>\n",
       "      <td>0.0</td>\n",
       "      <td>NaN</td>\n",
       "      <td>...</td>\n",
       "      <td>0.0</td>\n",
       "      <td>NaN</td>\n",
       "      <td>0.0</td>\n",
       "      <td>0.0</td>\n",
       "      <td>0.0</td>\n",
       "      <td>NaN</td>\n",
       "      <td>1799.0</td>\n",
       "      <td>100.0</td>\n",
       "      <td>1699.0</td>\n",
       "      <td>0.055586</td>\n",
       "    </tr>\n",
       "    <tr>\n",
       "      <th>4</th>\n",
       "      <td>5.0</td>\n",
       "      <td>2021-01-05</td>\n",
       "      <td>100.0</td>\n",
       "      <td>1699.0</td>\n",
       "      <td>1799.0</td>\n",
       "      <td>0.055586</td>\n",
       "      <td>0.0</td>\n",
       "      <td>0.0</td>\n",
       "      <td>0.0</td>\n",
       "      <td>NaN</td>\n",
       "      <td>...</td>\n",
       "      <td>0.0</td>\n",
       "      <td>NaN</td>\n",
       "      <td>0.0</td>\n",
       "      <td>0.0</td>\n",
       "      <td>0.0</td>\n",
       "      <td>NaN</td>\n",
       "      <td>1799.0</td>\n",
       "      <td>100.0</td>\n",
       "      <td>1699.0</td>\n",
       "      <td>0.055586</td>\n",
       "    </tr>\n",
       "  </tbody>\n",
       "</table>\n",
       "<p>5 rows × 22 columns</p>\n",
       "</div>"
      ],
      "text/plain": [
       "                 No.        EIS                                          \\\n",
       "  Unnamed: 0_level_1        Tgl Positif Negatif   Total Positivity Rate   \n",
       "0                1.0 2021-01-01    76.0  1116.0  1192.0        0.063758   \n",
       "1                2.0 2021-01-02    76.0  1116.0  1192.0        0.063758   \n",
       "2                3.0 2021-01-03   100.0  1699.0  1799.0        0.055586   \n",
       "3                4.0 2021-01-04   100.0  1699.0  1799.0        0.055586   \n",
       "4                5.0 2021-01-05   100.0  1699.0  1799.0        0.055586   \n",
       "\n",
       "      NAR                                ... Excel                  \\\n",
       "  Positif Negatif Total Positivity Rate  ... Total Positivity Rate   \n",
       "0     0.0     0.0   0.0             NaN  ...   0.0             NaN   \n",
       "1     0.0     0.0   0.0             NaN  ...   0.0             NaN   \n",
       "2     0.0     0.0   0.0             NaN  ...   0.0             NaN   \n",
       "3     0.0     0.0   0.0             NaN  ...   0.0             NaN   \n",
       "4     0.0     0.0   0.0             NaN  ...   0.0             NaN   \n",
       "\n",
       "  Total DKI Jakarta                                                        \\\n",
       "         Tes Harian Positif  Harian Negatif Harian Positivity Rate Harian   \n",
       "0            1192.0            76.0         1116.0               0.063758   \n",
       "1               0.0             0.0            0.0                    NaN   \n",
       "2             607.0            24.0          583.0               0.039539   \n",
       "3               0.0             0.0            0.0                    NaN   \n",
       "4               0.0             0.0            0.0                    NaN   \n",
       "\n",
       "                                                       \\\n",
       "  Total Kumulatif Positif Kumulatif Negatif Kumulatif   \n",
       "0          1192.0              76.0            1116.0   \n",
       "1          1192.0              76.0            1116.0   \n",
       "2          1799.0             100.0            1699.0   \n",
       "3          1799.0             100.0            1699.0   \n",
       "4          1799.0             100.0            1699.0   \n",
       "\n",
       "                             \n",
       "  Positivity Rate Kumulatif  \n",
       "0                  0.063758  \n",
       "1                  0.063758  \n",
       "2                  0.055586  \n",
       "3                  0.055586  \n",
       "4                  0.055586  \n",
       "\n",
       "[5 rows x 22 columns]"
      ]
     },
     "execution_count": 36,
     "metadata": {},
     "output_type": "execute_result"
    }
   ],
   "source": [
    "#  5 data awal dari data antigen\n",
    "data_rdt_ag.head(5)"
   ]
  },
  {
   "cell_type": "code",
   "execution_count": 37,
   "metadata": {},
   "outputs": [
    {
     "data": {
      "text/plain": [
       "(999, 22)"
      ]
     },
     "execution_count": 37,
     "metadata": {},
     "output_type": "execute_result"
    }
   ],
   "source": [
    "data_rdt_ag.shape"
   ]
  },
  {
   "cell_type": "code",
   "execution_count": 38,
   "metadata": {},
   "outputs": [],
   "source": [
    "# menghapus semua baris berisi nilai none yang memiliki kurang dari satu nilai tidak none pada baris tersebut\n",
    "data_rdt_ag = data_rdt_ag.dropna(thresh=1)"
   ]
  },
  {
   "cell_type": "code",
   "execution_count": 39,
   "metadata": {},
   "outputs": [
    {
     "data": {
      "text/plain": [
       "(101, 22)"
      ]
     },
     "execution_count": 39,
     "metadata": {},
     "output_type": "execute_result"
    }
   ],
   "source": [
    "data_rdt_ag.shape"
   ]
  },
  {
   "cell_type": "markdown",
   "metadata": {},
   "source": [
    "# Memanggil data awal dari dataset vaksinasi "
   ]
  },
  {
   "cell_type": "code",
   "execution_count": 40,
   "metadata": {},
   "outputs": [
    {
     "data": {
      "text/html": [
       "<div>\n",
       "<style scoped>\n",
       "    .dataframe tbody tr th:only-of-type {\n",
       "        vertical-align: middle;\n",
       "    }\n",
       "\n",
       "    .dataframe tbody tr th {\n",
       "        vertical-align: top;\n",
       "    }\n",
       "\n",
       "    .dataframe thead tr th {\n",
       "        text-align: left;\n",
       "    }\n",
       "</style>\n",
       "<table border=\"1\" class=\"dataframe\">\n",
       "  <thead>\n",
       "    <tr>\n",
       "      <th></th>\n",
       "      <th>Tanggal</th>\n",
       "      <th colspan=\"9\" halign=\"left\">DKI</th>\n",
       "      <th>...</th>\n",
       "      <th colspan=\"10\" halign=\"left\">Indonesia</th>\n",
       "    </tr>\n",
       "    <tr>\n",
       "      <th></th>\n",
       "      <th>Unnamed: 0_level_1</th>\n",
       "      <th colspan=\"5\" halign=\"left\">Tenaga Kesehatan</th>\n",
       "      <th colspan=\"4\" halign=\"left\">Lansia</th>\n",
       "      <th>...</th>\n",
       "      <th colspan=\"5\" halign=\"left\">Pelayan Publik</th>\n",
       "      <th colspan=\"5\" halign=\"left\">Total</th>\n",
       "    </tr>\n",
       "    <tr>\n",
       "      <th></th>\n",
       "      <th>Unnamed: 0_level_2</th>\n",
       "      <th>Target Vaksinasi</th>\n",
       "      <th>Vaksinasi 1</th>\n",
       "      <th>Vaksinasi 2</th>\n",
       "      <th>Persentase 1</th>\n",
       "      <th>Persentase 2</th>\n",
       "      <th>Target Vaksinasi</th>\n",
       "      <th>Vaksinasi 1</th>\n",
       "      <th>Vaksinasi 2</th>\n",
       "      <th>Persentase 1</th>\n",
       "      <th>...</th>\n",
       "      <th>Target Vaksinasi</th>\n",
       "      <th>Vaksinasi 1</th>\n",
       "      <th>Vaksinasi 2</th>\n",
       "      <th>Persentase 1</th>\n",
       "      <th>Persentase 2</th>\n",
       "      <th>Target Vaksinasi</th>\n",
       "      <th>Vaksinasi 1</th>\n",
       "      <th>Vaksinasi 2</th>\n",
       "      <th>Persentase 1</th>\n",
       "      <th>Persentase 2</th>\n",
       "    </tr>\n",
       "  </thead>\n",
       "  <tbody>\n",
       "    <tr>\n",
       "      <th>0</th>\n",
       "      <td>5 Maret 2021</td>\n",
       "      <td>112301.0</td>\n",
       "      <td>141425.0</td>\n",
       "      <td>91078.0</td>\n",
       "      <td>1.259339</td>\n",
       "      <td>0.811017</td>\n",
       "      <td>911631.0</td>\n",
       "      <td>76451.0</td>\n",
       "      <td>0.0</td>\n",
       "      <td>0.083862</td>\n",
       "      <td>...</td>\n",
       "      <td>17327169.0</td>\n",
       "      <td>541888.0</td>\n",
       "      <td>2597.0</td>\n",
       "      <td>0.031274</td>\n",
       "      <td>0.000150</td>\n",
       "      <td>40349051.0</td>\n",
       "      <td>2413615.0</td>\n",
       "      <td>1114537.0</td>\n",
       "      <td>0.059818</td>\n",
       "      <td>0.027622</td>\n",
       "    </tr>\n",
       "    <tr>\n",
       "      <th>1</th>\n",
       "      <td>6 Maret 2021</td>\n",
       "      <td>112301.0</td>\n",
       "      <td>144046.0</td>\n",
       "      <td>91379.0</td>\n",
       "      <td>1.282678</td>\n",
       "      <td>0.813697</td>\n",
       "      <td>911631.0</td>\n",
       "      <td>79421.0</td>\n",
       "      <td>0.0</td>\n",
       "      <td>0.087120</td>\n",
       "      <td>...</td>\n",
       "      <td>17327169.0</td>\n",
       "      <td>604456.0</td>\n",
       "      <td>4169.0</td>\n",
       "      <td>0.034885</td>\n",
       "      <td>0.000241</td>\n",
       "      <td>40349051.0</td>\n",
       "      <td>2552265.0</td>\n",
       "      <td>1130524.0</td>\n",
       "      <td>0.063255</td>\n",
       "      <td>0.028019</td>\n",
       "    </tr>\n",
       "    <tr>\n",
       "      <th>2</th>\n",
       "      <td>7 Maret 2021</td>\n",
       "      <td>112301.0</td>\n",
       "      <td>177126.0</td>\n",
       "      <td>91460.0</td>\n",
       "      <td>1.577243</td>\n",
       "      <td>0.814418</td>\n",
       "      <td>911631.0</td>\n",
       "      <td>83628.0</td>\n",
       "      <td>0.0</td>\n",
       "      <td>0.091734</td>\n",
       "      <td>...</td>\n",
       "      <td>17327169.0</td>\n",
       "      <td>623474.0</td>\n",
       "      <td>4445.0</td>\n",
       "      <td>0.035982</td>\n",
       "      <td>0.000257</td>\n",
       "      <td>40349051.0</td>\n",
       "      <td>2888757.0</td>\n",
       "      <td>1133787.0</td>\n",
       "      <td>0.071594</td>\n",
       "      <td>0.028099</td>\n",
       "    </tr>\n",
       "    <tr>\n",
       "      <th>3</th>\n",
       "      <td>8 Maret 2021</td>\n",
       "      <td>112301.0</td>\n",
       "      <td>181237.0</td>\n",
       "      <td>92988.0</td>\n",
       "      <td>1.613850</td>\n",
       "      <td>0.828025</td>\n",
       "      <td>911631.0</td>\n",
       "      <td>95140.0</td>\n",
       "      <td>1.0</td>\n",
       "      <td>0.104362</td>\n",
       "      <td>...</td>\n",
       "      <td>17327169.0</td>\n",
       "      <td>715767.0</td>\n",
       "      <td>8880.0</td>\n",
       "      <td>0.041309</td>\n",
       "      <td>0.000512</td>\n",
       "      <td>40349051.0</td>\n",
       "      <td>3098025.0</td>\n",
       "      <td>1158432.0</td>\n",
       "      <td>0.076781</td>\n",
       "      <td>0.028710</td>\n",
       "    </tr>\n",
       "    <tr>\n",
       "      <th>4</th>\n",
       "      <td>9 Maret 2021</td>\n",
       "      <td>112301.0</td>\n",
       "      <td>113326.0</td>\n",
       "      <td>89984.0</td>\n",
       "      <td>1.009127</td>\n",
       "      <td>0.801275</td>\n",
       "      <td>911631.0</td>\n",
       "      <td>135128.0</td>\n",
       "      <td>675.0</td>\n",
       "      <td>0.148227</td>\n",
       "      <td>...</td>\n",
       "      <td>17327169.0</td>\n",
       "      <td>1510937.0</td>\n",
       "      <td>68527.0</td>\n",
       "      <td>0.087200</td>\n",
       "      <td>0.003955</td>\n",
       "      <td>40349051.0</td>\n",
       "      <td>3337026.0</td>\n",
       "      <td>1197772.0</td>\n",
       "      <td>0.082704</td>\n",
       "      <td>0.029685</td>\n",
       "    </tr>\n",
       "  </tbody>\n",
       "</table>\n",
       "<p>5 rows × 41 columns</p>\n",
       "</div>"
      ],
      "text/plain": [
       "             Tanggal              DKI                                       \\\n",
       "  Unnamed: 0_level_1 Tenaga Kesehatan                                        \n",
       "  Unnamed: 0_level_2 Target Vaksinasi Vaksinasi 1 Vaksinasi 2 Persentase 1   \n",
       "0       5 Maret 2021         112301.0    141425.0     91078.0     1.259339   \n",
       "1       6 Maret 2021         112301.0    144046.0     91379.0     1.282678   \n",
       "2       7 Maret 2021         112301.0    177126.0     91460.0     1.577243   \n",
       "3       8 Maret 2021         112301.0    181237.0     92988.0     1.613850   \n",
       "4       9 Maret 2021         112301.0    113326.0     89984.0     1.009127   \n",
       "\n",
       "                                                                      ...  \\\n",
       "                         Lansia                                       ...   \n",
       "  Persentase 2 Target Vaksinasi Vaksinasi 1 Vaksinasi 2 Persentase 1  ...   \n",
       "0     0.811017         911631.0     76451.0         0.0     0.083862  ...   \n",
       "1     0.813697         911631.0     79421.0         0.0     0.087120  ...   \n",
       "2     0.814418         911631.0     83628.0         0.0     0.091734  ...   \n",
       "3     0.828025         911631.0     95140.0         1.0     0.104362  ...   \n",
       "4     0.801275         911631.0    135128.0       675.0     0.148227  ...   \n",
       "\n",
       "         Indonesia                                                    \\\n",
       "    Pelayan Publik                                                     \n",
       "  Target Vaksinasi Vaksinasi 1 Vaksinasi 2 Persentase 1 Persentase 2   \n",
       "0       17327169.0    541888.0      2597.0     0.031274     0.000150   \n",
       "1       17327169.0    604456.0      4169.0     0.034885     0.000241   \n",
       "2       17327169.0    623474.0      4445.0     0.035982     0.000257   \n",
       "3       17327169.0    715767.0      8880.0     0.041309     0.000512   \n",
       "4       17327169.0   1510937.0     68527.0     0.087200     0.003955   \n",
       "\n",
       "                                                                      \n",
       "             Total                                                    \n",
       "  Target Vaksinasi Vaksinasi 1 Vaksinasi 2 Persentase 1 Persentase 2  \n",
       "0       40349051.0   2413615.0   1114537.0     0.059818     0.027622  \n",
       "1       40349051.0   2552265.0   1130524.0     0.063255     0.028019  \n",
       "2       40349051.0   2888757.0   1133787.0     0.071594     0.028099  \n",
       "3       40349051.0   3098025.0   1158432.0     0.076781     0.028710  \n",
       "4       40349051.0   3337026.0   1197772.0     0.082704     0.029685  \n",
       "\n",
       "[5 rows x 41 columns]"
      ]
     },
     "execution_count": 40,
     "metadata": {},
     "output_type": "execute_result"
    }
   ],
   "source": [
    "data_vaksinasi.head()"
   ]
  },
  {
   "cell_type": "code",
   "execution_count": 41,
   "metadata": {},
   "outputs": [
    {
     "data": {
      "text/plain": [
       "(994, 41)"
      ]
     },
     "execution_count": 41,
     "metadata": {},
     "output_type": "execute_result"
    }
   ],
   "source": [
    "data_vaksinasi.shape"
   ]
  },
  {
   "cell_type": "code",
   "execution_count": 42,
   "metadata": {},
   "outputs": [],
   "source": [
    "data_vaksinasi = data_vaksinasi.dropna(thresh=1)"
   ]
  },
  {
   "cell_type": "code",
   "execution_count": 43,
   "metadata": {},
   "outputs": [
    {
     "data": {
      "text/plain": [
       "(38, 41)"
      ]
     },
     "execution_count": 43,
     "metadata": {},
     "output_type": "execute_result"
    }
   ],
   "source": [
    "data_vaksinasi.shape"
   ]
  },
  {
   "cell_type": "markdown",
   "metadata": {},
   "source": [
    "# Mengambil data dari dataset antigen mulai dari 5 maret 2021"
   ]
  },
  {
   "cell_type": "code",
   "execution_count": 153,
   "metadata": {},
   "outputs": [
    {
     "data": {
      "text/html": [
       "<div>\n",
       "<style scoped>\n",
       "    .dataframe tbody tr th:only-of-type {\n",
       "        vertical-align: middle;\n",
       "    }\n",
       "\n",
       "    .dataframe tbody tr th {\n",
       "        vertical-align: top;\n",
       "    }\n",
       "\n",
       "    .dataframe thead tr th {\n",
       "        text-align: left;\n",
       "    }\n",
       "</style>\n",
       "<table border=\"1\" class=\"dataframe\">\n",
       "  <thead>\n",
       "    <tr>\n",
       "      <th></th>\n",
       "      <th>No.</th>\n",
       "      <th colspan=\"5\" halign=\"left\">EIS</th>\n",
       "      <th colspan=\"4\" halign=\"left\">NAR</th>\n",
       "      <th>...</th>\n",
       "      <th colspan=\"2\" halign=\"left\">Excel</th>\n",
       "      <th colspan=\"8\" halign=\"left\">Total DKI Jakarta</th>\n",
       "    </tr>\n",
       "    <tr>\n",
       "      <th></th>\n",
       "      <th>Unnamed: 0_level_1</th>\n",
       "      <th>Tgl</th>\n",
       "      <th>Positif</th>\n",
       "      <th>Negatif</th>\n",
       "      <th>Total</th>\n",
       "      <th>Positivity Rate</th>\n",
       "      <th>Positif</th>\n",
       "      <th>Negatif</th>\n",
       "      <th>Total</th>\n",
       "      <th>Positivity Rate</th>\n",
       "      <th>...</th>\n",
       "      <th>Total</th>\n",
       "      <th>Positivity Rate</th>\n",
       "      <th>Tes Harian</th>\n",
       "      <th>Positif  Harian</th>\n",
       "      <th>Negatif Harian</th>\n",
       "      <th>Positivity Rate Harian</th>\n",
       "      <th>Total Kumulatif</th>\n",
       "      <th>Positif Kumulatif</th>\n",
       "      <th>Negatif Kumulatif</th>\n",
       "      <th>Positivity Rate Kumulatif</th>\n",
       "    </tr>\n",
       "  </thead>\n",
       "  <tbody>\n",
       "    <tr>\n",
       "      <th>63</th>\n",
       "      <td>64.0</td>\n",
       "      <td>2021-03-05</td>\n",
       "      <td>2592.0</td>\n",
       "      <td>35562.0</td>\n",
       "      <td>38154.0</td>\n",
       "      <td>0.067935</td>\n",
       "      <td>191.0</td>\n",
       "      <td>4753.0</td>\n",
       "      <td>4944.0</td>\n",
       "      <td>0.038633</td>\n",
       "      <td>...</td>\n",
       "      <td>1016.0</td>\n",
       "      <td>0.041339</td>\n",
       "      <td>1297.0</td>\n",
       "      <td>49.0</td>\n",
       "      <td>1248.0</td>\n",
       "      <td>0.037779</td>\n",
       "      <td>44114.0</td>\n",
       "      <td>2825.0</td>\n",
       "      <td>41289.0</td>\n",
       "      <td>0.064039</td>\n",
       "    </tr>\n",
       "    <tr>\n",
       "      <th>64</th>\n",
       "      <td>65.0</td>\n",
       "      <td>2021-03-06</td>\n",
       "      <td>2624.0</td>\n",
       "      <td>36155.0</td>\n",
       "      <td>38779.0</td>\n",
       "      <td>0.067665</td>\n",
       "      <td>219.0</td>\n",
       "      <td>5525.0</td>\n",
       "      <td>5744.0</td>\n",
       "      <td>0.038127</td>\n",
       "      <td>...</td>\n",
       "      <td>1016.0</td>\n",
       "      <td>0.041339</td>\n",
       "      <td>1425.0</td>\n",
       "      <td>60.0</td>\n",
       "      <td>1365.0</td>\n",
       "      <td>0.042105</td>\n",
       "      <td>45539.0</td>\n",
       "      <td>2885.0</td>\n",
       "      <td>42654.0</td>\n",
       "      <td>0.063352</td>\n",
       "    </tr>\n",
       "    <tr>\n",
       "      <th>65</th>\n",
       "      <td>66.0</td>\n",
       "      <td>2021-03-07</td>\n",
       "      <td>2686.0</td>\n",
       "      <td>36563.0</td>\n",
       "      <td>39249.0</td>\n",
       "      <td>0.068435</td>\n",
       "      <td>254.0</td>\n",
       "      <td>6391.0</td>\n",
       "      <td>6645.0</td>\n",
       "      <td>0.038224</td>\n",
       "      <td>...</td>\n",
       "      <td>1016.0</td>\n",
       "      <td>0.041339</td>\n",
       "      <td>1371.0</td>\n",
       "      <td>97.0</td>\n",
       "      <td>1274.0</td>\n",
       "      <td>0.070751</td>\n",
       "      <td>46910.0</td>\n",
       "      <td>2982.0</td>\n",
       "      <td>43928.0</td>\n",
       "      <td>0.063569</td>\n",
       "    </tr>\n",
       "    <tr>\n",
       "      <th>66</th>\n",
       "      <td>67.0</td>\n",
       "      <td>2021-03-08</td>\n",
       "      <td>2704.0</td>\n",
       "      <td>36741.0</td>\n",
       "      <td>39445.0</td>\n",
       "      <td>0.068551</td>\n",
       "      <td>269.0</td>\n",
       "      <td>6917.0</td>\n",
       "      <td>7186.0</td>\n",
       "      <td>0.037434</td>\n",
       "      <td>...</td>\n",
       "      <td>1016.0</td>\n",
       "      <td>0.041339</td>\n",
       "      <td>737.0</td>\n",
       "      <td>33.0</td>\n",
       "      <td>704.0</td>\n",
       "      <td>0.044776</td>\n",
       "      <td>47647.0</td>\n",
       "      <td>3015.0</td>\n",
       "      <td>44632.0</td>\n",
       "      <td>0.063278</td>\n",
       "    </tr>\n",
       "    <tr>\n",
       "      <th>67</th>\n",
       "      <td>68.0</td>\n",
       "      <td>2021-03-09</td>\n",
       "      <td>2711.0</td>\n",
       "      <td>36894.0</td>\n",
       "      <td>39605.0</td>\n",
       "      <td>0.068451</td>\n",
       "      <td>280.0</td>\n",
       "      <td>7248.0</td>\n",
       "      <td>7528.0</td>\n",
       "      <td>0.037194</td>\n",
       "      <td>...</td>\n",
       "      <td>1016.0</td>\n",
       "      <td>0.041339</td>\n",
       "      <td>502.0</td>\n",
       "      <td>18.0</td>\n",
       "      <td>484.0</td>\n",
       "      <td>0.035857</td>\n",
       "      <td>48149.0</td>\n",
       "      <td>3033.0</td>\n",
       "      <td>45116.0</td>\n",
       "      <td>0.062992</td>\n",
       "    </tr>\n",
       "  </tbody>\n",
       "</table>\n",
       "<p>5 rows × 22 columns</p>\n",
       "</div>"
      ],
      "text/plain": [
       "                  No.        EIS                                            \\\n",
       "   Unnamed: 0_level_1        Tgl Positif  Negatif    Total Positivity Rate   \n",
       "63               64.0 2021-03-05  2592.0  35562.0  38154.0        0.067935   \n",
       "64               65.0 2021-03-06  2624.0  36155.0  38779.0        0.067665   \n",
       "65               66.0 2021-03-07  2686.0  36563.0  39249.0        0.068435   \n",
       "66               67.0 2021-03-08  2704.0  36741.0  39445.0        0.068551   \n",
       "67               68.0 2021-03-09  2711.0  36894.0  39605.0        0.068451   \n",
       "\n",
       "       NAR                                  ...   Excel                  \\\n",
       "   Positif Negatif   Total Positivity Rate  ...   Total Positivity Rate   \n",
       "63   191.0  4753.0  4944.0        0.038633  ...  1016.0        0.041339   \n",
       "64   219.0  5525.0  5744.0        0.038127  ...  1016.0        0.041339   \n",
       "65   254.0  6391.0  6645.0        0.038224  ...  1016.0        0.041339   \n",
       "66   269.0  6917.0  7186.0        0.037434  ...  1016.0        0.041339   \n",
       "67   280.0  7248.0  7528.0        0.037194  ...  1016.0        0.041339   \n",
       "\n",
       "   Total DKI Jakarta                                                        \\\n",
       "          Tes Harian Positif  Harian Negatif Harian Positivity Rate Harian   \n",
       "63            1297.0            49.0         1248.0               0.037779   \n",
       "64            1425.0            60.0         1365.0               0.042105   \n",
       "65            1371.0            97.0         1274.0               0.070751   \n",
       "66             737.0            33.0          704.0               0.044776   \n",
       "67             502.0            18.0          484.0               0.035857   \n",
       "\n",
       "                                                        \\\n",
       "   Total Kumulatif Positif Kumulatif Negatif Kumulatif   \n",
       "63         44114.0            2825.0           41289.0   \n",
       "64         45539.0            2885.0           42654.0   \n",
       "65         46910.0            2982.0           43928.0   \n",
       "66         47647.0            3015.0           44632.0   \n",
       "67         48149.0            3033.0           45116.0   \n",
       "\n",
       "                              \n",
       "   Positivity Rate Kumulatif  \n",
       "63                  0.064039  \n",
       "64                  0.063352  \n",
       "65                  0.063569  \n",
       "66                  0.063278  \n",
       "67                  0.062992  \n",
       "\n",
       "[5 rows x 22 columns]"
      ]
     },
     "execution_count": 153,
     "metadata": {},
     "output_type": "execute_result"
    }
   ],
   "source": [
    "\n",
    "data_antigen = data_rdt_ag[63:]\n",
    "data_antigen.head(5)"
   ]
  },
  {
   "cell_type": "code",
   "execution_count": 45,
   "metadata": {},
   "outputs": [],
   "source": [
    "data_antigen = data_antigen.reset_index()"
   ]
  },
  {
   "cell_type": "code",
   "execution_count": 46,
   "metadata": {},
   "outputs": [
    {
     "data": {
      "text/html": [
       "<div>\n",
       "<style scoped>\n",
       "    .dataframe tbody tr th:only-of-type {\n",
       "        vertical-align: middle;\n",
       "    }\n",
       "\n",
       "    .dataframe tbody tr th {\n",
       "        vertical-align: top;\n",
       "    }\n",
       "\n",
       "    .dataframe thead tr th {\n",
       "        text-align: left;\n",
       "    }\n",
       "</style>\n",
       "<table border=\"1\" class=\"dataframe\">\n",
       "  <thead>\n",
       "    <tr>\n",
       "      <th></th>\n",
       "      <th>index</th>\n",
       "      <th>No.</th>\n",
       "      <th colspan=\"5\" halign=\"left\">EIS</th>\n",
       "      <th colspan=\"3\" halign=\"left\">NAR</th>\n",
       "      <th>...</th>\n",
       "      <th colspan=\"2\" halign=\"left\">Excel</th>\n",
       "      <th colspan=\"8\" halign=\"left\">Total DKI Jakarta</th>\n",
       "    </tr>\n",
       "    <tr>\n",
       "      <th></th>\n",
       "      <th></th>\n",
       "      <th>Unnamed: 0_level_1</th>\n",
       "      <th>Tgl</th>\n",
       "      <th>Positif</th>\n",
       "      <th>Negatif</th>\n",
       "      <th>Total</th>\n",
       "      <th>Positivity Rate</th>\n",
       "      <th>Positif</th>\n",
       "      <th>Negatif</th>\n",
       "      <th>Total</th>\n",
       "      <th>...</th>\n",
       "      <th>Total</th>\n",
       "      <th>Positivity Rate</th>\n",
       "      <th>Tes Harian</th>\n",
       "      <th>Positif  Harian</th>\n",
       "      <th>Negatif Harian</th>\n",
       "      <th>Positivity Rate Harian</th>\n",
       "      <th>Total Kumulatif</th>\n",
       "      <th>Positif Kumulatif</th>\n",
       "      <th>Negatif Kumulatif</th>\n",
       "      <th>Positivity Rate Kumulatif</th>\n",
       "    </tr>\n",
       "  </thead>\n",
       "  <tbody>\n",
       "    <tr>\n",
       "      <th>0</th>\n",
       "      <td>63</td>\n",
       "      <td>64.0</td>\n",
       "      <td>2021-03-05</td>\n",
       "      <td>2592.0</td>\n",
       "      <td>35562.0</td>\n",
       "      <td>38154.0</td>\n",
       "      <td>0.067935</td>\n",
       "      <td>191.0</td>\n",
       "      <td>4753.0</td>\n",
       "      <td>4944.0</td>\n",
       "      <td>...</td>\n",
       "      <td>1016.0</td>\n",
       "      <td>0.041339</td>\n",
       "      <td>1297.0</td>\n",
       "      <td>49.0</td>\n",
       "      <td>1248.0</td>\n",
       "      <td>0.037779</td>\n",
       "      <td>44114.0</td>\n",
       "      <td>2825.0</td>\n",
       "      <td>41289.0</td>\n",
       "      <td>0.064039</td>\n",
       "    </tr>\n",
       "    <tr>\n",
       "      <th>1</th>\n",
       "      <td>64</td>\n",
       "      <td>65.0</td>\n",
       "      <td>2021-03-06</td>\n",
       "      <td>2624.0</td>\n",
       "      <td>36155.0</td>\n",
       "      <td>38779.0</td>\n",
       "      <td>0.067665</td>\n",
       "      <td>219.0</td>\n",
       "      <td>5525.0</td>\n",
       "      <td>5744.0</td>\n",
       "      <td>...</td>\n",
       "      <td>1016.0</td>\n",
       "      <td>0.041339</td>\n",
       "      <td>1425.0</td>\n",
       "      <td>60.0</td>\n",
       "      <td>1365.0</td>\n",
       "      <td>0.042105</td>\n",
       "      <td>45539.0</td>\n",
       "      <td>2885.0</td>\n",
       "      <td>42654.0</td>\n",
       "      <td>0.063352</td>\n",
       "    </tr>\n",
       "    <tr>\n",
       "      <th>2</th>\n",
       "      <td>65</td>\n",
       "      <td>66.0</td>\n",
       "      <td>2021-03-07</td>\n",
       "      <td>2686.0</td>\n",
       "      <td>36563.0</td>\n",
       "      <td>39249.0</td>\n",
       "      <td>0.068435</td>\n",
       "      <td>254.0</td>\n",
       "      <td>6391.0</td>\n",
       "      <td>6645.0</td>\n",
       "      <td>...</td>\n",
       "      <td>1016.0</td>\n",
       "      <td>0.041339</td>\n",
       "      <td>1371.0</td>\n",
       "      <td>97.0</td>\n",
       "      <td>1274.0</td>\n",
       "      <td>0.070751</td>\n",
       "      <td>46910.0</td>\n",
       "      <td>2982.0</td>\n",
       "      <td>43928.0</td>\n",
       "      <td>0.063569</td>\n",
       "    </tr>\n",
       "    <tr>\n",
       "      <th>3</th>\n",
       "      <td>66</td>\n",
       "      <td>67.0</td>\n",
       "      <td>2021-03-08</td>\n",
       "      <td>2704.0</td>\n",
       "      <td>36741.0</td>\n",
       "      <td>39445.0</td>\n",
       "      <td>0.068551</td>\n",
       "      <td>269.0</td>\n",
       "      <td>6917.0</td>\n",
       "      <td>7186.0</td>\n",
       "      <td>...</td>\n",
       "      <td>1016.0</td>\n",
       "      <td>0.041339</td>\n",
       "      <td>737.0</td>\n",
       "      <td>33.0</td>\n",
       "      <td>704.0</td>\n",
       "      <td>0.044776</td>\n",
       "      <td>47647.0</td>\n",
       "      <td>3015.0</td>\n",
       "      <td>44632.0</td>\n",
       "      <td>0.063278</td>\n",
       "    </tr>\n",
       "    <tr>\n",
       "      <th>4</th>\n",
       "      <td>67</td>\n",
       "      <td>68.0</td>\n",
       "      <td>2021-03-09</td>\n",
       "      <td>2711.0</td>\n",
       "      <td>36894.0</td>\n",
       "      <td>39605.0</td>\n",
       "      <td>0.068451</td>\n",
       "      <td>280.0</td>\n",
       "      <td>7248.0</td>\n",
       "      <td>7528.0</td>\n",
       "      <td>...</td>\n",
       "      <td>1016.0</td>\n",
       "      <td>0.041339</td>\n",
       "      <td>502.0</td>\n",
       "      <td>18.0</td>\n",
       "      <td>484.0</td>\n",
       "      <td>0.035857</td>\n",
       "      <td>48149.0</td>\n",
       "      <td>3033.0</td>\n",
       "      <td>45116.0</td>\n",
       "      <td>0.062992</td>\n",
       "    </tr>\n",
       "  </tbody>\n",
       "</table>\n",
       "<p>5 rows × 23 columns</p>\n",
       "</div>"
      ],
      "text/plain": [
       "  index                No.        EIS                            \\\n",
       "        Unnamed: 0_level_1        Tgl Positif  Negatif    Total   \n",
       "0    63               64.0 2021-03-05  2592.0  35562.0  38154.0   \n",
       "1    64               65.0 2021-03-06  2624.0  36155.0  38779.0   \n",
       "2    65               66.0 2021-03-07  2686.0  36563.0  39249.0   \n",
       "3    66               67.0 2021-03-08  2704.0  36741.0  39445.0   \n",
       "4    67               68.0 2021-03-09  2711.0  36894.0  39605.0   \n",
       "\n",
       "                      NAR                  ...   Excel                  \\\n",
       "  Positivity Rate Positif Negatif   Total  ...   Total Positivity Rate   \n",
       "0        0.067935   191.0  4753.0  4944.0  ...  1016.0        0.041339   \n",
       "1        0.067665   219.0  5525.0  5744.0  ...  1016.0        0.041339   \n",
       "2        0.068435   254.0  6391.0  6645.0  ...  1016.0        0.041339   \n",
       "3        0.068551   269.0  6917.0  7186.0  ...  1016.0        0.041339   \n",
       "4        0.068451   280.0  7248.0  7528.0  ...  1016.0        0.041339   \n",
       "\n",
       "  Total DKI Jakarta                                                        \\\n",
       "         Tes Harian Positif  Harian Negatif Harian Positivity Rate Harian   \n",
       "0            1297.0            49.0         1248.0               0.037779   \n",
       "1            1425.0            60.0         1365.0               0.042105   \n",
       "2            1371.0            97.0         1274.0               0.070751   \n",
       "3             737.0            33.0          704.0               0.044776   \n",
       "4             502.0            18.0          484.0               0.035857   \n",
       "\n",
       "                                                       \\\n",
       "  Total Kumulatif Positif Kumulatif Negatif Kumulatif   \n",
       "0         44114.0            2825.0           41289.0   \n",
       "1         45539.0            2885.0           42654.0   \n",
       "2         46910.0            2982.0           43928.0   \n",
       "3         47647.0            3015.0           44632.0   \n",
       "4         48149.0            3033.0           45116.0   \n",
       "\n",
       "                             \n",
       "  Positivity Rate Kumulatif  \n",
       "0                  0.064039  \n",
       "1                  0.063352  \n",
       "2                  0.063569  \n",
       "3                  0.063278  \n",
       "4                  0.062992  \n",
       "\n",
       "[5 rows x 23 columns]"
      ]
     },
     "execution_count": 46,
     "metadata": {},
     "output_type": "execute_result"
    }
   ],
   "source": [
    "data_antigen.head(5)"
   ]
  },
  {
   "cell_type": "code",
   "execution_count": 47,
   "metadata": {},
   "outputs": [
    {
     "data": {
      "text/html": [
       "<div>\n",
       "<style scoped>\n",
       "    .dataframe tbody tr th:only-of-type {\n",
       "        vertical-align: middle;\n",
       "    }\n",
       "\n",
       "    .dataframe tbody tr th {\n",
       "        vertical-align: top;\n",
       "    }\n",
       "\n",
       "    .dataframe thead tr th {\n",
       "        text-align: left;\n",
       "    }\n",
       "</style>\n",
       "<table border=\"1\" class=\"dataframe\">\n",
       "  <thead>\n",
       "    <tr>\n",
       "      <th></th>\n",
       "      <th colspan=\"8\" halign=\"left\">Total DKI Jakarta</th>\n",
       "    </tr>\n",
       "    <tr>\n",
       "      <th></th>\n",
       "      <th>Tes Harian</th>\n",
       "      <th>Positif  Harian</th>\n",
       "      <th>Negatif Harian</th>\n",
       "      <th>Positivity Rate Harian</th>\n",
       "      <th>Total Kumulatif</th>\n",
       "      <th>Positif Kumulatif</th>\n",
       "      <th>Negatif Kumulatif</th>\n",
       "      <th>Positivity Rate Kumulatif</th>\n",
       "    </tr>\n",
       "  </thead>\n",
       "  <tbody>\n",
       "    <tr>\n",
       "      <th>0</th>\n",
       "      <td>1297.0</td>\n",
       "      <td>49.0</td>\n",
       "      <td>1248.0</td>\n",
       "      <td>0.037779</td>\n",
       "      <td>44114.0</td>\n",
       "      <td>2825.0</td>\n",
       "      <td>41289.0</td>\n",
       "      <td>0.064039</td>\n",
       "    </tr>\n",
       "    <tr>\n",
       "      <th>1</th>\n",
       "      <td>1425.0</td>\n",
       "      <td>60.0</td>\n",
       "      <td>1365.0</td>\n",
       "      <td>0.042105</td>\n",
       "      <td>45539.0</td>\n",
       "      <td>2885.0</td>\n",
       "      <td>42654.0</td>\n",
       "      <td>0.063352</td>\n",
       "    </tr>\n",
       "    <tr>\n",
       "      <th>2</th>\n",
       "      <td>1371.0</td>\n",
       "      <td>97.0</td>\n",
       "      <td>1274.0</td>\n",
       "      <td>0.070751</td>\n",
       "      <td>46910.0</td>\n",
       "      <td>2982.0</td>\n",
       "      <td>43928.0</td>\n",
       "      <td>0.063569</td>\n",
       "    </tr>\n",
       "    <tr>\n",
       "      <th>3</th>\n",
       "      <td>737.0</td>\n",
       "      <td>33.0</td>\n",
       "      <td>704.0</td>\n",
       "      <td>0.044776</td>\n",
       "      <td>47647.0</td>\n",
       "      <td>3015.0</td>\n",
       "      <td>44632.0</td>\n",
       "      <td>0.063278</td>\n",
       "    </tr>\n",
       "    <tr>\n",
       "      <th>4</th>\n",
       "      <td>502.0</td>\n",
       "      <td>18.0</td>\n",
       "      <td>484.0</td>\n",
       "      <td>0.035857</td>\n",
       "      <td>48149.0</td>\n",
       "      <td>3033.0</td>\n",
       "      <td>45116.0</td>\n",
       "      <td>0.062992</td>\n",
       "    </tr>\n",
       "  </tbody>\n",
       "</table>\n",
       "</div>"
      ],
      "text/plain": [
       "  Total DKI Jakarta                                                        \\\n",
       "         Tes Harian Positif  Harian Negatif Harian Positivity Rate Harian   \n",
       "0            1297.0            49.0         1248.0               0.037779   \n",
       "1            1425.0            60.0         1365.0               0.042105   \n",
       "2            1371.0            97.0         1274.0               0.070751   \n",
       "3             737.0            33.0          704.0               0.044776   \n",
       "4             502.0            18.0          484.0               0.035857   \n",
       "\n",
       "                                                       \\\n",
       "  Total Kumulatif Positif Kumulatif Negatif Kumulatif   \n",
       "0         44114.0            2825.0           41289.0   \n",
       "1         45539.0            2885.0           42654.0   \n",
       "2         46910.0            2982.0           43928.0   \n",
       "3         47647.0            3015.0           44632.0   \n",
       "4         48149.0            3033.0           45116.0   \n",
       "\n",
       "                             \n",
       "  Positivity Rate Kumulatif  \n",
       "0                  0.064039  \n",
       "1                  0.063352  \n",
       "2                  0.063569  \n",
       "3                  0.063278  \n",
       "4                  0.062992  "
      ]
     },
     "execution_count": 47,
     "metadata": {},
     "output_type": "execute_result"
    }
   ],
   "source": [
    "# menghapus kolom yang tidak diperlukan\n",
    "data_antigen = data_antigen.drop(data_antigen[['index','No.','EIS','NAR','Excel']],axis=1)\n",
    "data_antigen.head()"
   ]
  },
  {
   "cell_type": "code",
   "execution_count": 48,
   "metadata": {},
   "outputs": [
    {
     "data": {
      "text/plain": [
       "(38, 8)"
      ]
     },
     "execution_count": 48,
     "metadata": {},
     "output_type": "execute_result"
    }
   ],
   "source": [
    "data_antigen.shape"
   ]
  },
  {
   "cell_type": "markdown",
   "metadata": {},
   "source": [
    "# Data dari dataset vaksinasi sudah dimulai dari 5 Maret 2021"
   ]
  },
  {
   "cell_type": "code",
   "execution_count": 49,
   "metadata": {},
   "outputs": [
    {
     "data": {
      "text/plain": [
       "(38, 41)"
      ]
     },
     "execution_count": 49,
     "metadata": {},
     "output_type": "execute_result"
    }
   ],
   "source": [
    "data_vaksinasi.shape"
   ]
  },
  {
   "cell_type": "code",
   "execution_count": 50,
   "metadata": {},
   "outputs": [
    {
     "data": {
      "text/html": [
       "<div>\n",
       "<style scoped>\n",
       "    .dataframe tbody tr th:only-of-type {\n",
       "        vertical-align: middle;\n",
       "    }\n",
       "\n",
       "    .dataframe tbody tr th {\n",
       "        vertical-align: top;\n",
       "    }\n",
       "\n",
       "    .dataframe thead tr th {\n",
       "        text-align: left;\n",
       "    }\n",
       "</style>\n",
       "<table border=\"1\" class=\"dataframe\">\n",
       "  <thead>\n",
       "    <tr>\n",
       "      <th></th>\n",
       "      <th>Tanggal</th>\n",
       "      <th colspan=\"9\" halign=\"left\">DKI</th>\n",
       "      <th>...</th>\n",
       "      <th colspan=\"10\" halign=\"left\">Indonesia</th>\n",
       "    </tr>\n",
       "    <tr>\n",
       "      <th></th>\n",
       "      <th>Unnamed: 0_level_1</th>\n",
       "      <th colspan=\"5\" halign=\"left\">Tenaga Kesehatan</th>\n",
       "      <th colspan=\"4\" halign=\"left\">Lansia</th>\n",
       "      <th>...</th>\n",
       "      <th colspan=\"5\" halign=\"left\">Pelayan Publik</th>\n",
       "      <th colspan=\"5\" halign=\"left\">Total</th>\n",
       "    </tr>\n",
       "    <tr>\n",
       "      <th></th>\n",
       "      <th>Unnamed: 0_level_2</th>\n",
       "      <th>Target Vaksinasi</th>\n",
       "      <th>Vaksinasi 1</th>\n",
       "      <th>Vaksinasi 2</th>\n",
       "      <th>Persentase 1</th>\n",
       "      <th>Persentase 2</th>\n",
       "      <th>Target Vaksinasi</th>\n",
       "      <th>Vaksinasi 1</th>\n",
       "      <th>Vaksinasi 2</th>\n",
       "      <th>Persentase 1</th>\n",
       "      <th>...</th>\n",
       "      <th>Target Vaksinasi</th>\n",
       "      <th>Vaksinasi 1</th>\n",
       "      <th>Vaksinasi 2</th>\n",
       "      <th>Persentase 1</th>\n",
       "      <th>Persentase 2</th>\n",
       "      <th>Target Vaksinasi</th>\n",
       "      <th>Vaksinasi 1</th>\n",
       "      <th>Vaksinasi 2</th>\n",
       "      <th>Persentase 1</th>\n",
       "      <th>Persentase 2</th>\n",
       "    </tr>\n",
       "  </thead>\n",
       "  <tbody>\n",
       "    <tr>\n",
       "      <th>0</th>\n",
       "      <td>5 Maret 2021</td>\n",
       "      <td>112301.0</td>\n",
       "      <td>141425.0</td>\n",
       "      <td>91078.0</td>\n",
       "      <td>1.259339</td>\n",
       "      <td>0.811017</td>\n",
       "      <td>911631.0</td>\n",
       "      <td>76451.0</td>\n",
       "      <td>0.0</td>\n",
       "      <td>0.083862</td>\n",
       "      <td>...</td>\n",
       "      <td>17327169.0</td>\n",
       "      <td>541888.0</td>\n",
       "      <td>2597.0</td>\n",
       "      <td>0.031274</td>\n",
       "      <td>0.000150</td>\n",
       "      <td>40349051.0</td>\n",
       "      <td>2413615.0</td>\n",
       "      <td>1114537.0</td>\n",
       "      <td>0.059818</td>\n",
       "      <td>0.027622</td>\n",
       "    </tr>\n",
       "    <tr>\n",
       "      <th>1</th>\n",
       "      <td>6 Maret 2021</td>\n",
       "      <td>112301.0</td>\n",
       "      <td>144046.0</td>\n",
       "      <td>91379.0</td>\n",
       "      <td>1.282678</td>\n",
       "      <td>0.813697</td>\n",
       "      <td>911631.0</td>\n",
       "      <td>79421.0</td>\n",
       "      <td>0.0</td>\n",
       "      <td>0.087120</td>\n",
       "      <td>...</td>\n",
       "      <td>17327169.0</td>\n",
       "      <td>604456.0</td>\n",
       "      <td>4169.0</td>\n",
       "      <td>0.034885</td>\n",
       "      <td>0.000241</td>\n",
       "      <td>40349051.0</td>\n",
       "      <td>2552265.0</td>\n",
       "      <td>1130524.0</td>\n",
       "      <td>0.063255</td>\n",
       "      <td>0.028019</td>\n",
       "    </tr>\n",
       "    <tr>\n",
       "      <th>2</th>\n",
       "      <td>7 Maret 2021</td>\n",
       "      <td>112301.0</td>\n",
       "      <td>177126.0</td>\n",
       "      <td>91460.0</td>\n",
       "      <td>1.577243</td>\n",
       "      <td>0.814418</td>\n",
       "      <td>911631.0</td>\n",
       "      <td>83628.0</td>\n",
       "      <td>0.0</td>\n",
       "      <td>0.091734</td>\n",
       "      <td>...</td>\n",
       "      <td>17327169.0</td>\n",
       "      <td>623474.0</td>\n",
       "      <td>4445.0</td>\n",
       "      <td>0.035982</td>\n",
       "      <td>0.000257</td>\n",
       "      <td>40349051.0</td>\n",
       "      <td>2888757.0</td>\n",
       "      <td>1133787.0</td>\n",
       "      <td>0.071594</td>\n",
       "      <td>0.028099</td>\n",
       "    </tr>\n",
       "    <tr>\n",
       "      <th>3</th>\n",
       "      <td>8 Maret 2021</td>\n",
       "      <td>112301.0</td>\n",
       "      <td>181237.0</td>\n",
       "      <td>92988.0</td>\n",
       "      <td>1.613850</td>\n",
       "      <td>0.828025</td>\n",
       "      <td>911631.0</td>\n",
       "      <td>95140.0</td>\n",
       "      <td>1.0</td>\n",
       "      <td>0.104362</td>\n",
       "      <td>...</td>\n",
       "      <td>17327169.0</td>\n",
       "      <td>715767.0</td>\n",
       "      <td>8880.0</td>\n",
       "      <td>0.041309</td>\n",
       "      <td>0.000512</td>\n",
       "      <td>40349051.0</td>\n",
       "      <td>3098025.0</td>\n",
       "      <td>1158432.0</td>\n",
       "      <td>0.076781</td>\n",
       "      <td>0.028710</td>\n",
       "    </tr>\n",
       "    <tr>\n",
       "      <th>4</th>\n",
       "      <td>9 Maret 2021</td>\n",
       "      <td>112301.0</td>\n",
       "      <td>113326.0</td>\n",
       "      <td>89984.0</td>\n",
       "      <td>1.009127</td>\n",
       "      <td>0.801275</td>\n",
       "      <td>911631.0</td>\n",
       "      <td>135128.0</td>\n",
       "      <td>675.0</td>\n",
       "      <td>0.148227</td>\n",
       "      <td>...</td>\n",
       "      <td>17327169.0</td>\n",
       "      <td>1510937.0</td>\n",
       "      <td>68527.0</td>\n",
       "      <td>0.087200</td>\n",
       "      <td>0.003955</td>\n",
       "      <td>40349051.0</td>\n",
       "      <td>3337026.0</td>\n",
       "      <td>1197772.0</td>\n",
       "      <td>0.082704</td>\n",
       "      <td>0.029685</td>\n",
       "    </tr>\n",
       "  </tbody>\n",
       "</table>\n",
       "<p>5 rows × 41 columns</p>\n",
       "</div>"
      ],
      "text/plain": [
       "             Tanggal              DKI                                       \\\n",
       "  Unnamed: 0_level_1 Tenaga Kesehatan                                        \n",
       "  Unnamed: 0_level_2 Target Vaksinasi Vaksinasi 1 Vaksinasi 2 Persentase 1   \n",
       "0       5 Maret 2021         112301.0    141425.0     91078.0     1.259339   \n",
       "1       6 Maret 2021         112301.0    144046.0     91379.0     1.282678   \n",
       "2       7 Maret 2021         112301.0    177126.0     91460.0     1.577243   \n",
       "3       8 Maret 2021         112301.0    181237.0     92988.0     1.613850   \n",
       "4       9 Maret 2021         112301.0    113326.0     89984.0     1.009127   \n",
       "\n",
       "                                                                      ...  \\\n",
       "                         Lansia                                       ...   \n",
       "  Persentase 2 Target Vaksinasi Vaksinasi 1 Vaksinasi 2 Persentase 1  ...   \n",
       "0     0.811017         911631.0     76451.0         0.0     0.083862  ...   \n",
       "1     0.813697         911631.0     79421.0         0.0     0.087120  ...   \n",
       "2     0.814418         911631.0     83628.0         0.0     0.091734  ...   \n",
       "3     0.828025         911631.0     95140.0         1.0     0.104362  ...   \n",
       "4     0.801275         911631.0    135128.0       675.0     0.148227  ...   \n",
       "\n",
       "         Indonesia                                                    \\\n",
       "    Pelayan Publik                                                     \n",
       "  Target Vaksinasi Vaksinasi 1 Vaksinasi 2 Persentase 1 Persentase 2   \n",
       "0       17327169.0    541888.0      2597.0     0.031274     0.000150   \n",
       "1       17327169.0    604456.0      4169.0     0.034885     0.000241   \n",
       "2       17327169.0    623474.0      4445.0     0.035982     0.000257   \n",
       "3       17327169.0    715767.0      8880.0     0.041309     0.000512   \n",
       "4       17327169.0   1510937.0     68527.0     0.087200     0.003955   \n",
       "\n",
       "                                                                      \n",
       "             Total                                                    \n",
       "  Target Vaksinasi Vaksinasi 1 Vaksinasi 2 Persentase 1 Persentase 2  \n",
       "0       40349051.0   2413615.0   1114537.0     0.059818     0.027622  \n",
       "1       40349051.0   2552265.0   1130524.0     0.063255     0.028019  \n",
       "2       40349051.0   2888757.0   1133787.0     0.071594     0.028099  \n",
       "3       40349051.0   3098025.0   1158432.0     0.076781     0.028710  \n",
       "4       40349051.0   3337026.0   1197772.0     0.082704     0.029685  \n",
       "\n",
       "[5 rows x 41 columns]"
      ]
     },
     "execution_count": 50,
     "metadata": {},
     "output_type": "execute_result"
    }
   ],
   "source": [
    "data_vaksinasi.head()"
   ]
  },
  {
   "cell_type": "code",
   "execution_count": 51,
   "metadata": {},
   "outputs": [],
   "source": [
    "#  menghapus data yang tidak diperlukan\n",
    "data_vaksinasi = data_vaksinasi.drop(data_vaksinasi[['Indonesia']], axis = 1)"
   ]
  },
  {
   "cell_type": "code",
   "execution_count": 52,
   "metadata": {},
   "outputs": [
    {
     "data": {
      "text/html": [
       "<div>\n",
       "<style scoped>\n",
       "    .dataframe tbody tr th:only-of-type {\n",
       "        vertical-align: middle;\n",
       "    }\n",
       "\n",
       "    .dataframe tbody tr th {\n",
       "        vertical-align: top;\n",
       "    }\n",
       "\n",
       "    .dataframe thead tr th {\n",
       "        text-align: left;\n",
       "    }\n",
       "</style>\n",
       "<table border=\"1\" class=\"dataframe\">\n",
       "  <thead>\n",
       "    <tr>\n",
       "      <th></th>\n",
       "      <th>Tanggal</th>\n",
       "      <th colspan=\"20\" halign=\"left\">DKI</th>\n",
       "    </tr>\n",
       "    <tr>\n",
       "      <th></th>\n",
       "      <th>Unnamed: 0_level_1</th>\n",
       "      <th colspan=\"5\" halign=\"left\">Tenaga Kesehatan</th>\n",
       "      <th colspan=\"4\" halign=\"left\">Lansia</th>\n",
       "      <th>...</th>\n",
       "      <th colspan=\"5\" halign=\"left\">Pelayan Publik</th>\n",
       "      <th colspan=\"5\" halign=\"left\">Total</th>\n",
       "    </tr>\n",
       "    <tr>\n",
       "      <th></th>\n",
       "      <th>Unnamed: 0_level_2</th>\n",
       "      <th>Target Vaksinasi</th>\n",
       "      <th>Vaksinasi 1</th>\n",
       "      <th>Vaksinasi 2</th>\n",
       "      <th>Persentase 1</th>\n",
       "      <th>Persentase 2</th>\n",
       "      <th>Target Vaksinasi</th>\n",
       "      <th>Vaksinasi 1</th>\n",
       "      <th>Vaksinasi 2</th>\n",
       "      <th>Persentase 1</th>\n",
       "      <th>...</th>\n",
       "      <th>Target Vaksinasi</th>\n",
       "      <th>Vaksinasi 1</th>\n",
       "      <th>Vaksinasi 2</th>\n",
       "      <th>Persentase 1</th>\n",
       "      <th>Persentase 2</th>\n",
       "      <th>Target Vaksinasi</th>\n",
       "      <th>Vaksinasi 1</th>\n",
       "      <th>Vaksinasi 2</th>\n",
       "      <th>Persentase 1</th>\n",
       "      <th>Persentase 2</th>\n",
       "    </tr>\n",
       "  </thead>\n",
       "  <tbody>\n",
       "    <tr>\n",
       "      <th>0</th>\n",
       "      <td>5 Maret 2021</td>\n",
       "      <td>112301.0</td>\n",
       "      <td>141425.0</td>\n",
       "      <td>91078.0</td>\n",
       "      <td>1.259339</td>\n",
       "      <td>0.811017</td>\n",
       "      <td>911631.0</td>\n",
       "      <td>76451.0</td>\n",
       "      <td>0.0</td>\n",
       "      <td>0.083862</td>\n",
       "      <td>...</td>\n",
       "      <td>1976757.0</td>\n",
       "      <td>64121.0</td>\n",
       "      <td>0.0</td>\n",
       "      <td>0.032437</td>\n",
       "      <td>0.000000</td>\n",
       "      <td>3000689.0</td>\n",
       "      <td>281997.0</td>\n",
       "      <td>91078.0</td>\n",
       "      <td>0.093977</td>\n",
       "      <td>0.030352</td>\n",
       "    </tr>\n",
       "    <tr>\n",
       "      <th>1</th>\n",
       "      <td>6 Maret 2021</td>\n",
       "      <td>112301.0</td>\n",
       "      <td>144046.0</td>\n",
       "      <td>91379.0</td>\n",
       "      <td>1.282678</td>\n",
       "      <td>0.813697</td>\n",
       "      <td>911631.0</td>\n",
       "      <td>79421.0</td>\n",
       "      <td>0.0</td>\n",
       "      <td>0.087120</td>\n",
       "      <td>...</td>\n",
       "      <td>1976757.0</td>\n",
       "      <td>66484.0</td>\n",
       "      <td>0.0</td>\n",
       "      <td>0.033633</td>\n",
       "      <td>0.000000</td>\n",
       "      <td>3000689.0</td>\n",
       "      <td>289951.0</td>\n",
       "      <td>91379.0</td>\n",
       "      <td>0.096628</td>\n",
       "      <td>0.030453</td>\n",
       "    </tr>\n",
       "    <tr>\n",
       "      <th>2</th>\n",
       "      <td>7 Maret 2021</td>\n",
       "      <td>112301.0</td>\n",
       "      <td>177126.0</td>\n",
       "      <td>91460.0</td>\n",
       "      <td>1.577243</td>\n",
       "      <td>0.814418</td>\n",
       "      <td>911631.0</td>\n",
       "      <td>83628.0</td>\n",
       "      <td>0.0</td>\n",
       "      <td>0.091734</td>\n",
       "      <td>...</td>\n",
       "      <td>1976757.0</td>\n",
       "      <td>73752.0</td>\n",
       "      <td>2514.0</td>\n",
       "      <td>0.037310</td>\n",
       "      <td>0.001272</td>\n",
       "      <td>3000689.0</td>\n",
       "      <td>334506.0</td>\n",
       "      <td>93974.0</td>\n",
       "      <td>0.111476</td>\n",
       "      <td>0.031317</td>\n",
       "    </tr>\n",
       "    <tr>\n",
       "      <th>3</th>\n",
       "      <td>8 Maret 2021</td>\n",
       "      <td>112301.0</td>\n",
       "      <td>181237.0</td>\n",
       "      <td>92988.0</td>\n",
       "      <td>1.613850</td>\n",
       "      <td>0.828025</td>\n",
       "      <td>911631.0</td>\n",
       "      <td>95140.0</td>\n",
       "      <td>1.0</td>\n",
       "      <td>0.104362</td>\n",
       "      <td>...</td>\n",
       "      <td>1976757.0</td>\n",
       "      <td>85333.0</td>\n",
       "      <td>3989.0</td>\n",
       "      <td>0.043168</td>\n",
       "      <td>0.002018</td>\n",
       "      <td>3000689.0</td>\n",
       "      <td>361710.0</td>\n",
       "      <td>96978.0</td>\n",
       "      <td>0.120542</td>\n",
       "      <td>0.032319</td>\n",
       "    </tr>\n",
       "    <tr>\n",
       "      <th>4</th>\n",
       "      <td>9 Maret 2021</td>\n",
       "      <td>112301.0</td>\n",
       "      <td>113326.0</td>\n",
       "      <td>89984.0</td>\n",
       "      <td>1.009127</td>\n",
       "      <td>0.801275</td>\n",
       "      <td>911631.0</td>\n",
       "      <td>135128.0</td>\n",
       "      <td>675.0</td>\n",
       "      <td>0.148227</td>\n",
       "      <td>...</td>\n",
       "      <td>1976757.0</td>\n",
       "      <td>174685.0</td>\n",
       "      <td>29195.0</td>\n",
       "      <td>0.088369</td>\n",
       "      <td>0.014769</td>\n",
       "      <td>3000689.0</td>\n",
       "      <td>423139.0</td>\n",
       "      <td>119854.0</td>\n",
       "      <td>0.141014</td>\n",
       "      <td>0.039942</td>\n",
       "    </tr>\n",
       "  </tbody>\n",
       "</table>\n",
       "<p>5 rows × 21 columns</p>\n",
       "</div>"
      ],
      "text/plain": [
       "             Tanggal              DKI                                       \\\n",
       "  Unnamed: 0_level_1 Tenaga Kesehatan                                        \n",
       "  Unnamed: 0_level_2 Target Vaksinasi Vaksinasi 1 Vaksinasi 2 Persentase 1   \n",
       "0       5 Maret 2021         112301.0    141425.0     91078.0     1.259339   \n",
       "1       6 Maret 2021         112301.0    144046.0     91379.0     1.282678   \n",
       "2       7 Maret 2021         112301.0    177126.0     91460.0     1.577243   \n",
       "3       8 Maret 2021         112301.0    181237.0     92988.0     1.613850   \n",
       "4       9 Maret 2021         112301.0    113326.0     89984.0     1.009127   \n",
       "\n",
       "                                                                      ...  \\\n",
       "                         Lansia                                       ...   \n",
       "  Persentase 2 Target Vaksinasi Vaksinasi 1 Vaksinasi 2 Persentase 1  ...   \n",
       "0     0.811017         911631.0     76451.0         0.0     0.083862  ...   \n",
       "1     0.813697         911631.0     79421.0         0.0     0.087120  ...   \n",
       "2     0.814418         911631.0     83628.0         0.0     0.091734  ...   \n",
       "3     0.828025         911631.0     95140.0         1.0     0.104362  ...   \n",
       "4     0.801275         911631.0    135128.0       675.0     0.148227  ...   \n",
       "\n",
       "                                                                      \\\n",
       "    Pelayan Publik                                                     \n",
       "  Target Vaksinasi Vaksinasi 1 Vaksinasi 2 Persentase 1 Persentase 2   \n",
       "0        1976757.0     64121.0         0.0     0.032437     0.000000   \n",
       "1        1976757.0     66484.0         0.0     0.033633     0.000000   \n",
       "2        1976757.0     73752.0      2514.0     0.037310     0.001272   \n",
       "3        1976757.0     85333.0      3989.0     0.043168     0.002018   \n",
       "4        1976757.0    174685.0     29195.0     0.088369     0.014769   \n",
       "\n",
       "                                                                      \n",
       "             Total                                                    \n",
       "  Target Vaksinasi Vaksinasi 1 Vaksinasi 2 Persentase 1 Persentase 2  \n",
       "0        3000689.0    281997.0     91078.0     0.093977     0.030352  \n",
       "1        3000689.0    289951.0     91379.0     0.096628     0.030453  \n",
       "2        3000689.0    334506.0     93974.0     0.111476     0.031317  \n",
       "3        3000689.0    361710.0     96978.0     0.120542     0.032319  \n",
       "4        3000689.0    423139.0    119854.0     0.141014     0.039942  \n",
       "\n",
       "[5 rows x 21 columns]"
      ]
     },
     "execution_count": 52,
     "metadata": {},
     "output_type": "execute_result"
    }
   ],
   "source": [
    "data_vaksinasi.head()"
   ]
  },
  {
   "cell_type": "markdown",
   "metadata": {},
   "source": [
    "# Mengambil data dari dataset Indo jakarta mulai dari 5 Maret 2021 "
   ]
  },
  {
   "cell_type": "code",
   "execution_count": 53,
   "metadata": {},
   "outputs": [
    {
     "data": {
      "text/html": [
       "<div>\n",
       "<style scoped>\n",
       "    .dataframe tbody tr th:only-of-type {\n",
       "        vertical-align: middle;\n",
       "    }\n",
       "\n",
       "    .dataframe tbody tr th {\n",
       "        vertical-align: top;\n",
       "    }\n",
       "\n",
       "    .dataframe thead th {\n",
       "        text-align: right;\n",
       "    }\n",
       "</style>\n",
       "<table border=\"1\" class=\"dataframe\">\n",
       "  <thead>\n",
       "    <tr style=\"text-align: right;\">\n",
       "      <th></th>\n",
       "      <th>Tanggal</th>\n",
       "      <th>Positif Harian (Jakarta)</th>\n",
       "      <th>Positif Aktif Harian (Jakarta)</th>\n",
       "    </tr>\n",
       "  </thead>\n",
       "  <tbody>\n",
       "    <tr>\n",
       "      <th>369</th>\n",
       "      <td>369.0</td>\n",
       "      <td>1159</td>\n",
       "      <td>-228</td>\n",
       "    </tr>\n",
       "    <tr>\n",
       "      <th>370</th>\n",
       "      <td>370.0</td>\n",
       "      <td>1616</td>\n",
       "      <td>53</td>\n",
       "    </tr>\n",
       "    <tr>\n",
       "      <th>371</th>\n",
       "      <td>371.0</td>\n",
       "      <td>1834</td>\n",
       "      <td>-17</td>\n",
       "    </tr>\n",
       "    <tr>\n",
       "      <th>372</th>\n",
       "      <td>372.0</td>\n",
       "      <td>1783</td>\n",
       "      <td>230</td>\n",
       "    </tr>\n",
       "    <tr>\n",
       "      <th>373</th>\n",
       "      <td>373.0</td>\n",
       "      <td>867</td>\n",
       "      <td>-834</td>\n",
       "    </tr>\n",
       "  </tbody>\n",
       "</table>\n",
       "</div>"
      ],
      "text/plain": [
       "     Tanggal  Positif Harian (Jakarta)  Positif Aktif Harian (Jakarta)\n",
       "369    369.0                      1159                            -228\n",
       "370    370.0                      1616                              53\n",
       "371    371.0                      1834                             -17\n",
       "372    372.0                      1783                             230\n",
       "373    373.0                       867                            -834"
      ]
     },
     "execution_count": 53,
     "metadata": {},
     "output_type": "execute_result"
    }
   ],
   "source": [
    "#  mengambil data mulai dari 5 Maret 2021\n",
    "data_indo_jakarta = data_indojakarta[369:]\n",
    "data_indo_jakarta.head(5)"
   ]
  },
  {
   "cell_type": "code",
   "execution_count": 54,
   "metadata": {},
   "outputs": [],
   "source": [
    "data_indo_jakarta = data_indo_jakarta.reset_index()\n"
   ]
  },
  {
   "cell_type": "code",
   "execution_count": 55,
   "metadata": {},
   "outputs": [
    {
     "data": {
      "text/html": [
       "<div>\n",
       "<style scoped>\n",
       "    .dataframe tbody tr th:only-of-type {\n",
       "        vertical-align: middle;\n",
       "    }\n",
       "\n",
       "    .dataframe tbody tr th {\n",
       "        vertical-align: top;\n",
       "    }\n",
       "\n",
       "    .dataframe thead th {\n",
       "        text-align: right;\n",
       "    }\n",
       "</style>\n",
       "<table border=\"1\" class=\"dataframe\">\n",
       "  <thead>\n",
       "    <tr style=\"text-align: right;\">\n",
       "      <th></th>\n",
       "      <th>index</th>\n",
       "      <th>Tanggal</th>\n",
       "      <th>Positif Harian (Jakarta)</th>\n",
       "      <th>Positif Aktif Harian (Jakarta)</th>\n",
       "    </tr>\n",
       "  </thead>\n",
       "  <tbody>\n",
       "    <tr>\n",
       "      <th>0</th>\n",
       "      <td>369</td>\n",
       "      <td>369.0</td>\n",
       "      <td>1159</td>\n",
       "      <td>-228</td>\n",
       "    </tr>\n",
       "    <tr>\n",
       "      <th>1</th>\n",
       "      <td>370</td>\n",
       "      <td>370.0</td>\n",
       "      <td>1616</td>\n",
       "      <td>53</td>\n",
       "    </tr>\n",
       "    <tr>\n",
       "      <th>2</th>\n",
       "      <td>371</td>\n",
       "      <td>371.0</td>\n",
       "      <td>1834</td>\n",
       "      <td>-17</td>\n",
       "    </tr>\n",
       "    <tr>\n",
       "      <th>3</th>\n",
       "      <td>372</td>\n",
       "      <td>372.0</td>\n",
       "      <td>1783</td>\n",
       "      <td>230</td>\n",
       "    </tr>\n",
       "    <tr>\n",
       "      <th>4</th>\n",
       "      <td>373</td>\n",
       "      <td>373.0</td>\n",
       "      <td>867</td>\n",
       "      <td>-834</td>\n",
       "    </tr>\n",
       "  </tbody>\n",
       "</table>\n",
       "</div>"
      ],
      "text/plain": [
       "   index  Tanggal  Positif Harian (Jakarta)  Positif Aktif Harian (Jakarta)\n",
       "0    369    369.0                      1159                            -228\n",
       "1    370    370.0                      1616                              53\n",
       "2    371    371.0                      1834                             -17\n",
       "3    372    372.0                      1783                             230\n",
       "4    373    373.0                       867                            -834"
      ]
     },
     "execution_count": 55,
     "metadata": {},
     "output_type": "execute_result"
    }
   ],
   "source": [
    "data_indo_jakarta.head(5)"
   ]
  },
  {
   "cell_type": "markdown",
   "metadata": {},
   "source": [
    "# Mengambil judul dan fitur yang kita perlukan untuk mencari korelasi dan membuat scatter plot matriks"
   ]
  },
  {
   "cell_type": "markdown",
   "metadata": {},
   "source": [
    "Untuk Dataset Antigen"
   ]
  },
  {
   "cell_type": "code",
   "execution_count": 56,
   "metadata": {},
   "outputs": [],
   "source": [
    "# Memasukkan Kolom Total DKI Jakarta dari data_antigen kedalam suatu variabel\n",
    "total_dki_jakarta = data_antigen['Total DKI Jakarta']"
   ]
  },
  {
   "cell_type": "code",
   "execution_count": 57,
   "metadata": {},
   "outputs": [
    {
     "data": {
      "text/plain": [
       "(38, 8)"
      ]
     },
     "execution_count": 57,
     "metadata": {},
     "output_type": "execute_result"
    }
   ],
   "source": [
    "total_dki_jakarta.shape"
   ]
  },
  {
   "cell_type": "markdown",
   "metadata": {},
   "source": [
    "Untuk Dataset Vaksinasi"
   ]
  },
  {
   "cell_type": "code",
   "execution_count": 58,
   "metadata": {},
   "outputs": [],
   "source": [
    "#  Memasukkan judul DKI dari data_vaksinasi kedalam suatu variabel\n",
    "data_DKI = data_vaksinasi['DKI'] \n",
    "\n",
    "# Memasukkan masing-masing kolom yang ada pada data_DKI kedalam masing-masing variabel\n",
    "data_tenaga_kesehatan_dki = data_DKI['Tenaga Kesehatan']\n",
    "data_lansia_dki = data_DKI['Lansia']\n",
    "data_pelayan_publik_dki = data_DKI['Pelayan Publik']\n",
    "data_total_dki = data_DKI['Total']"
   ]
  },
  {
   "cell_type": "markdown",
   "metadata": {},
   "source": [
    "Mengganti nama fitur yang sama di dalam masing-masing judul yang kita perlukan"
   ]
  },
  {
   "cell_type": "code",
   "execution_count": 59,
   "metadata": {},
   "outputs": [],
   "source": [
    "#  mengganti nama kolom dari setiap judul\n",
    "data_tenaga_kesehatan_dki = data_tenaga_kesehatan_dki.rename(columns= \n",
    "                                         {'Vaksinasi 1': 'Vaksinasi 1 Tenaga Kesehatan',\n",
    "                                          'Vaksinasi 2': 'Vaksinasi 2 Tenaga Kesehatan',\n",
    "                                          'Persentase 1':'Persentase 1 Tenaga Kesehatan',\n",
    "                                          'Persentase 2':'Persentase 2 Tenaga Kesehatan',\n",
    "                                         },inplace=False)\n",
    "\n",
    "data_lansia_dki = data_lansia_dki.rename(columns= \n",
    "                                         {'Vaksinasi 1': 'Vaksinasi 1 Lansia',\n",
    "                                          'Vaksinasi 2': 'Vaksinasi 2 Lansia',\n",
    "                                          'Persentase 1':'Persentase 1 Lansia',\n",
    "                                          'Persentase 2':'Persentase 2 Lansia',\n",
    "                                          },inplace=False)\n",
    "\n",
    "data_pelayan_publik_dki = data_pelayan_publik_dki.rename(columns= \n",
    "                                         {'Vaksinasi 1': 'Vaksinasi 1 Pelayan Publik',\n",
    "                                          'Vaksinasi 2': 'Vaksinasi 2 Pelayan Publik',\n",
    "                                          'Persentase 1':'Persentase 1 Pelayan Publik',\n",
    "                                          'Persentase 2':'Persentase 2 Pelayan Publik',\n",
    "                                          },inplace=False)\n",
    "data_total_dki = data_total_dki.rename(columns= \n",
    "                                         {'Vaksinasi 1': 'Vaksinasi 1 Total',\n",
    "                                          'Vaksinasi 2': 'Vaksinasi 2 Total',\n",
    "                                          'Persentase 1':'Persentase 1 Total',\n",
    "                                          'Persentase 2':'Persentase 2 Total',\n",
    "                                         },inplace=False)\n",
    "                                        \n",
    "\n"
   ]
  },
  {
   "cell_type": "markdown",
   "metadata": {},
   "source": [
    "Membuat dataframe baru yang berisi semua komponen yang kita butuhkan"
   ]
  },
  {
   "cell_type": "code",
   "execution_count": 60,
   "metadata": {},
   "outputs": [],
   "source": [
    "#  Menggabungkan keseluruhan data didalam satu dataframe yang baru\n",
    "\n",
    "data =  [\n",
    "        data_indo_jakarta['Positif Harian (Jakarta)'],\n",
    "    \n",
    "        total_dki_jakarta[[\n",
    "                           'Tes Harian',\n",
    "                           'Positif  Harian',\n",
    "                           'Positivity Rate Harian'\n",
    "                         ]],\n",
    "    \n",
    "        data_tenaga_kesehatan_dki[[\n",
    "                                    'Vaksinasi 1 Tenaga Kesehatan',\n",
    "                                    'Vaksinasi 2 Tenaga Kesehatan',\n",
    "                                    'Persentase 1 Tenaga Kesehatan',\n",
    "                                    'Persentase 2 Tenaga Kesehatan'\n",
    "                                 ]],\n",
    "    \n",
    "        data_lansia_dki[[ \n",
    "                           'Vaksinasi 1 Lansia',\n",
    "                           'Vaksinasi 2 Lansia',\n",
    "                           'Persentase 1 Lansia',\n",
    "                           'Persentase 2 Lansia'\n",
    "                       ]],\n",
    "    \n",
    "        data_pelayan_publik_dki[[ \n",
    "                                  'Vaksinasi 1 Pelayan Publik',\n",
    "                                  'Vaksinasi 2 Pelayan Publik',\n",
    "                                  'Persentase 1 Pelayan Publik',\n",
    "                                  'Persentase 2 Pelayan Publik'\n",
    "                               ]],\n",
    "    \n",
    "        data_total_dki[[\n",
    "                         'Vaksinasi 1 Total',\n",
    "                         'Vaksinasi 2 Total',\n",
    "                         'Persentase 1 Total',\n",
    "                         'Persentase 2 Total'\n",
    "                       ]],\n",
    "    \n",
    "        ]\n",
    "\n",
    "new_dataframe = pd.concat(data, axis=1)"
   ]
  },
  {
   "cell_type": "code",
   "execution_count": 61,
   "metadata": {},
   "outputs": [
    {
     "data": {
      "text/html": [
       "<div>\n",
       "<style scoped>\n",
       "    .dataframe tbody tr th:only-of-type {\n",
       "        vertical-align: middle;\n",
       "    }\n",
       "\n",
       "    .dataframe tbody tr th {\n",
       "        vertical-align: top;\n",
       "    }\n",
       "\n",
       "    .dataframe thead th {\n",
       "        text-align: right;\n",
       "    }\n",
       "</style>\n",
       "<table border=\"1\" class=\"dataframe\">\n",
       "  <thead>\n",
       "    <tr style=\"text-align: right;\">\n",
       "      <th></th>\n",
       "      <th>Positif Harian (Jakarta)</th>\n",
       "      <th>Tes Harian</th>\n",
       "      <th>Positif  Harian</th>\n",
       "      <th>Positivity Rate Harian</th>\n",
       "      <th>Vaksinasi 1 Tenaga Kesehatan</th>\n",
       "      <th>Vaksinasi 2 Tenaga Kesehatan</th>\n",
       "      <th>Persentase 1 Tenaga Kesehatan</th>\n",
       "      <th>Persentase 2 Tenaga Kesehatan</th>\n",
       "      <th>Vaksinasi 1 Lansia</th>\n",
       "      <th>Vaksinasi 2 Lansia</th>\n",
       "      <th>Persentase 1 Lansia</th>\n",
       "      <th>Persentase 2 Lansia</th>\n",
       "      <th>Vaksinasi 1 Pelayan Publik</th>\n",
       "      <th>Vaksinasi 2 Pelayan Publik</th>\n",
       "      <th>Persentase 1 Pelayan Publik</th>\n",
       "      <th>Persentase 2 Pelayan Publik</th>\n",
       "      <th>Vaksinasi 1 Total</th>\n",
       "      <th>Vaksinasi 2 Total</th>\n",
       "      <th>Persentase 1 Total</th>\n",
       "      <th>Persentase 2 Total</th>\n",
       "    </tr>\n",
       "  </thead>\n",
       "  <tbody>\n",
       "    <tr>\n",
       "      <th>0</th>\n",
       "      <td>1159</td>\n",
       "      <td>1297.0</td>\n",
       "      <td>49.0</td>\n",
       "      <td>0.037779</td>\n",
       "      <td>141425.0</td>\n",
       "      <td>91078.0</td>\n",
       "      <td>1.259339</td>\n",
       "      <td>0.811017</td>\n",
       "      <td>76451.0</td>\n",
       "      <td>0.0</td>\n",
       "      <td>0.083862</td>\n",
       "      <td>0.000000</td>\n",
       "      <td>64121.0</td>\n",
       "      <td>0.0</td>\n",
       "      <td>0.032437</td>\n",
       "      <td>0.000000</td>\n",
       "      <td>281997.0</td>\n",
       "      <td>91078.0</td>\n",
       "      <td>0.093977</td>\n",
       "      <td>0.030352</td>\n",
       "    </tr>\n",
       "    <tr>\n",
       "      <th>1</th>\n",
       "      <td>1616</td>\n",
       "      <td>1425.0</td>\n",
       "      <td>60.0</td>\n",
       "      <td>0.042105</td>\n",
       "      <td>144046.0</td>\n",
       "      <td>91379.0</td>\n",
       "      <td>1.282678</td>\n",
       "      <td>0.813697</td>\n",
       "      <td>79421.0</td>\n",
       "      <td>0.0</td>\n",
       "      <td>0.087120</td>\n",
       "      <td>0.000000</td>\n",
       "      <td>66484.0</td>\n",
       "      <td>0.0</td>\n",
       "      <td>0.033633</td>\n",
       "      <td>0.000000</td>\n",
       "      <td>289951.0</td>\n",
       "      <td>91379.0</td>\n",
       "      <td>0.096628</td>\n",
       "      <td>0.030453</td>\n",
       "    </tr>\n",
       "    <tr>\n",
       "      <th>2</th>\n",
       "      <td>1834</td>\n",
       "      <td>1371.0</td>\n",
       "      <td>97.0</td>\n",
       "      <td>0.070751</td>\n",
       "      <td>177126.0</td>\n",
       "      <td>91460.0</td>\n",
       "      <td>1.577243</td>\n",
       "      <td>0.814418</td>\n",
       "      <td>83628.0</td>\n",
       "      <td>0.0</td>\n",
       "      <td>0.091734</td>\n",
       "      <td>0.000000</td>\n",
       "      <td>73752.0</td>\n",
       "      <td>2514.0</td>\n",
       "      <td>0.037310</td>\n",
       "      <td>0.001272</td>\n",
       "      <td>334506.0</td>\n",
       "      <td>93974.0</td>\n",
       "      <td>0.111476</td>\n",
       "      <td>0.031317</td>\n",
       "    </tr>\n",
       "    <tr>\n",
       "      <th>3</th>\n",
       "      <td>1783</td>\n",
       "      <td>737.0</td>\n",
       "      <td>33.0</td>\n",
       "      <td>0.044776</td>\n",
       "      <td>181237.0</td>\n",
       "      <td>92988.0</td>\n",
       "      <td>1.613850</td>\n",
       "      <td>0.828025</td>\n",
       "      <td>95140.0</td>\n",
       "      <td>1.0</td>\n",
       "      <td>0.104362</td>\n",
       "      <td>0.000001</td>\n",
       "      <td>85333.0</td>\n",
       "      <td>3989.0</td>\n",
       "      <td>0.043168</td>\n",
       "      <td>0.002018</td>\n",
       "      <td>361710.0</td>\n",
       "      <td>96978.0</td>\n",
       "      <td>0.120542</td>\n",
       "      <td>0.032319</td>\n",
       "    </tr>\n",
       "    <tr>\n",
       "      <th>4</th>\n",
       "      <td>867</td>\n",
       "      <td>502.0</td>\n",
       "      <td>18.0</td>\n",
       "      <td>0.035857</td>\n",
       "      <td>113326.0</td>\n",
       "      <td>89984.0</td>\n",
       "      <td>1.009127</td>\n",
       "      <td>0.801275</td>\n",
       "      <td>135128.0</td>\n",
       "      <td>675.0</td>\n",
       "      <td>0.148227</td>\n",
       "      <td>0.000740</td>\n",
       "      <td>174685.0</td>\n",
       "      <td>29195.0</td>\n",
       "      <td>0.088369</td>\n",
       "      <td>0.014769</td>\n",
       "      <td>423139.0</td>\n",
       "      <td>119854.0</td>\n",
       "      <td>0.141014</td>\n",
       "      <td>0.039942</td>\n",
       "    </tr>\n",
       "  </tbody>\n",
       "</table>\n",
       "</div>"
      ],
      "text/plain": [
       "   Positif Harian (Jakarta)  Tes Harian  Positif  Harian  \\\n",
       "0                      1159      1297.0             49.0   \n",
       "1                      1616      1425.0             60.0   \n",
       "2                      1834      1371.0             97.0   \n",
       "3                      1783       737.0             33.0   \n",
       "4                       867       502.0             18.0   \n",
       "\n",
       "   Positivity Rate Harian  Vaksinasi 1 Tenaga Kesehatan  \\\n",
       "0                0.037779                      141425.0   \n",
       "1                0.042105                      144046.0   \n",
       "2                0.070751                      177126.0   \n",
       "3                0.044776                      181237.0   \n",
       "4                0.035857                      113326.0   \n",
       "\n",
       "   Vaksinasi 2 Tenaga Kesehatan  Persentase 1 Tenaga Kesehatan  \\\n",
       "0                       91078.0                       1.259339   \n",
       "1                       91379.0                       1.282678   \n",
       "2                       91460.0                       1.577243   \n",
       "3                       92988.0                       1.613850   \n",
       "4                       89984.0                       1.009127   \n",
       "\n",
       "   Persentase 2 Tenaga Kesehatan  Vaksinasi 1 Lansia  Vaksinasi 2 Lansia  \\\n",
       "0                       0.811017             76451.0                 0.0   \n",
       "1                       0.813697             79421.0                 0.0   \n",
       "2                       0.814418             83628.0                 0.0   \n",
       "3                       0.828025             95140.0                 1.0   \n",
       "4                       0.801275            135128.0               675.0   \n",
       "\n",
       "   Persentase 1 Lansia  Persentase 2 Lansia  Vaksinasi 1 Pelayan Publik  \\\n",
       "0             0.083862             0.000000                     64121.0   \n",
       "1             0.087120             0.000000                     66484.0   \n",
       "2             0.091734             0.000000                     73752.0   \n",
       "3             0.104362             0.000001                     85333.0   \n",
       "4             0.148227             0.000740                    174685.0   \n",
       "\n",
       "   Vaksinasi 2 Pelayan Publik  Persentase 1 Pelayan Publik  \\\n",
       "0                         0.0                     0.032437   \n",
       "1                         0.0                     0.033633   \n",
       "2                      2514.0                     0.037310   \n",
       "3                      3989.0                     0.043168   \n",
       "4                     29195.0                     0.088369   \n",
       "\n",
       "   Persentase 2 Pelayan Publik  Vaksinasi 1 Total  Vaksinasi 2 Total  \\\n",
       "0                     0.000000           281997.0            91078.0   \n",
       "1                     0.000000           289951.0            91379.0   \n",
       "2                     0.001272           334506.0            93974.0   \n",
       "3                     0.002018           361710.0            96978.0   \n",
       "4                     0.014769           423139.0           119854.0   \n",
       "\n",
       "   Persentase 1 Total  Persentase 2 Total  \n",
       "0            0.093977            0.030352  \n",
       "1            0.096628            0.030453  \n",
       "2            0.111476            0.031317  \n",
       "3            0.120542            0.032319  \n",
       "4            0.141014            0.039942  "
      ]
     },
     "execution_count": 61,
     "metadata": {},
     "output_type": "execute_result"
    }
   ],
   "source": [
    "new_dataframe.head(5)"
   ]
  },
  {
   "cell_type": "code",
   "execution_count": 62,
   "metadata": {},
   "outputs": [
    {
     "name": "stdout",
     "output_type": "stream",
     "text": [
      "<class 'pandas.core.frame.DataFrame'>\n",
      "RangeIndex: 38 entries, 0 to 37\n",
      "Data columns (total 20 columns):\n",
      " #   Column                         Non-Null Count  Dtype  \n",
      "---  ------                         --------------  -----  \n",
      " 0   Positif Harian (Jakarta)       38 non-null     int64  \n",
      " 1   Tes Harian                     38 non-null     float64\n",
      " 2   Positif  Harian                38 non-null     float64\n",
      " 3   Positivity Rate Harian         38 non-null     float64\n",
      " 4   Vaksinasi 1 Tenaga Kesehatan   38 non-null     float64\n",
      " 5   Vaksinasi 2 Tenaga Kesehatan   38 non-null     float64\n",
      " 6   Persentase 1 Tenaga Kesehatan  38 non-null     float64\n",
      " 7   Persentase 2 Tenaga Kesehatan  38 non-null     float64\n",
      " 8   Vaksinasi 1 Lansia             38 non-null     float64\n",
      " 9   Vaksinasi 2 Lansia             38 non-null     float64\n",
      " 10  Persentase 1 Lansia            38 non-null     float64\n",
      " 11  Persentase 2 Lansia            38 non-null     float64\n",
      " 12  Vaksinasi 1 Pelayan Publik     38 non-null     float64\n",
      " 13  Vaksinasi 2 Pelayan Publik     38 non-null     float64\n",
      " 14  Persentase 1 Pelayan Publik    38 non-null     float64\n",
      " 15  Persentase 2 Pelayan Publik    38 non-null     float64\n",
      " 16  Vaksinasi 1 Total              38 non-null     float64\n",
      " 17  Vaksinasi 2 Total              38 non-null     float64\n",
      " 18  Persentase 1 Total             38 non-null     float64\n",
      " 19  Persentase 2 Total             38 non-null     float64\n",
      "dtypes: float64(19), int64(1)\n",
      "memory usage: 6.1 KB\n"
     ]
    }
   ],
   "source": [
    "new_dataframe.info()"
   ]
  },
  {
   "cell_type": "code",
   "execution_count": 64,
   "metadata": {},
   "outputs": [
    {
     "data": {
      "text/html": [
       "<div>\n",
       "<style scoped>\n",
       "    .dataframe tbody tr th:only-of-type {\n",
       "        vertical-align: middle;\n",
       "    }\n",
       "\n",
       "    .dataframe tbody tr th {\n",
       "        vertical-align: top;\n",
       "    }\n",
       "\n",
       "    .dataframe thead th {\n",
       "        text-align: right;\n",
       "    }\n",
       "</style>\n",
       "<table border=\"1\" class=\"dataframe\">\n",
       "  <thead>\n",
       "    <tr style=\"text-align: right;\">\n",
       "      <th></th>\n",
       "      <th>Positif Harian (Jakarta)</th>\n",
       "      <th>Tes Harian</th>\n",
       "      <th>Positif  Harian</th>\n",
       "      <th>Positivity Rate Harian</th>\n",
       "      <th>Vaksinasi 1 Tenaga Kesehatan</th>\n",
       "      <th>Vaksinasi 2 Tenaga Kesehatan</th>\n",
       "      <th>Persentase 1 Tenaga Kesehatan</th>\n",
       "      <th>Persentase 2 Tenaga Kesehatan</th>\n",
       "      <th>Vaksinasi 1 Lansia</th>\n",
       "      <th>Vaksinasi 2 Lansia</th>\n",
       "      <th>Persentase 1 Lansia</th>\n",
       "      <th>Persentase 2 Lansia</th>\n",
       "      <th>Vaksinasi 1 Pelayan Publik</th>\n",
       "      <th>Vaksinasi 2 Pelayan Publik</th>\n",
       "      <th>Persentase 1 Pelayan Publik</th>\n",
       "      <th>Persentase 2 Pelayan Publik</th>\n",
       "      <th>Vaksinasi 1 Total</th>\n",
       "      <th>Vaksinasi 2 Total</th>\n",
       "      <th>Persentase 1 Total</th>\n",
       "      <th>Persentase 2 Total</th>\n",
       "    </tr>\n",
       "  </thead>\n",
       "  <tbody>\n",
       "    <tr>\n",
       "      <th>33</th>\n",
       "      <td>862</td>\n",
       "      <td>3665.0</td>\n",
       "      <td>74.0</td>\n",
       "      <td>0.020191</td>\n",
       "      <td>122553.0</td>\n",
       "      <td>106800.0</td>\n",
       "      <td>1.091290</td>\n",
       "      <td>0.951016</td>\n",
       "      <td>500370.0</td>\n",
       "      <td>142698.0</td>\n",
       "      <td>0.548873</td>\n",
       "      <td>0.156530</td>\n",
       "      <td>813740.0</td>\n",
       "      <td>369813.0</td>\n",
       "      <td>0.411654</td>\n",
       "      <td>0.187081</td>\n",
       "      <td>1436663.0</td>\n",
       "      <td>619311.0</td>\n",
       "      <td>0.478778</td>\n",
       "      <td>0.206390</td>\n",
       "    </tr>\n",
       "    <tr>\n",
       "      <th>34</th>\n",
       "      <td>1239</td>\n",
       "      <td>4306.0</td>\n",
       "      <td>96.0</td>\n",
       "      <td>0.022294</td>\n",
       "      <td>123061.0</td>\n",
       "      <td>107175.0</td>\n",
       "      <td>1.095814</td>\n",
       "      <td>0.954355</td>\n",
       "      <td>507667.0</td>\n",
       "      <td>148824.0</td>\n",
       "      <td>0.556878</td>\n",
       "      <td>0.163250</td>\n",
       "      <td>844961.0</td>\n",
       "      <td>388298.0</td>\n",
       "      <td>0.427448</td>\n",
       "      <td>0.196432</td>\n",
       "      <td>1475689.0</td>\n",
       "      <td>644297.0</td>\n",
       "      <td>0.491783</td>\n",
       "      <td>0.214716</td>\n",
       "    </tr>\n",
       "    <tr>\n",
       "      <th>35</th>\n",
       "      <td>1013</td>\n",
       "      <td>4619.0</td>\n",
       "      <td>104.0</td>\n",
       "      <td>0.022516</td>\n",
       "      <td>123387.0</td>\n",
       "      <td>107509.0</td>\n",
       "      <td>1.098717</td>\n",
       "      <td>0.957329</td>\n",
       "      <td>516816.0</td>\n",
       "      <td>166705.0</td>\n",
       "      <td>0.566914</td>\n",
       "      <td>0.182865</td>\n",
       "      <td>866503.0</td>\n",
       "      <td>402918.0</td>\n",
       "      <td>0.438346</td>\n",
       "      <td>0.203828</td>\n",
       "      <td>1506706.0</td>\n",
       "      <td>677132.0</td>\n",
       "      <td>0.502120</td>\n",
       "      <td>0.225659</td>\n",
       "    </tr>\n",
       "    <tr>\n",
       "      <th>36</th>\n",
       "      <td>977</td>\n",
       "      <td>4081.0</td>\n",
       "      <td>65.0</td>\n",
       "      <td>0.015927</td>\n",
       "      <td>123474.0</td>\n",
       "      <td>107573.0</td>\n",
       "      <td>1.099492</td>\n",
       "      <td>0.957899</td>\n",
       "      <td>523861.0</td>\n",
       "      <td>173234.0</td>\n",
       "      <td>0.574641</td>\n",
       "      <td>0.190026</td>\n",
       "      <td>880884.0</td>\n",
       "      <td>406805.0</td>\n",
       "      <td>0.445621</td>\n",
       "      <td>0.205794</td>\n",
       "      <td>1528219.0</td>\n",
       "      <td>687612.0</td>\n",
       "      <td>0.509289</td>\n",
       "      <td>0.229151</td>\n",
       "    </tr>\n",
       "    <tr>\n",
       "      <th>37</th>\n",
       "      <td>1031</td>\n",
       "      <td>2550.0</td>\n",
       "      <td>59.0</td>\n",
       "      <td>0.023137</td>\n",
       "      <td>123474.0</td>\n",
       "      <td>107573.0</td>\n",
       "      <td>1.099492</td>\n",
       "      <td>0.957899</td>\n",
       "      <td>523861.0</td>\n",
       "      <td>173234.0</td>\n",
       "      <td>0.574641</td>\n",
       "      <td>0.190026</td>\n",
       "      <td>880884.0</td>\n",
       "      <td>406805.0</td>\n",
       "      <td>0.445621</td>\n",
       "      <td>0.205794</td>\n",
       "      <td>1528219.0</td>\n",
       "      <td>687612.0</td>\n",
       "      <td>0.509289</td>\n",
       "      <td>0.229151</td>\n",
       "    </tr>\n",
       "  </tbody>\n",
       "</table>\n",
       "</div>"
      ],
      "text/plain": [
       "    Positif Harian (Jakarta)  Tes Harian  Positif  Harian  \\\n",
       "33                       862      3665.0             74.0   \n",
       "34                      1239      4306.0             96.0   \n",
       "35                      1013      4619.0            104.0   \n",
       "36                       977      4081.0             65.0   \n",
       "37                      1031      2550.0             59.0   \n",
       "\n",
       "    Positivity Rate Harian  Vaksinasi 1 Tenaga Kesehatan  \\\n",
       "33                0.020191                      122553.0   \n",
       "34                0.022294                      123061.0   \n",
       "35                0.022516                      123387.0   \n",
       "36                0.015927                      123474.0   \n",
       "37                0.023137                      123474.0   \n",
       "\n",
       "    Vaksinasi 2 Tenaga Kesehatan  Persentase 1 Tenaga Kesehatan  \\\n",
       "33                      106800.0                       1.091290   \n",
       "34                      107175.0                       1.095814   \n",
       "35                      107509.0                       1.098717   \n",
       "36                      107573.0                       1.099492   \n",
       "37                      107573.0                       1.099492   \n",
       "\n",
       "    Persentase 2 Tenaga Kesehatan  Vaksinasi 1 Lansia  Vaksinasi 2 Lansia  \\\n",
       "33                       0.951016            500370.0            142698.0   \n",
       "34                       0.954355            507667.0            148824.0   \n",
       "35                       0.957329            516816.0            166705.0   \n",
       "36                       0.957899            523861.0            173234.0   \n",
       "37                       0.957899            523861.0            173234.0   \n",
       "\n",
       "    Persentase 1 Lansia  Persentase 2 Lansia  Vaksinasi 1 Pelayan Publik  \\\n",
       "33             0.548873             0.156530                    813740.0   \n",
       "34             0.556878             0.163250                    844961.0   \n",
       "35             0.566914             0.182865                    866503.0   \n",
       "36             0.574641             0.190026                    880884.0   \n",
       "37             0.574641             0.190026                    880884.0   \n",
       "\n",
       "    Vaksinasi 2 Pelayan Publik  Persentase 1 Pelayan Publik  \\\n",
       "33                    369813.0                     0.411654   \n",
       "34                    388298.0                     0.427448   \n",
       "35                    402918.0                     0.438346   \n",
       "36                    406805.0                     0.445621   \n",
       "37                    406805.0                     0.445621   \n",
       "\n",
       "    Persentase 2 Pelayan Publik  Vaksinasi 1 Total  Vaksinasi 2 Total  \\\n",
       "33                     0.187081          1436663.0           619311.0   \n",
       "34                     0.196432          1475689.0           644297.0   \n",
       "35                     0.203828          1506706.0           677132.0   \n",
       "36                     0.205794          1528219.0           687612.0   \n",
       "37                     0.205794          1528219.0           687612.0   \n",
       "\n",
       "    Persentase 1 Total  Persentase 2 Total  \n",
       "33            0.478778            0.206390  \n",
       "34            0.491783            0.214716  \n",
       "35            0.502120            0.225659  \n",
       "36            0.509289            0.229151  \n",
       "37            0.509289            0.229151  "
      ]
     },
     "execution_count": 64,
     "metadata": {},
     "output_type": "execute_result"
    }
   ],
   "source": [
    "new_dataframe.tail()"
   ]
  },
  {
   "cell_type": "markdown",
   "metadata": {},
   "source": [
    "# Membuat Scatter Plot Matriks dan mencari nilai korelasinya terhadap positif Harian Jakarta"
   ]
  },
  {
   "cell_type": "code",
   "execution_count": 65,
   "metadata": {
    "id": "36kNTjfJocEm"
   },
   "outputs": [
    {
     "data": {
      "text/plain": [
       "array([[<AxesSubplot:xlabel='Positif Harian (Jakarta)', ylabel='Positif Harian (Jakarta)'>,\n",
       "        <AxesSubplot:xlabel='Tes Harian', ylabel='Positif Harian (Jakarta)'>,\n",
       "        <AxesSubplot:xlabel='Positif  Harian', ylabel='Positif Harian (Jakarta)'>,\n",
       "        <AxesSubplot:xlabel='Positivity Rate Harian', ylabel='Positif Harian (Jakarta)'>],\n",
       "       [<AxesSubplot:xlabel='Positif Harian (Jakarta)', ylabel='Tes Harian'>,\n",
       "        <AxesSubplot:xlabel='Tes Harian', ylabel='Tes Harian'>,\n",
       "        <AxesSubplot:xlabel='Positif  Harian', ylabel='Tes Harian'>,\n",
       "        <AxesSubplot:xlabel='Positivity Rate Harian', ylabel='Tes Harian'>],\n",
       "       [<AxesSubplot:xlabel='Positif Harian (Jakarta)', ylabel='Positif  Harian'>,\n",
       "        <AxesSubplot:xlabel='Tes Harian', ylabel='Positif  Harian'>,\n",
       "        <AxesSubplot:xlabel='Positif  Harian', ylabel='Positif  Harian'>,\n",
       "        <AxesSubplot:xlabel='Positivity Rate Harian', ylabel='Positif  Harian'>],\n",
       "       [<AxesSubplot:xlabel='Positif Harian (Jakarta)', ylabel='Positivity Rate Harian'>,\n",
       "        <AxesSubplot:xlabel='Tes Harian', ylabel='Positivity Rate Harian'>,\n",
       "        <AxesSubplot:xlabel='Positif  Harian', ylabel='Positivity Rate Harian'>,\n",
       "        <AxesSubplot:xlabel='Positivity Rate Harian', ylabel='Positivity Rate Harian'>]],\n",
       "      dtype=object)"
      ]
     },
     "execution_count": 65,
     "metadata": {},
     "output_type": "execute_result"
    },
    {
     "data": {
      "image/png": "[encoded data removed]",
      "text/plain": [
       "<Figure size 1080x720 with 16 Axes>"
      ]
     },
     "metadata": {
      "needs_background": "light"
     },
     "output_type": "display_data"
    }
   ],
   "source": [
    "# membuat scatter plot matriks  \n",
    "\n",
    "from pandas.plotting import scatter_matrix\n",
    "attributes = ['Positif Harian (Jakarta)', \n",
    "              'Tes Harian', \n",
    "              'Positif  Harian', \n",
    "              'Positivity Rate Harian'\n",
    "             ]\n",
    "scatter_matrix(new_dataframe[attributes], figsize=(15,10), color='black')"
   ]
  },
  {
   "cell_type": "code",
   "execution_count": 66,
   "metadata": {},
   "outputs": [
    {
     "data": {
      "text/plain": [
       "array([[<AxesSubplot:xlabel='Positif Harian (Jakarta)', ylabel='Positif Harian (Jakarta)'>,\n",
       "        <AxesSubplot:xlabel='Vaksinasi 1 Tenaga Kesehatan', ylabel='Positif Harian (Jakarta)'>,\n",
       "        <AxesSubplot:xlabel='Vaksinasi 2 Tenaga Kesehatan', ylabel='Positif Harian (Jakarta)'>,\n",
       "        <AxesSubplot:xlabel='Persentase 1 Tenaga Kesehatan', ylabel='Positif Harian (Jakarta)'>,\n",
       "        <AxesSubplot:xlabel='Persentase 2 Tenaga Kesehatan', ylabel='Positif Harian (Jakarta)'>],\n",
       "       [<AxesSubplot:xlabel='Positif Harian (Jakarta)', ylabel='Vaksinasi 1 Tenaga Kesehatan'>,\n",
       "        <AxesSubplot:xlabel='Vaksinasi 1 Tenaga Kesehatan', ylabel='Vaksinasi 1 Tenaga Kesehatan'>,\n",
       "        <AxesSubplot:xlabel='Vaksinasi 2 Tenaga Kesehatan', ylabel='Vaksinasi 1 Tenaga Kesehatan'>,\n",
       "        <AxesSubplot:xlabel='Persentase 1 Tenaga Kesehatan', ylabel='Vaksinasi 1 Tenaga Kesehatan'>,\n",
       "        <AxesSubplot:xlabel='Persentase 2 Tenaga Kesehatan', ylabel='Vaksinasi 1 Tenaga Kesehatan'>],\n",
       "       [<AxesSubplot:xlabel='Positif Harian (Jakarta)', ylabel='Vaksinasi 2 Tenaga Kesehatan'>,\n",
       "        <AxesSubplot:xlabel='Vaksinasi 1 Tenaga Kesehatan', ylabel='Vaksinasi 2 Tenaga Kesehatan'>,\n",
       "        <AxesSubplot:xlabel='Vaksinasi 2 Tenaga Kesehatan', ylabel='Vaksinasi 2 Tenaga Kesehatan'>,\n",
       "        <AxesSubplot:xlabel='Persentase 1 Tenaga Kesehatan', ylabel='Vaksinasi 2 Tenaga Kesehatan'>,\n",
       "        <AxesSubplot:xlabel='Persentase 2 Tenaga Kesehatan', ylabel='Vaksinasi 2 Tenaga Kesehatan'>],\n",
       "       [<AxesSubplot:xlabel='Positif Harian (Jakarta)', ylabel='Persentase 1 Tenaga Kesehatan'>,\n",
       "        <AxesSubplot:xlabel='Vaksinasi 1 Tenaga Kesehatan', ylabel='Persentase 1 Tenaga Kesehatan'>,\n",
       "        <AxesSubplot:xlabel='Vaksinasi 2 Tenaga Kesehatan', ylabel='Persentase 1 Tenaga Kesehatan'>,\n",
       "        <AxesSubplot:xlabel='Persentase 1 Tenaga Kesehatan', ylabel='Persentase 1 Tenaga Kesehatan'>,\n",
       "        <AxesSubplot:xlabel='Persentase 2 Tenaga Kesehatan', ylabel='Persentase 1 Tenaga Kesehatan'>],\n",
       "       [<AxesSubplot:xlabel='Positif Harian (Jakarta)', ylabel='Persentase 2 Tenaga Kesehatan'>,\n",
       "        <AxesSubplot:xlabel='Vaksinasi 1 Tenaga Kesehatan', ylabel='Persentase 2 Tenaga Kesehatan'>,\n",
       "        <AxesSubplot:xlabel='Vaksinasi 2 Tenaga Kesehatan', ylabel='Persentase 2 Tenaga Kesehatan'>,\n",
       "        <AxesSubplot:xlabel='Persentase 1 Tenaga Kesehatan', ylabel='Persentase 2 Tenaga Kesehatan'>,\n",
       "        <AxesSubplot:xlabel='Persentase 2 Tenaga Kesehatan', ylabel='Persentase 2 Tenaga Kesehatan'>]],\n",
       "      dtype=object)"
      ]
     },
     "execution_count": 66,
     "metadata": {},
     "output_type": "execute_result"
    },
    {
     "data": {
      "image/png": "[encoded data removed]",
      "text/plain": [
       "<Figure size 1080x720 with 25 Axes>"
      ]
     },
     "metadata": {
      "needs_background": "light"
     },
     "output_type": "display_data"
    }
   ],
   "source": [
    "from pandas.plotting import scatter_matrix\n",
    "attributes = [\n",
    "              'Positif Harian (Jakarta)', \n",
    "              'Vaksinasi 1 Tenaga Kesehatan',\n",
    "              'Vaksinasi 2 Tenaga Kesehatan',\n",
    "              'Persentase 1 Tenaga Kesehatan',\n",
    "              'Persentase 2 Tenaga Kesehatan'\n",
    "             ]\n",
    "scatter_matrix(new_dataframe[attributes], figsize=(15,10), color='black')"
   ]
  },
  {
   "cell_type": "code",
   "execution_count": 67,
   "metadata": {},
   "outputs": [
    {
     "data": {
      "text/plain": [
       "array([[<AxesSubplot:xlabel='Positif Harian (Jakarta)', ylabel='Positif Harian (Jakarta)'>,\n",
       "        <AxesSubplot:xlabel='Vaksinasi 1 Lansia', ylabel='Positif Harian (Jakarta)'>,\n",
       "        <AxesSubplot:xlabel='Vaksinasi 2 Lansia', ylabel='Positif Harian (Jakarta)'>,\n",
       "        <AxesSubplot:xlabel='Persentase 1 Lansia', ylabel='Positif Harian (Jakarta)'>,\n",
       "        <AxesSubplot:xlabel='Persentase 2 Lansia', ylabel='Positif Harian (Jakarta)'>],\n",
       "       [<AxesSubplot:xlabel='Positif Harian (Jakarta)', ylabel='Vaksinasi 1 Lansia'>,\n",
       "        <AxesSubplot:xlabel='Vaksinasi 1 Lansia', ylabel='Vaksinasi 1 Lansia'>,\n",
       "        <AxesSubplot:xlabel='Vaksinasi 2 Lansia', ylabel='Vaksinasi 1 Lansia'>,\n",
       "        <AxesSubplot:xlabel='Persentase 1 Lansia', ylabel='Vaksinasi 1 Lansia'>,\n",
       "        <AxesSubplot:xlabel='Persentase 2 Lansia', ylabel='Vaksinasi 1 Lansia'>],\n",
       "       [<AxesSubplot:xlabel='Positif Harian (Jakarta)', ylabel='Vaksinasi 2 Lansia'>,\n",
       "        <AxesSubplot:xlabel='Vaksinasi 1 Lansia', ylabel='Vaksinasi 2 Lansia'>,\n",
       "        <AxesSubplot:xlabel='Vaksinasi 2 Lansia', ylabel='Vaksinasi 2 Lansia'>,\n",
       "        <AxesSubplot:xlabel='Persentase 1 Lansia', ylabel='Vaksinasi 2 Lansia'>,\n",
       "        <AxesSubplot:xlabel='Persentase 2 Lansia', ylabel='Vaksinasi 2 Lansia'>],\n",
       "       [<AxesSubplot:xlabel='Positif Harian (Jakarta)', ylabel='Persentase 1 Lansia'>,\n",
       "        <AxesSubplot:xlabel='Vaksinasi 1 Lansia', ylabel='Persentase 1 Lansia'>,\n",
       "        <AxesSubplot:xlabel='Vaksinasi 2 Lansia', ylabel='Persentase 1 Lansia'>,\n",
       "        <AxesSubplot:xlabel='Persentase 1 Lansia', ylabel='Persentase 1 Lansia'>,\n",
       "        <AxesSubplot:xlabel='Persentase 2 Lansia', ylabel='Persentase 1 Lansia'>],\n",
       "       [<AxesSubplot:xlabel='Positif Harian (Jakarta)', ylabel='Persentase 2 Lansia'>,\n",
       "        <AxesSubplot:xlabel='Vaksinasi 1 Lansia', ylabel='Persentase 2 Lansia'>,\n",
       "        <AxesSubplot:xlabel='Vaksinasi 2 Lansia', ylabel='Persentase 2 Lansia'>,\n",
       "        <AxesSubplot:xlabel='Persentase 1 Lansia', ylabel='Persentase 2 Lansia'>,\n",
       "        <AxesSubplot:xlabel='Persentase 2 Lansia', ylabel='Persentase 2 Lansia'>]],\n",
       "      dtype=object)"
      ]
     },
     "execution_count": 67,
     "metadata": {},
     "output_type": "execute_result"
    },
    {
     "data": {
      "image/png": "[encoded data removed]",
      "text/plain": [
       "<Figure size 1080x720 with 25 Axes>"
      ]
     },
     "metadata": {
      "needs_background": "light"
     },
     "output_type": "display_data"
    }
   ],
   "source": [
    "from pandas.plotting import scatter_matrix\n",
    "attributes = [\n",
    "              'Positif Harian (Jakarta)',\n",
    "              'Vaksinasi 1 Lansia',\n",
    "              'Vaksinasi 2 Lansia',\n",
    "              'Persentase 1 Lansia',\n",
    "              'Persentase 2 Lansia'\n",
    "             ]\n",
    "scatter_matrix(new_dataframe[attributes], figsize=(15,10), color='black')"
   ]
  },
  {
   "cell_type": "code",
   "execution_count": 68,
   "metadata": {},
   "outputs": [
    {
     "data": {
      "text/plain": [
       "array([[<AxesSubplot:xlabel='Positif Harian (Jakarta)', ylabel='Positif Harian (Jakarta)'>,\n",
       "        <AxesSubplot:xlabel='Vaksinasi 1 Pelayan Publik', ylabel='Positif Harian (Jakarta)'>,\n",
       "        <AxesSubplot:xlabel='Vaksinasi 2 Pelayan Publik', ylabel='Positif Harian (Jakarta)'>,\n",
       "        <AxesSubplot:xlabel='Persentase 1 Pelayan Publik', ylabel='Positif Harian (Jakarta)'>,\n",
       "        <AxesSubplot:xlabel='Persentase 2 Pelayan Publik', ylabel='Positif Harian (Jakarta)'>],\n",
       "       [<AxesSubplot:xlabel='Positif Harian (Jakarta)', ylabel='Vaksinasi 1 Pelayan Publik'>,\n",
       "        <AxesSubplot:xlabel='Vaksinasi 1 Pelayan Publik', ylabel='Vaksinasi 1 Pelayan Publik'>,\n",
       "        <AxesSubplot:xlabel='Vaksinasi 2 Pelayan Publik', ylabel='Vaksinasi 1 Pelayan Publik'>,\n",
       "        <AxesSubplot:xlabel='Persentase 1 Pelayan Publik', ylabel='Vaksinasi 1 Pelayan Publik'>,\n",
       "        <AxesSubplot:xlabel='Persentase 2 Pelayan Publik', ylabel='Vaksinasi 1 Pelayan Publik'>],\n",
       "       [<AxesSubplot:xlabel='Positif Harian (Jakarta)', ylabel='Vaksinasi 2 Pelayan Publik'>,\n",
       "        <AxesSubplot:xlabel='Vaksinasi 1 Pelayan Publik', ylabel='Vaksinasi 2 Pelayan Publik'>,\n",
       "        <AxesSubplot:xlabel='Vaksinasi 2 Pelayan Publik', ylabel='Vaksinasi 2 Pelayan Publik'>,\n",
       "        <AxesSubplot:xlabel='Persentase 1 Pelayan Publik', ylabel='Vaksinasi 2 Pelayan Publik'>,\n",
       "        <AxesSubplot:xlabel='Persentase 2 Pelayan Publik', ylabel='Vaksinasi 2 Pelayan Publik'>],\n",
       "       [<AxesSubplot:xlabel='Positif Harian (Jakarta)', ylabel='Persentase 1 Pelayan Publik'>,\n",
       "        <AxesSubplot:xlabel='Vaksinasi 1 Pelayan Publik', ylabel='Persentase 1 Pelayan Publik'>,\n",
       "        <AxesSubplot:xlabel='Vaksinasi 2 Pelayan Publik', ylabel='Persentase 1 Pelayan Publik'>,\n",
       "        <AxesSubplot:xlabel='Persentase 1 Pelayan Publik', ylabel='Persentase 1 Pelayan Publik'>,\n",
       "        <AxesSubplot:xlabel='Persentase 2 Pelayan Publik', ylabel='Persentase 1 Pelayan Publik'>],\n",
       "       [<AxesSubplot:xlabel='Positif Harian (Jakarta)', ylabel='Persentase 2 Pelayan Publik'>,\n",
       "        <AxesSubplot:xlabel='Vaksinasi 1 Pelayan Publik', ylabel='Persentase 2 Pelayan Publik'>,\n",
       "        <AxesSubplot:xlabel='Vaksinasi 2 Pelayan Publik', ylabel='Persentase 2 Pelayan Publik'>,\n",
       "        <AxesSubplot:xlabel='Persentase 1 Pelayan Publik', ylabel='Persentase 2 Pelayan Publik'>,\n",
       "        <AxesSubplot:xlabel='Persentase 2 Pelayan Publik', ylabel='Persentase 2 Pelayan Publik'>]],\n",
       "      dtype=object)"
      ]
     },
     "execution_count": 68,
     "metadata": {},
     "output_type": "execute_result"
    },
    {
     "data": {
      "image/png": "[encoded data removed]",
      "text/plain": [
       "<Figure size 1080x720 with 25 Axes>"
      ]
     },
     "metadata": {
      "needs_background": "light"
     },
     "output_type": "display_data"
    }
   ],
   "source": [
    "from pandas.plotting import scatter_matrix\n",
    "attributes = [\n",
    "               'Positif Harian (Jakarta)',\n",
    "               'Vaksinasi 1 Pelayan Publik',\n",
    "               'Vaksinasi 2 Pelayan Publik',\n",
    "               'Persentase 1 Pelayan Publik',\n",
    "               'Persentase 2 Pelayan Publik'\n",
    "             ]\n",
    "scatter_matrix(new_dataframe[attributes], figsize=(15,10), color='black')"
   ]
  },
  {
   "cell_type": "code",
   "execution_count": 69,
   "metadata": {},
   "outputs": [
    {
     "data": {
      "text/plain": [
       "array([[<AxesSubplot:xlabel='Positif Harian (Jakarta)', ylabel='Positif Harian (Jakarta)'>,\n",
       "        <AxesSubplot:xlabel='Vaksinasi 1 Total', ylabel='Positif Harian (Jakarta)'>,\n",
       "        <AxesSubplot:xlabel='Vaksinasi 2 Total', ylabel='Positif Harian (Jakarta)'>,\n",
       "        <AxesSubplot:xlabel='Persentase 1 Total', ylabel='Positif Harian (Jakarta)'>,\n",
       "        <AxesSubplot:xlabel='Persentase 2 Total', ylabel='Positif Harian (Jakarta)'>],\n",
       "       [<AxesSubplot:xlabel='Positif Harian (Jakarta)', ylabel='Vaksinasi 1 Total'>,\n",
       "        <AxesSubplot:xlabel='Vaksinasi 1 Total', ylabel='Vaksinasi 1 Total'>,\n",
       "        <AxesSubplot:xlabel='Vaksinasi 2 Total', ylabel='Vaksinasi 1 Total'>,\n",
       "        <AxesSubplot:xlabel='Persentase 1 Total', ylabel='Vaksinasi 1 Total'>,\n",
       "        <AxesSubplot:xlabel='Persentase 2 Total', ylabel='Vaksinasi 1 Total'>],\n",
       "       [<AxesSubplot:xlabel='Positif Harian (Jakarta)', ylabel='Vaksinasi 2 Total'>,\n",
       "        <AxesSubplot:xlabel='Vaksinasi 1 Total', ylabel='Vaksinasi 2 Total'>,\n",
       "        <AxesSubplot:xlabel='Vaksinasi 2 Total', ylabel='Vaksinasi 2 Total'>,\n",
       "        <AxesSubplot:xlabel='Persentase 1 Total', ylabel='Vaksinasi 2 Total'>,\n",
       "        <AxesSubplot:xlabel='Persentase 2 Total', ylabel='Vaksinasi 2 Total'>],\n",
       "       [<AxesSubplot:xlabel='Positif Harian (Jakarta)', ylabel='Persentase 1 Total'>,\n",
       "        <AxesSubplot:xlabel='Vaksinasi 1 Total', ylabel='Persentase 1 Total'>,\n",
       "        <AxesSubplot:xlabel='Vaksinasi 2 Total', ylabel='Persentase 1 Total'>,\n",
       "        <AxesSubplot:xlabel='Persentase 1 Total', ylabel='Persentase 1 Total'>,\n",
       "        <AxesSubplot:xlabel='Persentase 2 Total', ylabel='Persentase 1 Total'>],\n",
       "       [<AxesSubplot:xlabel='Positif Harian (Jakarta)', ylabel='Persentase 2 Total'>,\n",
       "        <AxesSubplot:xlabel='Vaksinasi 1 Total', ylabel='Persentase 2 Total'>,\n",
       "        <AxesSubplot:xlabel='Vaksinasi 2 Total', ylabel='Persentase 2 Total'>,\n",
       "        <AxesSubplot:xlabel='Persentase 1 Total', ylabel='Persentase 2 Total'>,\n",
       "        <AxesSubplot:xlabel='Persentase 2 Total', ylabel='Persentase 2 Total'>]],\n",
       "      dtype=object)"
      ]
     },
     "execution_count": 69,
     "metadata": {},
     "output_type": "execute_result"
    },
    {
     "data": {
      "image/png": "[encoded data removed]",
      "text/plain": [
       "<Figure size 1080x720 with 25 Axes>"
      ]
     },
     "metadata": {
      "needs_background": "light"
     },
     "output_type": "display_data"
    }
   ],
   "source": [
    "from pandas.plotting import scatter_matrix\n",
    "attributes = [\n",
    "              'Positif Harian (Jakarta)',\n",
    "              'Vaksinasi 1 Total',\n",
    "              'Vaksinasi 2 Total',\n",
    "              'Persentase 1 Total',\n",
    "              'Persentase 2 Total'\n",
    "             ]\n",
    "scatter_matrix(new_dataframe[attributes], figsize=(15,10), color='black')"
   ]
  },
  {
   "cell_type": "code",
   "execution_count": 70,
   "metadata": {},
   "outputs": [],
   "source": [
    "#  melakukan korelasi dengan menggunakan fungsi .corr()\n",
    "corr_matrix1 = new_dataframe.corr()"
   ]
  },
  {
   "cell_type": "code",
   "execution_count": 154,
   "metadata": {},
   "outputs": [
    {
     "data": {
      "text/plain": [
       "Positif Harian (Jakarta)         1.000000\n",
       "Positivity Rate Harian           0.632692\n",
       "Persentase 1 Tenaga Kesehatan    0.328701\n",
       "Vaksinasi 1 Tenaga Kesehatan     0.328701\n",
       "Positif  Harian                  0.145230\n",
       "Tes Harian                      -0.236262\n",
       "Vaksinasi 2 Tenaga Kesehatan    -0.439850\n",
       "Persentase 2 Tenaga Kesehatan   -0.439850\n",
       "Persentase 1 Lansia             -0.494385\n",
       "Vaksinasi 1 Lansia              -0.494385\n",
       "Vaksinasi 2 Lansia              -0.496607\n",
       "Persentase 2 Lansia             -0.496607\n",
       "Persentase 1 Total              -0.497294\n",
       "Vaksinasi 1 Total               -0.497294\n",
       "Vaksinasi 1 Pelayan Publik      -0.504755\n",
       "Persentase 1 Pelayan Publik     -0.504755\n",
       "Persentase 2 Total              -0.519486\n",
       "Vaksinasi 2 Total               -0.519486\n",
       "Vaksinasi 2 Pelayan Publik      -0.519601\n",
       "Persentase 2 Pelayan Publik     -0.519601\n",
       "Name: Positif Harian (Jakarta), dtype: float64"
      ]
     },
     "execution_count": 154,
     "metadata": {},
     "output_type": "execute_result"
    }
   ],
   "source": [
    "#  hasil dari matrik korelasi yang dilakukan positif harian Jakarta bersama fitur-fitur lain yang ada didalam new_dataframe\n",
    "\n",
    "corr_matrix1['Positif Harian (Jakarta)'].sort_values(ascending=False)"
   ]
  },
  {
   "cell_type": "markdown",
   "metadata": {},
   "source": [
    " # Analisa :\n",
    "Berdasarkan hasil scatter plot matriks dan nilai korelasi terhadap Positif Harian (Jakarta), \n",
    "variabel yang paling berpengaruh terhadap penekanan laju pertambahan Positif Harian (Jakarta) \n",
    "adalah <b><i>Positivity Rate Harian.</i></b>"
   ]
  },
  {
   "cell_type": "markdown",
   "metadata": {},
   "source": [
    "# 3. Dari data pada langkah 2, buatlah model regresi dari data tersebut dengan menggunakan model machine learning berikut:\n",
    "\n",
    "- Decision Tree Regressor\n",
    "- Gradient Boost\n",
    "- Random Forest Regressor"
   ]
  },
  {
   "cell_type": "markdown",
   "metadata": {},
   "source": [
    "# Mendefinisikan X dan Y pada dataframe untuk melakukan Regresi"
   ]
  },
  {
   "cell_type": "code",
   "execution_count": 155,
   "metadata": {},
   "outputs": [
    {
     "data": {
      "text/html": [
       "<div>\n",
       "<style scoped>\n",
       "    .dataframe tbody tr th:only-of-type {\n",
       "        vertical-align: middle;\n",
       "    }\n",
       "\n",
       "    .dataframe tbody tr th {\n",
       "        vertical-align: top;\n",
       "    }\n",
       "\n",
       "    .dataframe thead th {\n",
       "        text-align: right;\n",
       "    }\n",
       "</style>\n",
       "<table border=\"1\" class=\"dataframe\">\n",
       "  <thead>\n",
       "    <tr style=\"text-align: right;\">\n",
       "      <th></th>\n",
       "      <th>Positif Harian (Jakarta)</th>\n",
       "      <th>Tes Harian</th>\n",
       "      <th>Positif  Harian</th>\n",
       "      <th>Positivity Rate Harian</th>\n",
       "      <th>Vaksinasi 1 Tenaga Kesehatan</th>\n",
       "      <th>Vaksinasi 2 Tenaga Kesehatan</th>\n",
       "      <th>Persentase 1 Tenaga Kesehatan</th>\n",
       "      <th>Persentase 2 Tenaga Kesehatan</th>\n",
       "      <th>Vaksinasi 1 Lansia</th>\n",
       "      <th>Vaksinasi 2 Lansia</th>\n",
       "      <th>...</th>\n",
       "      <th>Persentase 2 Lansia</th>\n",
       "      <th>Vaksinasi 1 Pelayan Publik</th>\n",
       "      <th>Vaksinasi 2 Pelayan Publik</th>\n",
       "      <th>Persentase 1 Pelayan Publik</th>\n",
       "      <th>Persentase 2 Pelayan Publik</th>\n",
       "      <th>Vaksinasi 1 Total</th>\n",
       "      <th>Vaksinasi 2 Total</th>\n",
       "      <th>Persentase 1 Total</th>\n",
       "      <th>Persentase 2 Total</th>\n",
       "      <th>Kelas</th>\n",
       "    </tr>\n",
       "  </thead>\n",
       "  <tbody>\n",
       "    <tr>\n",
       "      <th>33</th>\n",
       "      <td>862</td>\n",
       "      <td>3665.0</td>\n",
       "      <td>74.0</td>\n",
       "      <td>0.020191</td>\n",
       "      <td>122553.0</td>\n",
       "      <td>106800.0</td>\n",
       "      <td>1.091290</td>\n",
       "      <td>0.951016</td>\n",
       "      <td>500370.0</td>\n",
       "      <td>142698.0</td>\n",
       "      <td>...</td>\n",
       "      <td>0.156530</td>\n",
       "      <td>813740.0</td>\n",
       "      <td>369813.0</td>\n",
       "      <td>0.411654</td>\n",
       "      <td>0.187081</td>\n",
       "      <td>1436663.0</td>\n",
       "      <td>619311.0</td>\n",
       "      <td>0.478778</td>\n",
       "      <td>0.206390</td>\n",
       "      <td>0</td>\n",
       "    </tr>\n",
       "    <tr>\n",
       "      <th>34</th>\n",
       "      <td>1239</td>\n",
       "      <td>4306.0</td>\n",
       "      <td>96.0</td>\n",
       "      <td>0.022294</td>\n",
       "      <td>123061.0</td>\n",
       "      <td>107175.0</td>\n",
       "      <td>1.095814</td>\n",
       "      <td>0.954355</td>\n",
       "      <td>507667.0</td>\n",
       "      <td>148824.0</td>\n",
       "      <td>...</td>\n",
       "      <td>0.163250</td>\n",
       "      <td>844961.0</td>\n",
       "      <td>388298.0</td>\n",
       "      <td>0.427448</td>\n",
       "      <td>0.196432</td>\n",
       "      <td>1475689.0</td>\n",
       "      <td>644297.0</td>\n",
       "      <td>0.491783</td>\n",
       "      <td>0.214716</td>\n",
       "      <td>0</td>\n",
       "    </tr>\n",
       "    <tr>\n",
       "      <th>35</th>\n",
       "      <td>1013</td>\n",
       "      <td>4619.0</td>\n",
       "      <td>104.0</td>\n",
       "      <td>0.022516</td>\n",
       "      <td>123387.0</td>\n",
       "      <td>107509.0</td>\n",
       "      <td>1.098717</td>\n",
       "      <td>0.957329</td>\n",
       "      <td>516816.0</td>\n",
       "      <td>166705.0</td>\n",
       "      <td>...</td>\n",
       "      <td>0.182865</td>\n",
       "      <td>866503.0</td>\n",
       "      <td>402918.0</td>\n",
       "      <td>0.438346</td>\n",
       "      <td>0.203828</td>\n",
       "      <td>1506706.0</td>\n",
       "      <td>677132.0</td>\n",
       "      <td>0.502120</td>\n",
       "      <td>0.225659</td>\n",
       "      <td>0</td>\n",
       "    </tr>\n",
       "    <tr>\n",
       "      <th>36</th>\n",
       "      <td>977</td>\n",
       "      <td>4081.0</td>\n",
       "      <td>65.0</td>\n",
       "      <td>0.015927</td>\n",
       "      <td>123474.0</td>\n",
       "      <td>107573.0</td>\n",
       "      <td>1.099492</td>\n",
       "      <td>0.957899</td>\n",
       "      <td>523861.0</td>\n",
       "      <td>173234.0</td>\n",
       "      <td>...</td>\n",
       "      <td>0.190026</td>\n",
       "      <td>880884.0</td>\n",
       "      <td>406805.0</td>\n",
       "      <td>0.445621</td>\n",
       "      <td>0.205794</td>\n",
       "      <td>1528219.0</td>\n",
       "      <td>687612.0</td>\n",
       "      <td>0.509289</td>\n",
       "      <td>0.229151</td>\n",
       "      <td>0</td>\n",
       "    </tr>\n",
       "    <tr>\n",
       "      <th>37</th>\n",
       "      <td>1031</td>\n",
       "      <td>2550.0</td>\n",
       "      <td>59.0</td>\n",
       "      <td>0.023137</td>\n",
       "      <td>123474.0</td>\n",
       "      <td>107573.0</td>\n",
       "      <td>1.099492</td>\n",
       "      <td>0.957899</td>\n",
       "      <td>523861.0</td>\n",
       "      <td>173234.0</td>\n",
       "      <td>...</td>\n",
       "      <td>0.190026</td>\n",
       "      <td>880884.0</td>\n",
       "      <td>406805.0</td>\n",
       "      <td>0.445621</td>\n",
       "      <td>0.205794</td>\n",
       "      <td>1528219.0</td>\n",
       "      <td>687612.0</td>\n",
       "      <td>0.509289</td>\n",
       "      <td>0.229151</td>\n",
       "      <td>0</td>\n",
       "    </tr>\n",
       "  </tbody>\n",
       "</table>\n",
       "<p>5 rows × 21 columns</p>\n",
       "</div>"
      ],
      "text/plain": [
       "    Positif Harian (Jakarta)  Tes Harian  Positif  Harian  \\\n",
       "33                       862      3665.0             74.0   \n",
       "34                      1239      4306.0             96.0   \n",
       "35                      1013      4619.0            104.0   \n",
       "36                       977      4081.0             65.0   \n",
       "37                      1031      2550.0             59.0   \n",
       "\n",
       "    Positivity Rate Harian  Vaksinasi 1 Tenaga Kesehatan  \\\n",
       "33                0.020191                      122553.0   \n",
       "34                0.022294                      123061.0   \n",
       "35                0.022516                      123387.0   \n",
       "36                0.015927                      123474.0   \n",
       "37                0.023137                      123474.0   \n",
       "\n",
       "    Vaksinasi 2 Tenaga Kesehatan  Persentase 1 Tenaga Kesehatan  \\\n",
       "33                      106800.0                       1.091290   \n",
       "34                      107175.0                       1.095814   \n",
       "35                      107509.0                       1.098717   \n",
       "36                      107573.0                       1.099492   \n",
       "37                      107573.0                       1.099492   \n",
       "\n",
       "    Persentase 2 Tenaga Kesehatan  Vaksinasi 1 Lansia  Vaksinasi 2 Lansia  \\\n",
       "33                       0.951016            500370.0            142698.0   \n",
       "34                       0.954355            507667.0            148824.0   \n",
       "35                       0.957329            516816.0            166705.0   \n",
       "36                       0.957899            523861.0            173234.0   \n",
       "37                       0.957899            523861.0            173234.0   \n",
       "\n",
       "    ...  Persentase 2 Lansia  Vaksinasi 1 Pelayan Publik  \\\n",
       "33  ...             0.156530                    813740.0   \n",
       "34  ...             0.163250                    844961.0   \n",
       "35  ...             0.182865                    866503.0   \n",
       "36  ...             0.190026                    880884.0   \n",
       "37  ...             0.190026                    880884.0   \n",
       "\n",
       "    Vaksinasi 2 Pelayan Publik  Persentase 1 Pelayan Publik  \\\n",
       "33                    369813.0                     0.411654   \n",
       "34                    388298.0                     0.427448   \n",
       "35                    402918.0                     0.438346   \n",
       "36                    406805.0                     0.445621   \n",
       "37                    406805.0                     0.445621   \n",
       "\n",
       "    Persentase 2 Pelayan Publik  Vaksinasi 1 Total  Vaksinasi 2 Total  \\\n",
       "33                     0.187081          1436663.0           619311.0   \n",
       "34                     0.196432          1475689.0           644297.0   \n",
       "35                     0.203828          1506706.0           677132.0   \n",
       "36                     0.205794          1528219.0           687612.0   \n",
       "37                     0.205794          1528219.0           687612.0   \n",
       "\n",
       "    Persentase 1 Total  Persentase 2 Total  Kelas  \n",
       "33            0.478778            0.206390      0  \n",
       "34            0.491783            0.214716      0  \n",
       "35            0.502120            0.225659      0  \n",
       "36            0.509289            0.229151      0  \n",
       "37            0.509289            0.229151      0  \n",
       "\n",
       "[5 rows x 21 columns]"
      ]
     },
     "execution_count": 155,
     "metadata": {},
     "output_type": "execute_result"
    }
   ],
   "source": [
    "new_dataframe.tail(5)"
   ]
  },
  {
   "cell_type": "code",
   "execution_count": 156,
   "metadata": {},
   "outputs": [],
   "source": [
    "\n",
    "X = new_dataframe['Positivity Rate Harian'].values\n",
    "\n",
    "y= new_dataframe['Positif Harian (Jakarta)'].values"
   ]
  },
  {
   "cell_type": "code",
   "execution_count": 157,
   "metadata": {},
   "outputs": [
    {
     "data": {
      "text/plain": [
       "(38,)"
      ]
     },
     "execution_count": 157,
     "metadata": {},
     "output_type": "execute_result"
    }
   ],
   "source": [
    "y.shape"
   ]
  },
  {
   "cell_type": "code",
   "execution_count": 158,
   "metadata": {},
   "outputs": [
    {
     "data": {
      "text/plain": [
       "(38,)"
      ]
     },
     "execution_count": 158,
     "metadata": {},
     "output_type": "execute_result"
    }
   ],
   "source": [
    "X.shape"
   ]
  },
  {
   "cell_type": "markdown",
   "metadata": {},
   "source": [
    "# Membagi data menjadi data latih dan data Uji serta melakukan Feature Scaling\n",
    "\n",
    "- data latih mulai dari 5 Maret 2021 - 5 April 2021\n",
    "- data uji mulai dari 6 April 2021 - 13 April 2021"
   ]
  },
  {
   "cell_type": "code",
   "execution_count": 159,
   "metadata": {},
   "outputs": [],
   "source": [
    "from sklearn.model_selection import train_test_split\n",
    "X_train, X_test, y_train, y_test = train_test_split(X, y, test_size=0.15, random_state=0, shuffle=False)"
   ]
  },
  {
   "cell_type": "code",
   "execution_count": 160,
   "metadata": {},
   "outputs": [
    {
     "data": {
      "text/plain": [
       "array([1159, 1616, 1834, 1783,  867, 1040, 1754, 1873, 1034, 1204, 1555,\n",
       "        835, 1330, 1719, 1588, 1937, 1638, 1474,  815,  890, 1726, 1381,\n",
       "       1354, 1470, 1014,  384,  965, 1337, 1240, 1098,  736,  523],\n",
       "      dtype=int64)"
      ]
     },
     "execution_count": 160,
     "metadata": {},
     "output_type": "execute_result"
    }
   ],
   "source": [
    "y_train"
   ]
  },
  {
   "cell_type": "code",
   "execution_count": 161,
   "metadata": {},
   "outputs": [
    {
     "data": {
      "text/plain": [
       "(32,)"
      ]
     },
     "execution_count": 161,
     "metadata": {},
     "output_type": "execute_result"
    }
   ],
   "source": [
    "y_train.shape"
   ]
  },
  {
   "cell_type": "code",
   "execution_count": 162,
   "metadata": {},
   "outputs": [
    {
     "data": {
      "text/plain": [
       "array([ 487,  862, 1239, 1013,  977, 1031], dtype=int64)"
      ]
     },
     "execution_count": 162,
     "metadata": {},
     "output_type": "execute_result"
    }
   ],
   "source": [
    "y_test"
   ]
  },
  {
   "cell_type": "code",
   "execution_count": 163,
   "metadata": {},
   "outputs": [
    {
     "data": {
      "text/plain": [
       "array([0.03777949, 0.04210526, 0.07075128, 0.04477612, 0.03585657,\n",
       "       0.03210784, 0.04394299, 0.05521472, 0.03339405, 0.04088651,\n",
       "       0.03370787, 0.02770352, 0.02994529, 0.03187156, 0.02831363,\n",
       "       0.02733686, 0.03073593, 0.03548896, 0.02802151, 0.03060192,\n",
       "       0.02662006, 0.02738311, 0.02744063, 0.03465046, 0.0244898 ,\n",
       "       0.0184937 , 0.02317619, 0.02134063, 0.0201005 , 0.01839362,\n",
       "       0.02301444, 0.01119821])"
      ]
     },
     "execution_count": 163,
     "metadata": {},
     "output_type": "execute_result"
    }
   ],
   "source": [
    "X_train"
   ]
  },
  {
   "cell_type": "code",
   "execution_count": 164,
   "metadata": {
    "scrolled": true
   },
   "outputs": [
    {
     "data": {
      "text/plain": [
       "(6,)"
      ]
     },
     "execution_count": 164,
     "metadata": {},
     "output_type": "execute_result"
    }
   ],
   "source": [
    "y_test.shape"
   ]
  },
  {
   "cell_type": "code",
   "execution_count": 165,
   "metadata": {},
   "outputs": [],
   "source": [
    "X_train= X_train.reshape(-1,1)\n",
    "X_test= X_test.reshape(-1,1)"
   ]
  },
  {
   "cell_type": "code",
   "execution_count": 166,
   "metadata": {},
   "outputs": [],
   "source": [
    "# Feature Scaling\n",
    "from sklearn.preprocessing import StandardScaler\n",
    "sc = StandardScaler()\n",
    "X_train = sc.fit_transform(X_train)\n",
    "X_test = sc.transform(X_test)\n"
   ]
  },
  {
   "cell_type": "code",
   "execution_count": 167,
   "metadata": {},
   "outputs": [
    {
     "data": {
      "text/plain": [
       "(32, 1)"
      ]
     },
     "execution_count": 167,
     "metadata": {},
     "output_type": "execute_result"
    }
   ],
   "source": [
    "X_train.shape\n"
   ]
  },
  {
   "cell_type": "code",
   "execution_count": 168,
   "metadata": {},
   "outputs": [
    {
     "data": {
      "text/plain": [
       "-1.8366132473875612"
      ]
     },
     "execution_count": 168,
     "metadata": {},
     "output_type": "execute_result"
    }
   ],
   "source": [
    "X_train.min()"
   ]
  },
  {
   "cell_type": "code",
   "execution_count": 169,
   "metadata": {},
   "outputs": [
    {
     "data": {
      "text/plain": [
       "384"
      ]
     },
     "execution_count": 169,
     "metadata": {},
     "output_type": "execute_result"
    }
   ],
   "source": [
    "y_train.min()"
   ]
  },
  {
   "cell_type": "code",
   "execution_count": 170,
   "metadata": {},
   "outputs": [
    {
     "data": {
      "text/plain": [
       "3.4785385693564552"
      ]
     },
     "execution_count": 170,
     "metadata": {},
     "output_type": "execute_result"
    }
   ],
   "source": [
    "X_train.max()"
   ]
  },
  {
   "cell_type": "code",
   "execution_count": 171,
   "metadata": {},
   "outputs": [
    {
     "data": {
      "text/plain": [
       "1937"
      ]
     },
     "execution_count": 171,
     "metadata": {},
     "output_type": "execute_result"
    }
   ],
   "source": [
    "y_train.max()"
   ]
  },
  {
   "cell_type": "markdown",
   "metadata": {},
   "source": [
    "# Decision Tree Regressor "
   ]
  },
  {
   "cell_type": "code",
   "execution_count": 172,
   "metadata": {},
   "outputs": [
    {
     "data": {
      "image/png": "[encoded data removed]",
      "text/plain": [
       "<Figure size 700x280 with 2 Axes>"
      ]
     },
     "metadata": {
      "needs_background": "light"
     },
     "output_type": "display_data"
    }
   ],
   "source": [
    "from sklearn.tree import DecisionTreeRegressor\n",
    "\n",
    "tree_reg1 = DecisionTreeRegressor(random_state=42, max_depth=2)\n",
    "tree_reg2 = DecisionTreeRegressor(random_state=42, max_depth=3)\n",
    "tree_reg1.fit(X_train, y_train)\n",
    "tree_reg2.fit(X_train, y_train)\n",
    "\n",
    "def plot_regression_predictions(tree_reg, X, y, axes=[-3, 4,350 ,2000], ylabel=\"$y$\"):\n",
    "    x1 = np.linspace(axes[0], axes[1], 500).reshape(-1, 1)\n",
    "    y_pred = tree_reg.predict(x1)\n",
    "    plt.axis(axes)\n",
    "    plt.xlabel(\"$x_1$\", fontsize=18)\n",
    "    if ylabel:\n",
    "        plt.ylabel(ylabel, fontsize=18, rotation=0)\n",
    "    plt.plot(X, y, \"b.\")\n",
    "    plt.plot(x1, y_pred, \"r.-\", linewidth=2, label=r\"$\\hat{y}$\")\n",
    "\n",
    "fig, axes = plt.subplots(ncols=2, figsize=(10, 4), sharey=True, dpi=70)\n",
    "plt.sca(axes[0])\n",
    "plot_regression_predictions(tree_reg1, X_train, y_train)\n",
    "for split, style in ((-0.53, \"k-\"), (0.87, \"k--\"), (-1.125, \"k--\")):\n",
    "    plt.plot([split, split], [350, 2000], style, linewidth=2)\n",
    "plt.legend()\n",
    "plt.title(\"max_depth=2\", fontsize=14)\n",
    "\n",
    "plt.sca(axes[1])\n",
    "plot_regression_predictions(tree_reg2, X_train, y_train)\n",
    "for split, style in ((-0.6, \"k-\"), (-1.15, \"k--\"), (1, \"k--\")):\n",
    "    plt.plot([split, split], [0, 0.08], style, linewidth=2)\n",
    "    \n",
    "\n",
    "    plt.plot([split, split], [350, 2000], \"k:\", linewidth=1)\n",
    "plt.text(0, 10, \"Depth=2\", fontsize=13)\n",
    "plt.title(\"max_depth=3\", fontsize=14)\n",
    "\n",
    "plt.show()"
   ]
  },
  {
   "cell_type": "code",
   "execution_count": 173,
   "metadata": {},
   "outputs": [
    {
     "data": {
      "image/png": "[encoded data removed]",
      "text/plain": [
       "<Figure size 720x288 with 2 Axes>"
      ]
     },
     "metadata": {
      "needs_background": "light"
     },
     "output_type": "display_data"
    }
   ],
   "source": [
    "tree_reg1 = DecisionTreeRegressor(random_state=42)\n",
    "tree_reg2 = DecisionTreeRegressor(random_state=42, min_samples_leaf=5)\n",
    "tree_reg1.fit(X_train, y_train)\n",
    "tree_reg2.fit(X_train, y_train)\n",
    "\n",
    "x1 = np.linspace(-3, 4).reshape(-1, 1)\n",
    "y_pred1 = tree_reg1.predict(x1)\n",
    "y_pred2 = tree_reg2.predict(x1)\n",
    "\n",
    "fig, axes = plt.subplots(ncols=2, figsize=(10, 4), sharey=True)\n",
    "\n",
    "plt.sca(axes[0])\n",
    "plt.plot(X_train, y_train, \"b.\")\n",
    "plt.plot(x1, y_pred1, \"r.-\", linewidth=2, label=r\"$\\hat{y}$\")\n",
    "plt.axis([-3, 4,350 ,2000])\n",
    "plt.xlabel(\"$x_1$\", fontsize=18)\n",
    "plt.ylabel(\"$y$\", fontsize=18, rotation=0)\n",
    "plt.legend(fontsize=15)\n",
    "plt.title(\"No restrictions\", fontsize=14)\n",
    "\n",
    "plt.sca(axes[1])\n",
    "plt.plot(X_train, y_train, \"b.\")\n",
    "plt.plot(x1, y_pred2, \"r.-\", linewidth=2, label=r\"$\\hat{y}$\")\n",
    "plt.axis([-3, 4,350 ,2000])\n",
    "plt.xlabel(\"$x_1$\", fontsize=18)\n",
    "plt.title(\"min_samples_leaf={}\".format(tree_reg2.min_samples_leaf), fontsize=14)\n",
    "\n",
    "plt.show()"
   ]
  },
  {
   "cell_type": "code",
   "execution_count": 174,
   "metadata": {},
   "outputs": [],
   "source": [
    "y_test = y_test.reshape(-1,1)"
   ]
  },
  {
   "cell_type": "code",
   "execution_count": 175,
   "metadata": {},
   "outputs": [
    {
     "data": {
      "text/plain": [
       "-1.7413781901105985"
      ]
     },
     "execution_count": 175,
     "metadata": {},
     "output_type": "execute_result"
    }
   ],
   "source": [
    "tree_reg1.score(X_test,y_test)"
   ]
  },
  {
   "cell_type": "code",
   "execution_count": 176,
   "metadata": {},
   "outputs": [
    {
     "data": {
      "text/plain": [
       "-0.009806290235421233"
      ]
     },
     "execution_count": 176,
     "metadata": {},
     "output_type": "execute_result"
    }
   ],
   "source": [
    "tree_reg2.score(X_test,y_test)"
   ]
  },
  {
   "cell_type": "markdown",
   "metadata": {},
   "source": [
    "# Gradient Boost"
   ]
  },
  {
   "cell_type": "code",
   "execution_count": 177,
   "metadata": {},
   "outputs": [],
   "source": [
    "def plot_predictions(regressors, X, y, axes, label=None, style=\"r-\", data_style=\"b.\", data_label=None):\n",
    "    x1 = np.linspace(axes[0], axes[1])\n",
    "    y_pred = sum(regressor.predict(x1.reshape(-1, 1)) for regressor in regressors)\n",
    "    plt.plot(X[:, 0], y, data_style, label=data_label)\n",
    "    plt.plot(x1, y_pred, style, linewidth=2, label=label)\n",
    "    if label or data_label:\n",
    "        plt.legend(loc='lower right', fontsize=10)\n",
    "    plt.axis(axes)"
   ]
  },
  {
   "cell_type": "code",
   "execution_count": 178,
   "metadata": {},
   "outputs": [
    {
     "data": {
      "text/plain": [
       "GradientBoostingRegressor(learning_rate=1.0, max_depth=2, n_estimators=3,\n",
       "                          random_state=42)"
      ]
     },
     "execution_count": 178,
     "metadata": {},
     "output_type": "execute_result"
    }
   ],
   "source": [
    "from sklearn.ensemble import GradientBoostingRegressor\n",
    "\n",
    "gbrt = GradientBoostingRegressor(max_depth=2, n_estimators=3, learning_rate=1.0, random_state=42)\n",
    "gbrt.fit(X_train, y_train)"
   ]
  },
  {
   "cell_type": "code",
   "execution_count": 179,
   "metadata": {},
   "outputs": [
    {
     "data": {
      "text/plain": [
       "GradientBoostingRegressor(max_depth=2, n_estimators=200, random_state=42)"
      ]
     },
     "execution_count": 179,
     "metadata": {},
     "output_type": "execute_result"
    }
   ],
   "source": [
    "\n",
    "gbrt_slow = GradientBoostingRegressor(max_depth=2, n_estimators=200, learning_rate=0.1, random_state=42)\n",
    "gbrt_slow.fit(X_train, y_train)"
   ]
  },
  {
   "cell_type": "code",
   "execution_count": 180,
   "metadata": {},
   "outputs": [
    {
     "name": "stderr",
     "output_type": "stream",
     "text": [
      "<ipython-input-177-17f9d06689f1>:3: DeprecationWarning: Calling np.sum(generator) is deprecated, and in the future will give a different result. Use np.sum(np.fromiter(generator)) or the python sum builtin instead.\n",
      "  y_pred = sum(regressor.predict(x1.reshape(-1, 1)) for regressor in regressors)\n",
      "<ipython-input-177-17f9d06689f1>:3: DeprecationWarning: Calling np.sum(generator) is deprecated, and in the future will give a different result. Use np.sum(np.fromiter(generator)) or the python sum builtin instead.\n",
      "  y_pred = sum(regressor.predict(x1.reshape(-1, 1)) for regressor in regressors)\n"
     ]
    },
    {
     "data": {
      "image/png": "[encoded data removed]",
      "text/plain": [
       "<Figure size 720x288 with 2 Axes>"
      ]
     },
     "metadata": {
      "needs_background": "light"
     },
     "output_type": "display_data"
    }
   ],
   "source": [
    "fix, axes = plt.subplots(ncols=2, figsize=(10,4), sharey=True)\n",
    "\n",
    "plt.sca(axes[0])\n",
    "plot_predictions([gbrt], X_train, y_train, axes=[-3, 4,350 ,2000], label=\"Ensemble predictions\")\n",
    "plt.title(\"learning_rate={}, n_estimators={}\".format(gbrt.learning_rate, gbrt.n_estimators), fontsize=14)\n",
    "plt.xlabel(\"$x_1$\", fontsize=16)\n",
    "plt.ylabel(\"$y$\", fontsize=16, rotation=0)\n",
    "\n",
    "plt.sca(axes[1])\n",
    "plot_predictions([gbrt_slow], X_train, y_train, axes=[-3, 4,350 ,2000])\n",
    "plt.title(\"learning_rate={}, n_estimators={}\".format(gbrt_slow.learning_rate, gbrt_slow.n_estimators), fontsize=14)\n",
    "plt.xlabel(\"$x_1$\", fontsize=16)\n",
    "\n",
    "plt.show()"
   ]
  },
  {
   "cell_type": "code",
   "execution_count": 181,
   "metadata": {},
   "outputs": [
    {
     "data": {
      "text/plain": [
       "GradientBoostingRegressor(max_depth=2, n_estimators=21, random_state=42)"
      ]
     },
     "execution_count": 181,
     "metadata": {},
     "output_type": "execute_result"
    }
   ],
   "source": [
    "import numpy as np\n",
    "from sklearn.metrics import mean_squared_error\n",
    "\n",
    "\n",
    "\n",
    "gbrt = GradientBoostingRegressor(max_depth=2, n_estimators=120, random_state=42)\n",
    "gbrt.fit(X_train, y_train)\n",
    "\n",
    "errors = [mean_squared_error(y_test, y_pred)\n",
    "          for y_pred in gbrt.staged_predict(X_test)]\n",
    "bst_n_estimators = np.argmin(errors) + 1\n",
    "\n",
    "gbrt_best = GradientBoostingRegressor(max_depth=2, n_estimators=bst_n_estimators, random_state=42)\n",
    "gbrt_best.fit(X_train, y_train)"
   ]
  },
  {
   "cell_type": "code",
   "execution_count": 182,
   "metadata": {},
   "outputs": [],
   "source": [
    "min_error = np.min(errors)"
   ]
  },
  {
   "cell_type": "code",
   "execution_count": 183,
   "metadata": {},
   "outputs": [
    {
     "name": "stderr",
     "output_type": "stream",
     "text": [
      "<ipython-input-177-17f9d06689f1>:3: DeprecationWarning: Calling np.sum(generator) is deprecated, and in the future will give a different result. Use np.sum(np.fromiter(generator)) or the python sum builtin instead.\n",
      "  y_pred = sum(regressor.predict(x1.reshape(-1, 1)) for regressor in regressors)\n"
     ]
    },
    {
     "data": {
      "image/png": "[encoded data removed]",
      "text/plain": [
       "<Figure size 720x288 with 2 Axes>"
      ]
     },
     "metadata": {
      "needs_background": "light"
     },
     "output_type": "display_data"
    }
   ],
   "source": [
    "plt.figure(figsize=(10, 4))\n",
    "\n",
    "plt.subplot(121)\n",
    "plt.plot(errors, \"b.-\")\n",
    "plt.plot([bst_n_estimators, bst_n_estimators], [0, min_error], \"k--\")\n",
    "plt.plot([0, 120], [min_error, min_error], \"k--\")\n",
    "plt.plot(bst_n_estimators, min_error, \"ko\")\n",
    "plt.text(bst_n_estimators, min_error*1.2, \"Minimum\", ha=\"center\", fontsize=14)\n",
    "\n",
    "plt.xlabel(\"Number of trees\")\n",
    "plt.ylabel(\"Error\", fontsize=16)\n",
    "plt.title(\"Validation error\", fontsize=14)\n",
    "\n",
    "plt.subplot(122)\n",
    "plot_predictions([gbrt_best], X_train, y_train, axes=[-3, 4,350 ,2000])\n",
    "plt.title(\"Best model (%d trees)\" % bst_n_estimators, fontsize=14)\n",
    "plt.ylabel(\"$y$\", fontsize=16, rotation=0)\n",
    "plt.xlabel(\"$x_1$\", fontsize=16)\n",
    "plt.show()"
   ]
  },
  {
   "cell_type": "code",
   "execution_count": 184,
   "metadata": {},
   "outputs": [
    {
     "data": {
      "text/plain": [
       "0.21307096326179342"
      ]
     },
     "execution_count": 184,
     "metadata": {},
     "output_type": "execute_result"
    }
   ],
   "source": [
    "gbrt_best.score(X_test, y_test)"
   ]
  },
  {
   "cell_type": "markdown",
   "metadata": {},
   "source": [
    "# Random Forest Regressor \n"
   ]
  },
  {
   "cell_type": "code",
   "execution_count": 185,
   "metadata": {},
   "outputs": [
    {
     "data": {
      "text/plain": [
       "RandomForestRegressor(min_samples_leaf=3)"
      ]
     },
     "execution_count": 185,
     "metadata": {},
     "output_type": "execute_result"
    }
   ],
   "source": [
    "from sklearn.metrics import mean_squared_error\n",
    "from sklearn.ensemble import RandomForestRegressor\n",
    "rf = RandomForestRegressor(n_estimators=100, min_samples_leaf=3)\n",
    "rf.fit(X_train, y_train)"
   ]
  },
  {
   "cell_type": "code",
   "execution_count": 186,
   "metadata": {},
   "outputs": [
    {
     "data": {
      "text/plain": [
       "RandomForestRegressor(min_samples_leaf=3, n_jobs=1)"
      ]
     },
     "execution_count": 186,
     "metadata": {},
     "output_type": "execute_result"
    }
   ],
   "source": [
    "RandomForestRegressor(bootstrap=True, criterion='mse', max_depth=None,\n",
    "           max_features='auto', max_leaf_nodes=None, min_samples_leaf=3,\n",
    "           min_samples_split=2, min_weight_fraction_leaf=0.0,\n",
    "           n_estimators=100, n_jobs=1, oob_score=False, random_state=None,\n",
    "           verbose=0, warm_start=False)"
   ]
  },
  {
   "cell_type": "code",
   "execution_count": 187,
   "metadata": {},
   "outputs": [],
   "source": [
    "X_test = X_test.reshape(-1,1)"
   ]
  },
  {
   "cell_type": "code",
   "execution_count": 188,
   "metadata": {},
   "outputs": [
    {
     "name": "stdout",
     "output_type": "stream",
     "text": [
      "Populating the interactive namespace from numpy and matplotlib\n"
     ]
    },
    {
     "name": "stderr",
     "output_type": "stream",
     "text": [
      "c:\\users\\yosia\\appdata\\local\\programs\\python\\python39\\lib\\site-packages\\IPython\\core\\magics\\pylab.py:159: UserWarning: pylab import has clobbered these variables: ['style', 'fix', 'axes', 'split', 'clf', 'cm']\n",
      "`%matplotlib` prevents importing * from pylab and numpy\n",
      "  warn(\"pylab import has clobbered these variables: %s\"  % clobbered +\n"
     ]
    },
    {
     "data": {
      "text/plain": [
       "Text(0, 0.5, 'Estimated quality')"
      ]
     },
     "execution_count": 188,
     "metadata": {},
     "output_type": "execute_result"
    },
    {
     "data": {
      "image/png": "[encoded data removed]",
      "text/plain": [
       "<Figure size 1152x504 with 2 Axes>"
      ]
     },
     "metadata": {
      "needs_background": "light"
     },
     "output_type": "display_data"
    }
   ],
   "source": [
    "%pylab inline\n",
    "plt.figure(figsize(16,7))\n",
    "plt.subplot(121)\n",
    "pyplot.scatter(y_train, rf.predict(X_train), alpha=1)\n",
    "plot(range(2000), color='black')\n",
    "\n",
    "grid()\n",
    "pyplot.title('Train set', fontsize=16)\n",
    "pyplot.xlabel('Quality')\n",
    "pyplot.ylabel('Estimated quality')\n",
    "\n",
    "plt.subplot(122)\n",
    "pyplot.scatter(y_test, rf.predict(X_test), color=\"red\", alpha=1)\n",
    "\n",
    "plot(range(2000), color='black')\n",
    "grid()\n",
    "pyplot.title('Test set', fontsize=16)\n",
    "pyplot.xlabel('Quality')\n",
    "pyplot.ylabel('Estimated quality')"
   ]
  },
  {
   "cell_type": "code",
   "execution_count": 189,
   "metadata": {},
   "outputs": [
    {
     "data": {
      "text/plain": [
       "0.2870688366804517"
      ]
     },
     "execution_count": 189,
     "metadata": {},
     "output_type": "execute_result"
    }
   ],
   "source": [
    "X_test = X_test.reshape(-1,1)\n",
    "y_test = y_test.reshape(-1,1)\n",
    "rf.score(X_test, y_test)"
   ]
  },
  {
   "cell_type": "markdown",
   "metadata": {},
   "source": [
    "<h1>Analisa :</h1>\n",
    "Model yang paling baik menurut kami adalah Gradient Boost, karena pada saat ada penambahan classifier suatu waktu nanti, bisa dilatih, diuji dan ditingkatkan lagi."
   ]
  },
  {
   "cell_type": "markdown",
   "metadata": {},
   "source": [
    "# 4. Menggunakan PCA untuk data pada langkah kedua\n",
    "\n",
    "Analisa:\n",
    "- Berdasarkan pengamatan Anda, tentukan model mana yang menurut Anda paling\n",
    "baik dan jelaskan!\n",
    "- Bandingkan hasilnya dengan hasil pada langkah 3. Jika ada perbedaan jelaskan\n",
    "perbedaan hasil tersebut !\n"
   ]
  },
  {
   "cell_type": "markdown",
   "metadata": {},
   "source": [
    "# Menggunakan PCA pada new_dataframe\n"
   ]
  },
  {
   "cell_type": "code",
   "execution_count": 190,
   "metadata": {
    "scrolled": true
   },
   "outputs": [
    {
     "data": {
      "text/html": [
       "<div>\n",
       "<style scoped>\n",
       "    .dataframe tbody tr th:only-of-type {\n",
       "        vertical-align: middle;\n",
       "    }\n",
       "\n",
       "    .dataframe tbody tr th {\n",
       "        vertical-align: top;\n",
       "    }\n",
       "\n",
       "    .dataframe thead th {\n",
       "        text-align: right;\n",
       "    }\n",
       "</style>\n",
       "<table border=\"1\" class=\"dataframe\">\n",
       "  <thead>\n",
       "    <tr style=\"text-align: right;\">\n",
       "      <th></th>\n",
       "      <th>Positif Harian (Jakarta)</th>\n",
       "      <th>Tes Harian</th>\n",
       "      <th>Positif  Harian</th>\n",
       "      <th>Positivity Rate Harian</th>\n",
       "      <th>Vaksinasi 1 Tenaga Kesehatan</th>\n",
       "      <th>Vaksinasi 2 Tenaga Kesehatan</th>\n",
       "      <th>Persentase 1 Tenaga Kesehatan</th>\n",
       "      <th>Persentase 2 Tenaga Kesehatan</th>\n",
       "      <th>Vaksinasi 1 Lansia</th>\n",
       "      <th>Vaksinasi 2 Lansia</th>\n",
       "      <th>...</th>\n",
       "      <th>Persentase 2 Lansia</th>\n",
       "      <th>Vaksinasi 1 Pelayan Publik</th>\n",
       "      <th>Vaksinasi 2 Pelayan Publik</th>\n",
       "      <th>Persentase 1 Pelayan Publik</th>\n",
       "      <th>Persentase 2 Pelayan Publik</th>\n",
       "      <th>Vaksinasi 1 Total</th>\n",
       "      <th>Vaksinasi 2 Total</th>\n",
       "      <th>Persentase 1 Total</th>\n",
       "      <th>Persentase 2 Total</th>\n",
       "      <th>Kelas</th>\n",
       "    </tr>\n",
       "  </thead>\n",
       "  <tbody>\n",
       "    <tr>\n",
       "      <th>0</th>\n",
       "      <td>1159</td>\n",
       "      <td>1297.0</td>\n",
       "      <td>49.0</td>\n",
       "      <td>0.037779</td>\n",
       "      <td>141425.0</td>\n",
       "      <td>91078.0</td>\n",
       "      <td>1.259339</td>\n",
       "      <td>0.811017</td>\n",
       "      <td>76451.0</td>\n",
       "      <td>0.0</td>\n",
       "      <td>...</td>\n",
       "      <td>0.0</td>\n",
       "      <td>64121.0</td>\n",
       "      <td>0.0</td>\n",
       "      <td>0.032437</td>\n",
       "      <td>0.000000</td>\n",
       "      <td>281997.0</td>\n",
       "      <td>91078.0</td>\n",
       "      <td>0.093977</td>\n",
       "      <td>0.030352</td>\n",
       "      <td>1</td>\n",
       "    </tr>\n",
       "    <tr>\n",
       "      <th>1</th>\n",
       "      <td>1616</td>\n",
       "      <td>1425.0</td>\n",
       "      <td>60.0</td>\n",
       "      <td>0.042105</td>\n",
       "      <td>144046.0</td>\n",
       "      <td>91379.0</td>\n",
       "      <td>1.282678</td>\n",
       "      <td>0.813697</td>\n",
       "      <td>79421.0</td>\n",
       "      <td>0.0</td>\n",
       "      <td>...</td>\n",
       "      <td>0.0</td>\n",
       "      <td>66484.0</td>\n",
       "      <td>0.0</td>\n",
       "      <td>0.033633</td>\n",
       "      <td>0.000000</td>\n",
       "      <td>289951.0</td>\n",
       "      <td>91379.0</td>\n",
       "      <td>0.096628</td>\n",
       "      <td>0.030453</td>\n",
       "      <td>1</td>\n",
       "    </tr>\n",
       "    <tr>\n",
       "      <th>2</th>\n",
       "      <td>1834</td>\n",
       "      <td>1371.0</td>\n",
       "      <td>97.0</td>\n",
       "      <td>0.070751</td>\n",
       "      <td>177126.0</td>\n",
       "      <td>91460.0</td>\n",
       "      <td>1.577243</td>\n",
       "      <td>0.814418</td>\n",
       "      <td>83628.0</td>\n",
       "      <td>0.0</td>\n",
       "      <td>...</td>\n",
       "      <td>0.0</td>\n",
       "      <td>73752.0</td>\n",
       "      <td>2514.0</td>\n",
       "      <td>0.037310</td>\n",
       "      <td>0.001272</td>\n",
       "      <td>334506.0</td>\n",
       "      <td>93974.0</td>\n",
       "      <td>0.111476</td>\n",
       "      <td>0.031317</td>\n",
       "      <td>2</td>\n",
       "    </tr>\n",
       "  </tbody>\n",
       "</table>\n",
       "<p>3 rows × 21 columns</p>\n",
       "</div>"
      ],
      "text/plain": [
       "   Positif Harian (Jakarta)  Tes Harian  Positif  Harian  \\\n",
       "0                      1159      1297.0             49.0   \n",
       "1                      1616      1425.0             60.0   \n",
       "2                      1834      1371.0             97.0   \n",
       "\n",
       "   Positivity Rate Harian  Vaksinasi 1 Tenaga Kesehatan  \\\n",
       "0                0.037779                      141425.0   \n",
       "1                0.042105                      144046.0   \n",
       "2                0.070751                      177126.0   \n",
       "\n",
       "   Vaksinasi 2 Tenaga Kesehatan  Persentase 1 Tenaga Kesehatan  \\\n",
       "0                       91078.0                       1.259339   \n",
       "1                       91379.0                       1.282678   \n",
       "2                       91460.0                       1.577243   \n",
       "\n",
       "   Persentase 2 Tenaga Kesehatan  Vaksinasi 1 Lansia  Vaksinasi 2 Lansia  ...  \\\n",
       "0                       0.811017             76451.0                 0.0  ...   \n",
       "1                       0.813697             79421.0                 0.0  ...   \n",
       "2                       0.814418             83628.0                 0.0  ...   \n",
       "\n",
       "   Persentase 2 Lansia  Vaksinasi 1 Pelayan Publik  \\\n",
       "0                  0.0                     64121.0   \n",
       "1                  0.0                     66484.0   \n",
       "2                  0.0                     73752.0   \n",
       "\n",
       "   Vaksinasi 2 Pelayan Publik  Persentase 1 Pelayan Publik  \\\n",
       "0                         0.0                     0.032437   \n",
       "1                         0.0                     0.033633   \n",
       "2                      2514.0                     0.037310   \n",
       "\n",
       "   Persentase 2 Pelayan Publik  Vaksinasi 1 Total  Vaksinasi 2 Total  \\\n",
       "0                     0.000000           281997.0            91078.0   \n",
       "1                     0.000000           289951.0            91379.0   \n",
       "2                     0.001272           334506.0            93974.0   \n",
       "\n",
       "   Persentase 1 Total  Persentase 2 Total  Kelas  \n",
       "0            0.093977            0.030352      1  \n",
       "1            0.096628            0.030453      1  \n",
       "2            0.111476            0.031317      2  \n",
       "\n",
       "[3 rows x 21 columns]"
      ]
     },
     "execution_count": 190,
     "metadata": {},
     "output_type": "execute_result"
    }
   ],
   "source": [
    "new_dataframe.head(3)"
   ]
  },
  {
   "cell_type": "markdown",
   "metadata": {},
   "source": [
    "**Mengambil lokasi dari new_dataframe**"
   ]
  },
  {
   "cell_type": "code",
   "execution_count": 191,
   "metadata": {},
   "outputs": [],
   "source": [
    "X = new_dataframe.iloc[:, 1:19].values\n",
    "y = new_dataframe.iloc[:,0].values"
   ]
  },
  {
   "cell_type": "markdown",
   "metadata": {},
   "source": [
    "**Membagi data menjadi data latih dan data uji**"
   ]
  },
  {
   "cell_type": "code",
   "execution_count": 192,
   "metadata": {},
   "outputs": [],
   "source": [
    "from sklearn.model_selection import train_test_split\n",
    "X_train, X_test, y_train, y_test = train_test_split(X, y, test_size=0.15, random_state=0, shuffle=False)"
   ]
  },
  {
   "cell_type": "code",
   "execution_count": 193,
   "metadata": {},
   "outputs": [
    {
     "data": {
      "text/plain": [
       "(32, 18)"
      ]
     },
     "execution_count": 193,
     "metadata": {},
     "output_type": "execute_result"
    }
   ],
   "source": [
    "X_train.shape"
   ]
  },
  {
   "cell_type": "code",
   "execution_count": 194,
   "metadata": {},
   "outputs": [
    {
     "data": {
      "text/plain": [
       "array([ 487,  862, 1239, 1013,  977, 1031], dtype=int64)"
      ]
     },
     "execution_count": 194,
     "metadata": {},
     "output_type": "execute_result"
    }
   ],
   "source": [
    "y_test"
   ]
  },
  {
   "cell_type": "markdown",
   "metadata": {},
   "source": [
    "**Melakukan Feature Scaling terhadap data latih dan data uji**"
   ]
  },
  {
   "cell_type": "code",
   "execution_count": 195,
   "metadata": {},
   "outputs": [],
   "source": [
    "# Feature Scaling\n",
    "from sklearn.preprocessing import StandardScaler\n",
    "sc = StandardScaler()\n",
    "X_train = sc.fit_transform(X_train)\n",
    "X_test = sc.transform(X_test)\n"
   ]
  },
  {
   "cell_type": "markdown",
   "metadata": {},
   "source": [
    "**Cara singkat membuat PCA dengan menggunakan sklearn, jadi tidak perlu menggunakan cara manual, seperti Eigen Decomposition, Singular Value Decomposition**"
   ]
  },
  {
   "cell_type": "code",
   "execution_count": 196,
   "metadata": {},
   "outputs": [
    {
     "data": {
      "text/plain": [
       "array([[-4.89948531, -1.497851  ],\n",
       "       [-4.97539383, -1.57107862],\n",
       "       [-5.93092044, -3.70647592],\n",
       "       [-5.13623767, -4.51218254],\n",
       "       [-3.63026648, -0.26073538],\n",
       "       [-3.47186759,  4.73102788],\n",
       "       [-3.64156629,  1.08002645],\n",
       "       [-3.65018757,  0.75470639],\n",
       "       [-3.03363206,  0.23811175],\n",
       "       [-3.16561818,  1.00754861],\n",
       "       [-2.63168681,  0.0884724 ],\n",
       "       [-2.1160554 ,  1.64741644],\n",
       "       [-1.7396978 ,  1.22319216],\n",
       "       [-0.97930965,  1.56898814],\n",
       "       [-0.67048338,  0.85911946],\n",
       "       [-0.53977578,  0.94191698],\n",
       "       [-0.50246885,  0.29144962],\n",
       "       [-0.14756593, -0.4963555 ],\n",
       "       [ 0.56824662,  0.82186585],\n",
       "       [ 1.21840196,  1.03102713],\n",
       "       [ 1.75495346,  0.68416262],\n",
       "       [ 2.31750839,  0.66505583],\n",
       "       [ 2.52582247,  0.59658816],\n",
       "       [ 2.47569312, -0.71994342],\n",
       "       [ 3.29553142, -0.71777797],\n",
       "       [ 4.07535836,  0.02271984],\n",
       "       [ 4.55927461,  0.03183561],\n",
       "       [ 5.2398107 , -0.34040382],\n",
       "       [ 5.44115723, -0.5443859 ],\n",
       "       [ 5.45984877, -1.33432391],\n",
       "       [ 5.44642524, -0.99062976],\n",
       "       [ 6.48418666, -1.59308759]])"
      ]
     },
     "execution_count": 196,
     "metadata": {},
     "output_type": "execute_result"
    }
   ],
   "source": [
    "# Applying PCA\n",
    "from sklearn.decomposition import PCA\n",
    "pca = PCA(n_components = 2)\n",
    "X_train = pca.fit_transform(X_train)\n",
    "X_test = pca.transform(X_test)\n",
    "X_train"
   ]
  },
  {
   "cell_type": "markdown",
   "metadata": {},
   "source": [
    "**Fitting Logistic Regression untuk Training set**"
   ]
  },
  {
   "cell_type": "code",
   "execution_count": 197,
   "metadata": {
    "scrolled": false
   },
   "outputs": [
    {
     "data": {
      "text/plain": [
       "LogisticRegression(random_state=0)"
      ]
     },
     "execution_count": 197,
     "metadata": {},
     "output_type": "execute_result"
    }
   ],
   "source": [
    "from sklearn.linear_model import LogisticRegression\n",
    "classifier = LogisticRegression(random_state = 0)\n",
    "classifier.fit(X_train, y_train)"
   ]
  },
  {
   "cell_type": "markdown",
   "metadata": {},
   "source": [
    "**Prediksi hasil data uji**"
   ]
  },
  {
   "cell_type": "code",
   "execution_count": 198,
   "metadata": {},
   "outputs": [],
   "source": [
    "y_pred = classifier.predict(X_test)"
   ]
  },
  {
   "cell_type": "markdown",
   "metadata": {},
   "source": [
    "**Membuat Confusion Matrix**"
   ]
  },
  {
   "cell_type": "code",
   "execution_count": 199,
   "metadata": {},
   "outputs": [],
   "source": [
    "from sklearn.metrics import confusion_matrix\n",
    "cm = confusion_matrix(y_test, y_pred)"
   ]
  },
  {
   "cell_type": "markdown",
   "metadata": {},
   "source": [
    "**Visualisasi dari hasil data latih**"
   ]
  },
  {
   "cell_type": "code",
   "execution_count": 200,
   "metadata": {
    "scrolled": false
   },
   "outputs": [
    {
     "name": "stderr",
     "output_type": "stream",
     "text": [
      "*c* argument looks like a single numeric RGB or RGBA sequence, which should be avoided as value-mapping will have precedence in case its length matches with *x* & *y*.  Please use the *color* keyword-argument or provide a 2-D array with a single row if you intend to specify the same RGB or RGBA value for all points.\n",
      "*c* argument looks like a single numeric RGB or RGBA sequence, which should be avoided as value-mapping will have precedence in case its length matches with *x* & *y*.  Please use the *color* keyword-argument or provide a 2-D array with a single row if you intend to specify the same RGB or RGBA value for all points.\n",
      "*c* argument looks like a single numeric RGB or RGBA sequence, which should be avoided as value-mapping will have precedence in case its length matches with *x* & *y*.  Please use the *color* keyword-argument or provide a 2-D array with a single row if you intend to specify the same RGB or RGBA value for all points.\n",
      "*c* argument looks like a single numeric RGB or RGBA sequence, which should be avoided as value-mapping will have precedence in case its length matches with *x* & *y*.  Please use the *color* keyword-argument or provide a 2-D array with a single row if you intend to specify the same RGB or RGBA value for all points.\n",
      "*c* argument looks like a single numeric RGB or RGBA sequence, which should be avoided as value-mapping will have precedence in case its length matches with *x* & *y*.  Please use the *color* keyword-argument or provide a 2-D array with a single row if you intend to specify the same RGB or RGBA value for all points.\n",
      "*c* argument looks like a single numeric RGB or RGBA sequence, which should be avoided as value-mapping will have precedence in case its length matches with *x* & *y*.  Please use the *color* keyword-argument or provide a 2-D array with a single row if you intend to specify the same RGB or RGBA value for all points.\n",
      "*c* argument looks like a single numeric RGB or RGBA sequence, which should be avoided as value-mapping will have precedence in case its length matches with *x* & *y*.  Please use the *color* keyword-argument or provide a 2-D array with a single row if you intend to specify the same RGB or RGBA value for all points.\n",
      "*c* argument looks like a single numeric RGB or RGBA sequence, which should be avoided as value-mapping will have precedence in case its length matches with *x* & *y*.  Please use the *color* keyword-argument or provide a 2-D array with a single row if you intend to specify the same RGB or RGBA value for all points.\n",
      "*c* argument looks like a single numeric RGB or RGBA sequence, which should be avoided as value-mapping will have precedence in case its length matches with *x* & *y*.  Please use the *color* keyword-argument or provide a 2-D array with a single row if you intend to specify the same RGB or RGBA value for all points.\n",
      "*c* argument looks like a single numeric RGB or RGBA sequence, which should be avoided as value-mapping will have precedence in case its length matches with *x* & *y*.  Please use the *color* keyword-argument or provide a 2-D array with a single row if you intend to specify the same RGB or RGBA value for all points.\n",
      "*c* argument looks like a single numeric RGB or RGBA sequence, which should be avoided as value-mapping will have precedence in case its length matches with *x* & *y*.  Please use the *color* keyword-argument or provide a 2-D array with a single row if you intend to specify the same RGB or RGBA value for all points.\n",
      "*c* argument looks like a single numeric RGB or RGBA sequence, which should be avoided as value-mapping will have precedence in case its length matches with *x* & *y*.  Please use the *color* keyword-argument or provide a 2-D array with a single row if you intend to specify the same RGB or RGBA value for all points.\n",
      "*c* argument looks like a single numeric RGB or RGBA sequence, which should be avoided as value-mapping will have precedence in case its length matches with *x* & *y*.  Please use the *color* keyword-argument or provide a 2-D array with a single row if you intend to specify the same RGB or RGBA value for all points.\n",
      "*c* argument looks like a single numeric RGB or RGBA sequence, which should be avoided as value-mapping will have precedence in case its length matches with *x* & *y*.  Please use the *color* keyword-argument or provide a 2-D array with a single row if you intend to specify the same RGB or RGBA value for all points.\n",
      "*c* argument looks like a single numeric RGB or RGBA sequence, which should be avoided as value-mapping will have precedence in case its length matches with *x* & *y*.  Please use the *color* keyword-argument or provide a 2-D array with a single row if you intend to specify the same RGB or RGBA value for all points.\n",
      "*c* argument looks like a single numeric RGB or RGBA sequence, which should be avoided as value-mapping will have precedence in case its length matches with *x* & *y*.  Please use the *color* keyword-argument or provide a 2-D array with a single row if you intend to specify the same RGB or RGBA value for all points.\n",
      "*c* argument looks like a single numeric RGB or RGBA sequence, which should be avoided as value-mapping will have precedence in case its length matches with *x* & *y*.  Please use the *color* keyword-argument or provide a 2-D array with a single row if you intend to specify the same RGB or RGBA value for all points.\n",
      "*c* argument looks like a single numeric RGB or RGBA sequence, which should be avoided as value-mapping will have precedence in case its length matches with *x* & *y*.  Please use the *color* keyword-argument or provide a 2-D array with a single row if you intend to specify the same RGB or RGBA value for all points.\n",
      "*c* argument looks like a single numeric RGB or RGBA sequence, which should be avoided as value-mapping will have precedence in case its length matches with *x* & *y*.  Please use the *color* keyword-argument or provide a 2-D array with a single row if you intend to specify the same RGB or RGBA value for all points.\n",
      "*c* argument looks like a single numeric RGB or RGBA sequence, which should be avoided as value-mapping will have precedence in case its length matches with *x* & *y*.  Please use the *color* keyword-argument or provide a 2-D array with a single row if you intend to specify the same RGB or RGBA value for all points.\n",
      "*c* argument looks like a single numeric RGB or RGBA sequence, which should be avoided as value-mapping will have precedence in case its length matches with *x* & *y*.  Please use the *color* keyword-argument or provide a 2-D array with a single row if you intend to specify the same RGB or RGBA value for all points.\n",
      "*c* argument looks like a single numeric RGB or RGBA sequence, which should be avoided as value-mapping will have precedence in case its length matches with *x* & *y*.  Please use the *color* keyword-argument or provide a 2-D array with a single row if you intend to specify the same RGB or RGBA value for all points.\n",
      "*c* argument looks like a single numeric RGB or RGBA sequence, which should be avoided as value-mapping will have precedence in case its length matches with *x* & *y*.  Please use the *color* keyword-argument or provide a 2-D array with a single row if you intend to specify the same RGB or RGBA value for all points.\n",
      "*c* argument looks like a single numeric RGB or RGBA sequence, which should be avoided as value-mapping will have precedence in case its length matches with *x* & *y*.  Please use the *color* keyword-argument or provide a 2-D array with a single row if you intend to specify the same RGB or RGBA value for all points.\n",
      "*c* argument looks like a single numeric RGB or RGBA sequence, which should be avoided as value-mapping will have precedence in case its length matches with *x* & *y*.  Please use the *color* keyword-argument or provide a 2-D array with a single row if you intend to specify the same RGB or RGBA value for all points.\n",
      "*c* argument looks like a single numeric RGB or RGBA sequence, which should be avoided as value-mapping will have precedence in case its length matches with *x* & *y*.  Please use the *color* keyword-argument or provide a 2-D array with a single row if you intend to specify the same RGB or RGBA value for all points.\n"
     ]
    },
    {
     "name": "stderr",
     "output_type": "stream",
     "text": [
      "*c* argument looks like a single numeric RGB or RGBA sequence, which should be avoided as value-mapping will have precedence in case its length matches with *x* & *y*.  Please use the *color* keyword-argument or provide a 2-D array with a single row if you intend to specify the same RGB or RGBA value for all points.\n",
      "*c* argument looks like a single numeric RGB or RGBA sequence, which should be avoided as value-mapping will have precedence in case its length matches with *x* & *y*.  Please use the *color* keyword-argument or provide a 2-D array with a single row if you intend to specify the same RGB or RGBA value for all points.\n",
      "*c* argument looks like a single numeric RGB or RGBA sequence, which should be avoided as value-mapping will have precedence in case its length matches with *x* & *y*.  Please use the *color* keyword-argument or provide a 2-D array with a single row if you intend to specify the same RGB or RGBA value for all points.\n",
      "*c* argument looks like a single numeric RGB or RGBA sequence, which should be avoided as value-mapping will have precedence in case its length matches with *x* & *y*.  Please use the *color* keyword-argument or provide a 2-D array with a single row if you intend to specify the same RGB or RGBA value for all points.\n",
      "*c* argument looks like a single numeric RGB or RGBA sequence, which should be avoided as value-mapping will have precedence in case its length matches with *x* & *y*.  Please use the *color* keyword-argument or provide a 2-D array with a single row if you intend to specify the same RGB or RGBA value for all points.\n",
      "*c* argument looks like a single numeric RGB or RGBA sequence, which should be avoided as value-mapping will have precedence in case its length matches with *x* & *y*.  Please use the *color* keyword-argument or provide a 2-D array with a single row if you intend to specify the same RGB or RGBA value for all points.\n"
     ]
    },
    {
     "data": {
      "image/png": "[encoded data removed]",
      "text/plain": [
       "<Figure size 1152x504 with 1 Axes>"
      ]
     },
     "metadata": {
      "needs_background": "light"
     },
     "output_type": "display_data"
    }
   ],
   "source": [
    "from matplotlib.colors import ListedColormap\n",
    "X_set, y_set = X_train, y_train\n",
    "X1, X2 = np.meshgrid(np.arange(start = X_set[:, 0].min() - 1, stop = X_set[:, 0].max() + 1, step = 0.01),\n",
    "                     np.arange(start = X_set[:, 1].min() - 1, stop = X_set[:, 1].max() + 1, step = 0.01))\n",
    "plt.contourf(X1, X2, classifier.predict(np.array([X1.ravel(), X2.ravel()]).T).reshape(X1.shape),\n",
    "             alpha = 0.8, cmap = ListedColormap(('red', 'green', 'blue')))\n",
    "plt.xlim(X1.min(), X1.max())\n",
    "plt.ylim(X2.min(), X2.max())\n",
    "for i, j in enumerate(np.unique(y_set)):\n",
    "    plt.scatter(X_set[y_set == j, 0], X_set[y_set == j, 1],\n",
    "                c = ListedColormap(('red', 'green', 'blue'))(i),label=j)\n",
    "plt.title('Logistic Regression (Training set)')\n",
    "figsize(10,8)\n",
    "plt.axis([-10,10,-10,10])\n",
    "plt.xlabel('PC1')\n",
    "plt.ylabel('PC2')\n",
    "plt.legend()\n",
    "plt.show()"
   ]
  },
  {
   "cell_type": "markdown",
   "metadata": {},
   "source": [
    "**Visualisasi dari hasil data uji**"
   ]
  },
  {
   "cell_type": "code",
   "execution_count": 201,
   "metadata": {},
   "outputs": [
    {
     "name": "stderr",
     "output_type": "stream",
     "text": [
      "*c* argument looks like a single numeric RGB or RGBA sequence, which should be avoided as value-mapping will have precedence in case its length matches with *x* & *y*.  Please use the *color* keyword-argument or provide a 2-D array with a single row if you intend to specify the same RGB or RGBA value for all points.\n",
      "*c* argument looks like a single numeric RGB or RGBA sequence, which should be avoided as value-mapping will have precedence in case its length matches with *x* & *y*.  Please use the *color* keyword-argument or provide a 2-D array with a single row if you intend to specify the same RGB or RGBA value for all points.\n",
      "*c* argument looks like a single numeric RGB or RGBA sequence, which should be avoided as value-mapping will have precedence in case its length matches with *x* & *y*.  Please use the *color* keyword-argument or provide a 2-D array with a single row if you intend to specify the same RGB or RGBA value for all points.\n",
      "*c* argument looks like a single numeric RGB or RGBA sequence, which should be avoided as value-mapping will have precedence in case its length matches with *x* & *y*.  Please use the *color* keyword-argument or provide a 2-D array with a single row if you intend to specify the same RGB or RGBA value for all points.\n",
      "*c* argument looks like a single numeric RGB or RGBA sequence, which should be avoided as value-mapping will have precedence in case its length matches with *x* & *y*.  Please use the *color* keyword-argument or provide a 2-D array with a single row if you intend to specify the same RGB or RGBA value for all points.\n",
      "*c* argument looks like a single numeric RGB or RGBA sequence, which should be avoided as value-mapping will have precedence in case its length matches with *x* & *y*.  Please use the *color* keyword-argument or provide a 2-D array with a single row if you intend to specify the same RGB or RGBA value for all points.\n"
     ]
    },
    {
     "data": {
      "image/png": "[encoded data removed]",
      "text/plain": [
       "<Figure size 720x576 with 1 Axes>"
      ]
     },
     "metadata": {
      "needs_background": "light"
     },
     "output_type": "display_data"
    }
   ],
   "source": [
    "from matplotlib.colors import ListedColormap\n",
    "X_set, y_set = X_test, y_test\n",
    "X1, X2 = np.meshgrid(np.arange(start = X_set[:, 0].min() - 1, stop = X_set[:, 0].max() + 1, step = 0.01),\n",
    "                     np.arange(start = X_set[:, 1].min() - 1, stop = X_set[:, 1].max() + 1, step = 0.01))\n",
    "plt.contourf(X1, X2, classifier.predict(np.array([X1.ravel(), X2.ravel()]).T).reshape(X1.shape),\n",
    "             alpha = 0.75, cmap = ListedColormap(('red', 'green', 'blue')))\n",
    "plt.xlim(X1.min(), X1.max())\n",
    "plt.ylim(X2.min(), X2.max())\n",
    "for i, j in enumerate(np.unique(y_set)):\n",
    "    plt.scatter(X_set[y_set == j, 0], X_set[y_set == j, 1],\n",
    "                c = ListedColormap(('red', 'green', 'blue'))(i), label = j)\n",
    "plt.title('Logistic Regression (Test set)')\n",
    "\n",
    "plt.xlabel('PC1')\n",
    "plt.ylabel('PC2')\n",
    "plt.legend()\n",
    "plt.show()"
   ]
  },
  {
   "cell_type": "markdown",
   "metadata": {},
   "source": [
    "Setelah kami membedakan PCA dengan Gradient Boost (langkah ke-3), maka, yang membedakan antara PCA dan Gradient Boost adalah karena sebaran data di PCA tidak sesuai dengan warnanya sehingga terlihat berantakan."
   ]
  },
  {
   "cell_type": "markdown",
   "metadata": {},
   "source": [
    "    "
   ]
  },
  {
   "cell_type": "markdown",
   "metadata": {},
   "source": [
    "# 5. Tambahkan kolom baru pada data langkah 2 dengan nama ’Kelas’, lalu lakukan pembagian sebagai berikut :\n",
    "- Jika nilai kolom Positivity Rate kurang dari 3.3 persen diberi nilai 0\n",
    "- Jika nilai kolom Positivity Rate lebih dari 5.0 persen diberi nilai 2\n",
    "- Sisanya diberi nilai 1\n"
   ]
  },
  {
   "cell_type": "code",
   "execution_count": 202,
   "metadata": {},
   "outputs": [
    {
     "data": {
      "text/html": [
       "<div>\n",
       "<style scoped>\n",
       "    .dataframe tbody tr th:only-of-type {\n",
       "        vertical-align: middle;\n",
       "    }\n",
       "\n",
       "    .dataframe tbody tr th {\n",
       "        vertical-align: top;\n",
       "    }\n",
       "\n",
       "    .dataframe thead th {\n",
       "        text-align: right;\n",
       "    }\n",
       "</style>\n",
       "<table border=\"1\" class=\"dataframe\">\n",
       "  <thead>\n",
       "    <tr style=\"text-align: right;\">\n",
       "      <th></th>\n",
       "      <th>Positif Harian (Jakarta)</th>\n",
       "      <th>Tes Harian</th>\n",
       "      <th>Positif  Harian</th>\n",
       "      <th>Positivity Rate Harian</th>\n",
       "      <th>Vaksinasi 1 Tenaga Kesehatan</th>\n",
       "      <th>Vaksinasi 2 Tenaga Kesehatan</th>\n",
       "      <th>Persentase 1 Tenaga Kesehatan</th>\n",
       "      <th>Persentase 2 Tenaga Kesehatan</th>\n",
       "      <th>Vaksinasi 1 Lansia</th>\n",
       "      <th>Vaksinasi 2 Lansia</th>\n",
       "      <th>...</th>\n",
       "      <th>Persentase 2 Lansia</th>\n",
       "      <th>Vaksinasi 1 Pelayan Publik</th>\n",
       "      <th>Vaksinasi 2 Pelayan Publik</th>\n",
       "      <th>Persentase 1 Pelayan Publik</th>\n",
       "      <th>Persentase 2 Pelayan Publik</th>\n",
       "      <th>Vaksinasi 1 Total</th>\n",
       "      <th>Vaksinasi 2 Total</th>\n",
       "      <th>Persentase 1 Total</th>\n",
       "      <th>Persentase 2 Total</th>\n",
       "      <th>Kelas</th>\n",
       "    </tr>\n",
       "  </thead>\n",
       "  <tbody>\n",
       "    <tr>\n",
       "      <th>32</th>\n",
       "      <td>487</td>\n",
       "      <td>4373.0</td>\n",
       "      <td>75.0</td>\n",
       "      <td>0.017151</td>\n",
       "      <td>122326.0</td>\n",
       "      <td>106437.0</td>\n",
       "      <td>1.089269</td>\n",
       "      <td>0.947783</td>\n",
       "      <td>496569.0</td>\n",
       "      <td>124880.0</td>\n",
       "      <td>...</td>\n",
       "      <td>0.136985</td>\n",
       "      <td>796248.0</td>\n",
       "      <td>349648.0</td>\n",
       "      <td>0.402805</td>\n",
       "      <td>0.176880</td>\n",
       "      <td>1415143.0</td>\n",
       "      <td>580965.0</td>\n",
       "      <td>0.471606</td>\n",
       "      <td>0.193611</td>\n",
       "      <td>0</td>\n",
       "    </tr>\n",
       "    <tr>\n",
       "      <th>33</th>\n",
       "      <td>862</td>\n",
       "      <td>3665.0</td>\n",
       "      <td>74.0</td>\n",
       "      <td>0.020191</td>\n",
       "      <td>122553.0</td>\n",
       "      <td>106800.0</td>\n",
       "      <td>1.091290</td>\n",
       "      <td>0.951016</td>\n",
       "      <td>500370.0</td>\n",
       "      <td>142698.0</td>\n",
       "      <td>...</td>\n",
       "      <td>0.156530</td>\n",
       "      <td>813740.0</td>\n",
       "      <td>369813.0</td>\n",
       "      <td>0.411654</td>\n",
       "      <td>0.187081</td>\n",
       "      <td>1436663.0</td>\n",
       "      <td>619311.0</td>\n",
       "      <td>0.478778</td>\n",
       "      <td>0.206390</td>\n",
       "      <td>0</td>\n",
       "    </tr>\n",
       "    <tr>\n",
       "      <th>34</th>\n",
       "      <td>1239</td>\n",
       "      <td>4306.0</td>\n",
       "      <td>96.0</td>\n",
       "      <td>0.022294</td>\n",
       "      <td>123061.0</td>\n",
       "      <td>107175.0</td>\n",
       "      <td>1.095814</td>\n",
       "      <td>0.954355</td>\n",
       "      <td>507667.0</td>\n",
       "      <td>148824.0</td>\n",
       "      <td>...</td>\n",
       "      <td>0.163250</td>\n",
       "      <td>844961.0</td>\n",
       "      <td>388298.0</td>\n",
       "      <td>0.427448</td>\n",
       "      <td>0.196432</td>\n",
       "      <td>1475689.0</td>\n",
       "      <td>644297.0</td>\n",
       "      <td>0.491783</td>\n",
       "      <td>0.214716</td>\n",
       "      <td>0</td>\n",
       "    </tr>\n",
       "    <tr>\n",
       "      <th>35</th>\n",
       "      <td>1013</td>\n",
       "      <td>4619.0</td>\n",
       "      <td>104.0</td>\n",
       "      <td>0.022516</td>\n",
       "      <td>123387.0</td>\n",
       "      <td>107509.0</td>\n",
       "      <td>1.098717</td>\n",
       "      <td>0.957329</td>\n",
       "      <td>516816.0</td>\n",
       "      <td>166705.0</td>\n",
       "      <td>...</td>\n",
       "      <td>0.182865</td>\n",
       "      <td>866503.0</td>\n",
       "      <td>402918.0</td>\n",
       "      <td>0.438346</td>\n",
       "      <td>0.203828</td>\n",
       "      <td>1506706.0</td>\n",
       "      <td>677132.0</td>\n",
       "      <td>0.502120</td>\n",
       "      <td>0.225659</td>\n",
       "      <td>0</td>\n",
       "    </tr>\n",
       "    <tr>\n",
       "      <th>36</th>\n",
       "      <td>977</td>\n",
       "      <td>4081.0</td>\n",
       "      <td>65.0</td>\n",
       "      <td>0.015927</td>\n",
       "      <td>123474.0</td>\n",
       "      <td>107573.0</td>\n",
       "      <td>1.099492</td>\n",
       "      <td>0.957899</td>\n",
       "      <td>523861.0</td>\n",
       "      <td>173234.0</td>\n",
       "      <td>...</td>\n",
       "      <td>0.190026</td>\n",
       "      <td>880884.0</td>\n",
       "      <td>406805.0</td>\n",
       "      <td>0.445621</td>\n",
       "      <td>0.205794</td>\n",
       "      <td>1528219.0</td>\n",
       "      <td>687612.0</td>\n",
       "      <td>0.509289</td>\n",
       "      <td>0.229151</td>\n",
       "      <td>0</td>\n",
       "    </tr>\n",
       "    <tr>\n",
       "      <th>37</th>\n",
       "      <td>1031</td>\n",
       "      <td>2550.0</td>\n",
       "      <td>59.0</td>\n",
       "      <td>0.023137</td>\n",
       "      <td>123474.0</td>\n",
       "      <td>107573.0</td>\n",
       "      <td>1.099492</td>\n",
       "      <td>0.957899</td>\n",
       "      <td>523861.0</td>\n",
       "      <td>173234.0</td>\n",
       "      <td>...</td>\n",
       "      <td>0.190026</td>\n",
       "      <td>880884.0</td>\n",
       "      <td>406805.0</td>\n",
       "      <td>0.445621</td>\n",
       "      <td>0.205794</td>\n",
       "      <td>1528219.0</td>\n",
       "      <td>687612.0</td>\n",
       "      <td>0.509289</td>\n",
       "      <td>0.229151</td>\n",
       "      <td>0</td>\n",
       "    </tr>\n",
       "  </tbody>\n",
       "</table>\n",
       "<p>6 rows × 21 columns</p>\n",
       "</div>"
      ],
      "text/plain": [
       "    Positif Harian (Jakarta)  Tes Harian  Positif  Harian  \\\n",
       "32                       487      4373.0             75.0   \n",
       "33                       862      3665.0             74.0   \n",
       "34                      1239      4306.0             96.0   \n",
       "35                      1013      4619.0            104.0   \n",
       "36                       977      4081.0             65.0   \n",
       "37                      1031      2550.0             59.0   \n",
       "\n",
       "    Positivity Rate Harian  Vaksinasi 1 Tenaga Kesehatan  \\\n",
       "32                0.017151                      122326.0   \n",
       "33                0.020191                      122553.0   \n",
       "34                0.022294                      123061.0   \n",
       "35                0.022516                      123387.0   \n",
       "36                0.015927                      123474.0   \n",
       "37                0.023137                      123474.0   \n",
       "\n",
       "    Vaksinasi 2 Tenaga Kesehatan  Persentase 1 Tenaga Kesehatan  \\\n",
       "32                      106437.0                       1.089269   \n",
       "33                      106800.0                       1.091290   \n",
       "34                      107175.0                       1.095814   \n",
       "35                      107509.0                       1.098717   \n",
       "36                      107573.0                       1.099492   \n",
       "37                      107573.0                       1.099492   \n",
       "\n",
       "    Persentase 2 Tenaga Kesehatan  Vaksinasi 1 Lansia  Vaksinasi 2 Lansia  \\\n",
       "32                       0.947783            496569.0            124880.0   \n",
       "33                       0.951016            500370.0            142698.0   \n",
       "34                       0.954355            507667.0            148824.0   \n",
       "35                       0.957329            516816.0            166705.0   \n",
       "36                       0.957899            523861.0            173234.0   \n",
       "37                       0.957899            523861.0            173234.0   \n",
       "\n",
       "    ...  Persentase 2 Lansia  Vaksinasi 1 Pelayan Publik  \\\n",
       "32  ...             0.136985                    796248.0   \n",
       "33  ...             0.156530                    813740.0   \n",
       "34  ...             0.163250                    844961.0   \n",
       "35  ...             0.182865                    866503.0   \n",
       "36  ...             0.190026                    880884.0   \n",
       "37  ...             0.190026                    880884.0   \n",
       "\n",
       "    Vaksinasi 2 Pelayan Publik  Persentase 1 Pelayan Publik  \\\n",
       "32                    349648.0                     0.402805   \n",
       "33                    369813.0                     0.411654   \n",
       "34                    388298.0                     0.427448   \n",
       "35                    402918.0                     0.438346   \n",
       "36                    406805.0                     0.445621   \n",
       "37                    406805.0                     0.445621   \n",
       "\n",
       "    Persentase 2 Pelayan Publik  Vaksinasi 1 Total  Vaksinasi 2 Total  \\\n",
       "32                     0.176880          1415143.0           580965.0   \n",
       "33                     0.187081          1436663.0           619311.0   \n",
       "34                     0.196432          1475689.0           644297.0   \n",
       "35                     0.203828          1506706.0           677132.0   \n",
       "36                     0.205794          1528219.0           687612.0   \n",
       "37                     0.205794          1528219.0           687612.0   \n",
       "\n",
       "    Persentase 1 Total  Persentase 2 Total  Kelas  \n",
       "32            0.471606            0.193611      0  \n",
       "33            0.478778            0.206390      0  \n",
       "34            0.491783            0.214716      0  \n",
       "35            0.502120            0.225659      0  \n",
       "36            0.509289            0.229151      0  \n",
       "37            0.509289            0.229151      0  \n",
       "\n",
       "[6 rows x 21 columns]"
      ]
     },
     "execution_count": 202,
     "metadata": {},
     "output_type": "execute_result"
    }
   ],
   "source": [
    "new_dataframe.tail(6)"
   ]
  },
  {
   "cell_type": "markdown",
   "metadata": {},
   "source": [
    "<h2>Setelah melihat isi data kembali, langkah selanjutnya adalah membuat sebuah kolom baru yang bernamakan \"Kelas\".</h2>"
   ]
  },
  {
   "cell_type": "code",
   "execution_count": 203,
   "metadata": {},
   "outputs": [],
   "source": [
    "new_dataframe['Kelas'] = 0"
   ]
  },
  {
   "cell_type": "markdown",
   "metadata": {},
   "source": [
    "<h2>Lalu, langkah selanjutnya adalah membuat beberapa kondisi, yang dimana bertujuan untuk menentukan nilai-nilai dari setiap data</h2>"
   ]
  },
  {
   "cell_type": "code",
   "execution_count": 204,
   "metadata": {},
   "outputs": [
    {
     "name": "stderr",
     "output_type": "stream",
     "text": [
      "<ipython-input-204-ab45ca49b50e>:7: SettingWithCopyWarning: \n",
      "A value is trying to be set on a copy of a slice from a DataFrame\n",
      "\n",
      "See the caveats in the documentation: https://pandas.pydata.org/pandas-docs/stable/user_guide/indexing.html#returning-a-view-versus-a-copy\n",
      "  new_dataframe['Kelas'][i] = 1\n",
      "<ipython-input-204-ab45ca49b50e>:5: SettingWithCopyWarning: \n",
      "A value is trying to be set on a copy of a slice from a DataFrame\n",
      "\n",
      "See the caveats in the documentation: https://pandas.pydata.org/pandas-docs/stable/user_guide/indexing.html#returning-a-view-versus-a-copy\n",
      "  new_dataframe['Kelas'][i] = 2\n",
      "<ipython-input-204-ab45ca49b50e>:3: SettingWithCopyWarning: \n",
      "A value is trying to be set on a copy of a slice from a DataFrame\n",
      "\n",
      "See the caveats in the documentation: https://pandas.pydata.org/pandas-docs/stable/user_guide/indexing.html#returning-a-view-versus-a-copy\n",
      "  new_dataframe['Kelas'][i] = 0\n"
     ]
    }
   ],
   "source": [
    "\n",
    "for i in range(0,len(new_dataframe)):\n",
    "    if 0 < new_dataframe['Positivity Rate Harian'][i] < 0.033:\n",
    "        new_dataframe['Kelas'][i] = 0\n",
    "    elif 0 < new_dataframe['Positivity Rate Harian'][i] > 0.05:\n",
    "        new_dataframe['Kelas'][i] = 2\n",
    "    else:\n",
    "        new_dataframe['Kelas'][i] = 1"
   ]
  },
  {
   "cell_type": "markdown",
   "metadata": {},
   "source": [
    "<h2>Maka, hasil yang didapat dari nilai-nilai tersebut dapat dilihat dibawah :</h2>"
   ]
  },
  {
   "cell_type": "code",
   "execution_count": 205,
   "metadata": {},
   "outputs": [
    {
     "data": {
      "text/plain": [
       "0     1\n",
       "1     1\n",
       "2     2\n",
       "3     1\n",
       "4     1\n",
       "5     0\n",
       "6     1\n",
       "7     2\n",
       "8     1\n",
       "9     1\n",
       "10    1\n",
       "11    0\n",
       "12    0\n",
       "13    0\n",
       "14    0\n",
       "15    0\n",
       "16    0\n",
       "17    1\n",
       "18    0\n",
       "19    0\n",
       "20    0\n",
       "21    0\n",
       "22    0\n",
       "23    1\n",
       "24    0\n",
       "25    0\n",
       "26    0\n",
       "27    0\n",
       "28    0\n",
       "29    0\n",
       "30    0\n",
       "31    0\n",
       "32    0\n",
       "33    0\n",
       "34    0\n",
       "35    0\n",
       "36    0\n",
       "37    0\n",
       "Name: Kelas, dtype: int64"
      ]
     },
     "execution_count": 205,
     "metadata": {},
     "output_type": "execute_result"
    }
   ],
   "source": [
    "new_dataframe['Kelas']"
   ]
  },
  {
   "cell_type": "code",
   "execution_count": 206,
   "metadata": {},
   "outputs": [],
   "source": [
    "#  Mengambil data dari kolom Kelas \n",
    "X = new_dataframe.iloc[:, -1].values\n",
    "y = new_dataframe.iloc[:, 0].values"
   ]
  },
  {
   "cell_type": "code",
   "execution_count": 207,
   "metadata": {},
   "outputs": [
    {
     "data": {
      "text/plain": [
       "array([1, 1, 2, 1, 1, 0, 1, 2, 1, 1, 1, 0, 0, 0, 0, 0, 0, 1, 0, 0, 0, 0,\n",
       "       0, 1, 0, 0, 0, 0, 0, 0, 0, 0, 0, 0, 0, 0, 0, 0], dtype=int64)"
      ]
     },
     "execution_count": 207,
     "metadata": {},
     "output_type": "execute_result"
    }
   ],
   "source": [
    "X"
   ]
  },
  {
   "cell_type": "code",
   "execution_count": 208,
   "metadata": {},
   "outputs": [],
   "source": [
    "from sklearn.model_selection import train_test_split\n",
    "X_train, X_test, y_train, y_test = train_test_split(X, y, test_size=0.15, random_state=0, shuffle=False)"
   ]
  },
  {
   "cell_type": "code",
   "execution_count": 209,
   "metadata": {},
   "outputs": [
    {
     "data": {
      "text/plain": [
       "array([0, 0, 0, 0, 0, 0], dtype=int64)"
      ]
     },
     "execution_count": 209,
     "metadata": {},
     "output_type": "execute_result"
    }
   ],
   "source": [
    "X_test"
   ]
  },
  {
   "cell_type": "code",
   "execution_count": 210,
   "metadata": {},
   "outputs": [],
   "source": [
    "X_train = X_train.reshape(-1,1)\n",
    "X_test = X_test.reshape(-1,1)"
   ]
  },
  {
   "cell_type": "code",
   "execution_count": 211,
   "metadata": {},
   "outputs": [],
   "source": [
    "# Feature Scaling\n",
    "from sklearn.preprocessing import StandardScaler\n",
    "sc = StandardScaler()\n",
    "X_train = sc.fit_transform(X_train)\n",
    "X_test = sc.transform(X_test)"
   ]
  },
  {
   "cell_type": "code",
   "execution_count": 212,
   "metadata": {},
   "outputs": [
    {
     "data": {
      "text/plain": [
       "array([[-0.71818485],\n",
       "       [-0.71818485],\n",
       "       [-0.71818485],\n",
       "       [-0.71818485],\n",
       "       [-0.71818485],\n",
       "       [-0.71818485]])"
      ]
     },
     "execution_count": 212,
     "metadata": {},
     "output_type": "execute_result"
    }
   ],
   "source": [
    "X_test"
   ]
  },
  {
   "cell_type": "markdown",
   "metadata": {},
   "source": [
    "# 6. Dari data pada langkah 5, lakukanlah klasifikasi dengan membuat model machine learning sebagai berikut:\n",
    "- Voting Classifiers yang di dalamnya terdapat beberapa model, yaitu: RandomForestClassifier, Voting Classifier, Logistic Regression\n",
    "- AdaBoost\n",
    "Analisa:\n",
    "- Berdasarkan pengamatan Anda, tentukan model mana yang menurut Anda paling\n",
    "baik dan jelaskan!\n"
   ]
  },
  {
   "cell_type": "markdown",
   "metadata": {},
   "source": [
    "# Voting Classifiers"
   ]
  },
  {
   "cell_type": "code",
   "execution_count": 213,
   "metadata": {},
   "outputs": [],
   "source": [
    "from sklearn.ensemble import RandomForestClassifier\n",
    "from sklearn.ensemble import VotingClassifier\n",
    "from sklearn.linear_model import LogisticRegression\n",
    "from sklearn.svm import SVC\n",
    "\n",
    "log_clf = LogisticRegression(solver=\"lbfgs\", random_state=42)\n",
    "rnd_clf = RandomForestClassifier(n_estimators=100, random_state=42)\n",
    "svm_clf = SVC(gamma=\"scale\", random_state=42)\n",
    "\n",
    "voting_clf = VotingClassifier(\n",
    "    estimators=[('lr', log_clf), ('rf', rnd_clf), ('svc', svm_clf)],\n",
    "    voting='hard')"
   ]
  },
  {
   "cell_type": "code",
   "execution_count": 214,
   "metadata": {},
   "outputs": [
    {
     "data": {
      "text/plain": [
       "VotingClassifier(estimators=[('lr', LogisticRegression(random_state=42)),\n",
       "                             ('rf', RandomForestClassifier(random_state=42)),\n",
       "                             ('svc', SVC(random_state=42))])"
      ]
     },
     "execution_count": 214,
     "metadata": {},
     "output_type": "execute_result"
    }
   ],
   "source": [
    "voting_clf.fit(X_train, y_train)"
   ]
  },
  {
   "cell_type": "markdown",
   "metadata": {},
   "source": [
    "**Perbandingan Logistic Regression, Random Forest Classifier, dan SVC**"
   ]
  },
  {
   "cell_type": "code",
   "execution_count": 215,
   "metadata": {},
   "outputs": [
    {
     "name": "stdout",
     "output_type": "stream",
     "text": [
      "LogisticRegression 0.0\n",
      "RandomForestClassifier 0.0\n",
      "SVC 0.0\n",
      "VotingClassifier 0.0\n"
     ]
    }
   ],
   "source": [
    "from sklearn.metrics import accuracy_score\n",
    "\n",
    "for clf in (log_clf, rnd_clf, svm_clf, voting_clf):\n",
    "    clf.fit(X_train, y_train)\n",
    "    y_pred = clf.predict(X_test)\n",
    "    print(clf.__class__.__name__, accuracy_score(y_test, y_pred))"
   ]
  },
  {
   "cell_type": "code",
   "execution_count": 216,
   "metadata": {},
   "outputs": [
    {
     "data": {
      "text/plain": [
       "array([1937, 1937, 1937, 1937, 1937, 1937], dtype=int64)"
      ]
     },
     "execution_count": 216,
     "metadata": {},
     "output_type": "execute_result"
    }
   ],
   "source": [
    "y_pred"
   ]
  },
  {
   "cell_type": "markdown",
   "metadata": {},
   "source": [
    "# Ada Boost"
   ]
  },
  {
   "cell_type": "code",
   "execution_count": 217,
   "metadata": {},
   "outputs": [
    {
     "data": {
      "text/plain": [
       "(32, 1)"
      ]
     },
     "execution_count": 217,
     "metadata": {},
     "output_type": "execute_result"
    }
   ],
   "source": [
    "X_train.shape"
   ]
  },
  {
   "cell_type": "code",
   "execution_count": 218,
   "metadata": {},
   "outputs": [
    {
     "data": {
      "text/plain": [
       "(32,)"
      ]
     },
     "execution_count": 218,
     "metadata": {},
     "output_type": "execute_result"
    }
   ],
   "source": [
    "y_train.shape"
   ]
  },
  {
   "cell_type": "markdown",
   "metadata": {},
   "source": [
    "**Klasifikasi dari data asli**"
   ]
  },
  {
   "cell_type": "code",
   "execution_count": 219,
   "metadata": {},
   "outputs": [
    {
     "data": {
      "text/plain": [
       "AdaBoostClassifier(base_estimator=DecisionTreeClassifier(max_depth=1),\n",
       "                   learning_rate=0.5, n_estimators=200, random_state=42)"
      ]
     },
     "execution_count": 219,
     "metadata": {},
     "output_type": "execute_result"
    }
   ],
   "source": [
    "from sklearn.ensemble import AdaBoostClassifier\n",
    "from sklearn.tree import DecisionTreeClassifier\n",
    "\n",
    "ada_clf = AdaBoostClassifier(\n",
    "    DecisionTreeClassifier(max_depth=1), n_estimators=200,\n",
    "    algorithm=\"SAMME.R\", learning_rate=0.5, random_state=42)\n",
    "ada_clf.fit(X_train, y_train)"
   ]
  },
  {
   "cell_type": "code",
   "execution_count": 220,
   "metadata": {},
   "outputs": [
    {
     "data": {
      "text/plain": [
       "array([384, 384, 384, 384, 384, 384], dtype=int64)"
      ]
     },
     "execution_count": 220,
     "metadata": {},
     "output_type": "execute_result"
    }
   ],
   "source": [
    "y_pred1 = ada_clf.predict(X_test)\n",
    "y_pred1"
   ]
  },
  {
   "cell_type": "code",
   "execution_count": 221,
   "metadata": {},
   "outputs": [
    {
     "name": "stdout",
     "output_type": "stream",
     "text": [
      "0.0\n"
     ]
    }
   ],
   "source": [
    " print(accuracy_score(y_test, y_pred1))"
   ]
  },
  {
   "cell_type": "markdown",
   "metadata": {},
   "source": [
    "**Kami memilih Voting Classifier sebagai model yang paling baik, karena Voting Classifier berisi kumpulan (multi-model) jenis model yang nantinya model terbaik akan ditentukan berdasarkan hasil voting, sedangkan AdaBoost berisi sebuah (single-model) jenis model.**"
   ]
  }
 ],
 "metadata": {
  "colab": {
   "collapsed_sections": [],
   "name": "haha.ipynb",
   "provenance": []
  },
  "kernelspec": {
   "display_name": "Python 3",
   "language": "python",
   "name": "python3"
  },
  "language_info": {
   "codemirror_mode": {
    "name": "ipython",
    "version": 3
   },
   "file_extension": ".py",
   "mimetype": "text/x-python",
   "name": "python",
   "nbconvert_exporter": "python",
   "pygments_lexer": "ipython3",
   "version": "3.9.1"
  }
 },
 "nbformat": 4,
 "nbformat_minor": 1
}
